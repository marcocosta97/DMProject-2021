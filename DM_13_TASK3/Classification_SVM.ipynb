{
 "cells": [
  {
   "cell_type": "code",
   "execution_count": 136,
   "metadata": {},
   "outputs": [],
   "source": [
    "import math\n",
    "import numpy as np\n",
    "import pandas as pd\n",
    "\n",
    "import matplotlib\n",
    "import matplotlib.pyplot as plt\n",
    "from matplotlib.colors import ListedColormap\n",
    "from mpl_toolkits.mplot3d import Axes3D\n",
    "matplotlib.rcParams['figure.dpi'] = 80\n",
    "\n",
    "import seaborn as sns\n",
    "sns.set_context(\"paper\")\n",
    "sns.set_style(\"whitegrid\", {'grid.linestyle': '--'})"
   ]
  },
  {
   "cell_type": "code",
   "execution_count": 137,
   "metadata": {},
   "outputs": [],
   "source": [
    "players = pd.read_pickle('./dataset/final_players.pkl')"
   ]
  },
  {
   "cell_type": "code",
   "execution_count": 138,
   "metadata": {},
   "outputs": [],
   "source": [
    "players= players[players[\"stats_match_count\"]>=6]"
   ]
  },
  {
   "cell_type": "code",
   "execution_count": 139,
   "metadata": {},
   "outputs": [],
   "source": [
    "players['top_player'] = (players['l1_sf_match_count'] + players['l2_sf_match_count'] > 0).astype(int)"
   ]
  },
  {
   "cell_type": "code",
   "execution_count": 140,
   "metadata": {},
   "outputs": [],
   "source": [
    "rank_cols = list(filter(lambda s : 'rank_sem' in s, players.columns))\n",
    "players['under_50'] = ((players[rank_cols] <= 50).sum(axis=1) != 0).astype(int)"
   ]
  },
  {
   "cell_type": "code",
   "execution_count": 141,
   "metadata": {},
   "outputs": [],
   "source": [
    "players.loc[(players['under_50'] == 1) & (players['top_player'] == 0), 'top_player'] = 1"
   ]
  },
  {
   "cell_type": "code",
   "execution_count": 142,
   "metadata": {},
   "outputs": [
    {
     "data": {
      "text/plain": [
       "0    1607\n",
       "1     347\n",
       "Name: top_player, dtype: int64"
      ]
     },
     "execution_count": 142,
     "metadata": {},
     "output_type": "execute_result"
    }
   ],
   "source": [
    "players['top_player'].value_counts()"
   ]
  },
  {
   "cell_type": "code",
   "execution_count": 143,
   "metadata": {},
   "outputs": [],
   "source": [
    "players['sex'] = np.where(players['sex'] == 'm', 1, 0)"
   ]
  },
  {
   "cell_type": "code",
   "execution_count": 145,
   "metadata": {},
   "outputs": [],
   "source": [
    "input_features = ['ace_mean','w_ratio', 'svpt_w_ratio', 'svpt_1st_fail_ratio','bp_w_ratio', 'bp_saved_ratio']\n"
   ]
  },
  {
   "cell_type": "code",
   "execution_count": 146,
   "metadata": {},
   "outputs": [],
   "source": [
    "to_drop = [x for x in players.columns if x not in input_features + ['top_player']]\n",
    "players = players.drop(columns=to_drop)"
   ]
  },
  {
   "cell_type": "code",
   "execution_count": 147,
   "metadata": {},
   "outputs": [],
   "source": [
    "players = players.dropna()"
   ]
  },
  {
   "cell_type": "code",
   "execution_count": 148,
   "metadata": {},
   "outputs": [
    {
     "data": {
      "text/plain": [
       "0    1607\n",
       "1     347\n",
       "Name: top_player, dtype: int64"
      ]
     },
     "execution_count": 148,
     "metadata": {},
     "output_type": "execute_result"
    }
   ],
   "source": [
    "players['top_player'].value_counts()"
   ]
  },
  {
   "cell_type": "code",
   "execution_count": 152,
   "metadata": {},
   "outputs": [],
   "source": [
    "from sklearn.model_selection import train_test_split\n",
    "label = players.pop('top_player')\n",
    "train_set, test_set, train_label, test_label = train_test_split(players, label, stratify=label, test_size=0.25, random_state=13)"
   ]
  },
  {
   "cell_type": "code",
   "execution_count": 155,
   "metadata": {},
   "outputs": [],
   "source": [
    "from sklearn.model_selection import StratifiedKFold\n",
    "\n",
    "stratified_kf= StratifiedKFold(\n",
    "    n_splits=5,\n",
    "    shuffle=True,\n",
    "    random_state=13\n",
    ")"
   ]
  },
  {
   "cell_type": "markdown",
   "metadata": {},
   "source": [
    "# SVM"
   ]
  },
  {
   "cell_type": "code",
   "execution_count": 156,
   "metadata": {},
   "outputs": [],
   "source": [
    "from sklearn.svm import SVC\n",
    "from sklearn import svm\n",
    "from sklearn.model_selection import GridSearchCV, RandomizedSearchCV\n",
    "from sklearn.metrics import confusion_matrix,classification_report\n",
    "from sklearn.metrics import accuracy_score\n",
    "from sklearn.preprocessing import StandardScaler, MinMaxScaler\n",
    "from sklearn.metrics import roc_auc_score, make_scorer\n",
    "from sklearn.metrics import RocCurveDisplay\n",
    "from scipy.stats import loguniform"
   ]
  },
  {
   "cell_type": "markdown",
   "metadata": {},
   "source": [
    "## Preprocessing"
   ]
  },
  {
   "cell_type": "code",
   "execution_count": 157,
   "metadata": {},
   "outputs": [],
   "source": [
    "#Preprocessing\n",
    "scaler = MinMaxScaler()\n",
    "train_set = scaler.fit_transform(train_set.values)\n",
    "test_set = scaler.fit_transform(test_set.values)"
   ]
  },
  {
   "cell_type": "code",
   "execution_count": 158,
   "metadata": {},
   "outputs": [],
   "source": [
    "scoring = {\"AUC\": \"roc_auc\", \"Acc\": \"accuracy\"}"
   ]
  },
  {
   "cell_type": "markdown",
   "metadata": {},
   "source": [
    "## Linear kernel"
   ]
  },
  {
   "cell_type": "code",
   "execution_count": 185,
   "metadata": {
    "scrolled": true
   },
   "outputs": [
    {
     "name": "stdout",
     "output_type": "stream",
     "text": [
      "{'C': 6.87219347594626, 'class_weight': 'balanced'}\n",
      "0.8475263325885732\n"
     ]
    }
   ],
   "source": [
    "#Kernel lineare Con Grid Search\n",
    "param_lin_grid = {'C': loguniform(0.1, 3000), \n",
    "                  'class_weight' : ['balanced']}\n",
    "lin_grid = RandomizedSearchCV(SVC(kernel='linear'), \n",
    "                              param_lin_grid,\n",
    "                              refit='AUC', \n",
    "                              return_train_score=True,\n",
    "                              scoring=scoring, \n",
    "                              n_jobs=8, \n",
    "                              cv=stratified_kf, \n",
    "                              n_iter= 2000, \n",
    "                              random_state=13)\n",
    "lin_grid.fit(train_set,train_label)\n",
    "#Parametri Migliori\n",
    "print(lin_grid.best_params_)\n",
    "print(lin_grid.best_score_)"
   ]
  },
  {
   "cell_type": "code",
   "execution_count": 186,
   "metadata": {},
   "outputs": [],
   "source": [
    "results_df = pd.DataFrame(lin_grid.cv_results_)"
   ]
  },
  {
   "cell_type": "code",
   "execution_count": 187,
   "metadata": {},
   "outputs": [
    {
     "data": {
      "text/html": [
       "<div>\n",
       "<style scoped>\n",
       "    .dataframe tbody tr th:only-of-type {\n",
       "        vertical-align: middle;\n",
       "    }\n",
       "\n",
       "    .dataframe tbody tr th {\n",
       "        vertical-align: top;\n",
       "    }\n",
       "\n",
       "    .dataframe thead th {\n",
       "        text-align: right;\n",
       "    }\n",
       "</style>\n",
       "<table border=\"1\" class=\"dataframe\">\n",
       "  <thead>\n",
       "    <tr style=\"text-align: right;\">\n",
       "      <th></th>\n",
       "      <th>mean_test_AUC</th>\n",
       "      <th>mean_test_Acc</th>\n",
       "    </tr>\n",
       "  </thead>\n",
       "  <tbody>\n",
       "    <tr>\n",
       "      <th>422</th>\n",
       "      <td>0.847064</td>\n",
       "      <td>0.730375</td>\n",
       "    </tr>\n",
       "    <tr>\n",
       "      <th>1289</th>\n",
       "      <td>0.847111</td>\n",
       "      <td>0.730375</td>\n",
       "    </tr>\n",
       "    <tr>\n",
       "      <th>1136</th>\n",
       "      <td>0.847016</td>\n",
       "      <td>0.730375</td>\n",
       "    </tr>\n",
       "    <tr>\n",
       "      <th>1449</th>\n",
       "      <td>0.847016</td>\n",
       "      <td>0.730375</td>\n",
       "    </tr>\n",
       "    <tr>\n",
       "      <th>438</th>\n",
       "      <td>0.847095</td>\n",
       "      <td>0.730375</td>\n",
       "    </tr>\n",
       "    <tr>\n",
       "      <th>586</th>\n",
       "      <td>0.847095</td>\n",
       "      <td>0.730375</td>\n",
       "    </tr>\n",
       "    <tr>\n",
       "      <th>1326</th>\n",
       "      <td>0.847127</td>\n",
       "      <td>0.730375</td>\n",
       "    </tr>\n",
       "    <tr>\n",
       "      <th>1377</th>\n",
       "      <td>0.847079</td>\n",
       "      <td>0.730375</td>\n",
       "    </tr>\n",
       "    <tr>\n",
       "      <th>1751</th>\n",
       "      <td>0.847079</td>\n",
       "      <td>0.730375</td>\n",
       "    </tr>\n",
       "    <tr>\n",
       "      <th>222</th>\n",
       "      <td>0.847064</td>\n",
       "      <td>0.729693</td>\n",
       "    </tr>\n",
       "  </tbody>\n",
       "</table>\n",
       "</div>"
      ],
      "text/plain": [
       "      mean_test_AUC  mean_test_Acc\n",
       "422        0.847064       0.730375\n",
       "1289       0.847111       0.730375\n",
       "1136       0.847016       0.730375\n",
       "1449       0.847016       0.730375\n",
       "438        0.847095       0.730375\n",
       "586        0.847095       0.730375\n",
       "1326       0.847127       0.730375\n",
       "1377       0.847079       0.730375\n",
       "1751       0.847079       0.730375\n",
       "222        0.847064       0.729693"
      ]
     },
     "execution_count": 187,
     "metadata": {},
     "output_type": "execute_result"
    }
   ],
   "source": [
    "results_df[['mean_test_AUC', 'mean_test_Acc']].sort_values('mean_test_Acc', ascending=False).head(10)"
   ]
  },
  {
   "cell_type": "code",
   "execution_count": 192,
   "metadata": {},
   "outputs": [
    {
     "data": {
      "text/html": [
       "<div>\n",
       "<style scoped>\n",
       "    .dataframe tbody tr th:only-of-type {\n",
       "        vertical-align: middle;\n",
       "    }\n",
       "\n",
       "    .dataframe tbody tr th {\n",
       "        vertical-align: top;\n",
       "    }\n",
       "\n",
       "    .dataframe thead th {\n",
       "        text-align: right;\n",
       "    }\n",
       "</style>\n",
       "<table border=\"1\" class=\"dataframe\">\n",
       "  <thead>\n",
       "    <tr style=\"text-align: right;\">\n",
       "      <th></th>\n",
       "      <th>mean_test_AUC</th>\n",
       "      <th>mean_test_Acc</th>\n",
       "    </tr>\n",
       "  </thead>\n",
       "  <tbody>\n",
       "    <tr>\n",
       "      <th>1164</th>\n",
       "      <td>0.847526</td>\n",
       "      <td>0.724232</td>\n",
       "    </tr>\n",
       "    <tr>\n",
       "      <th>834</th>\n",
       "      <td>0.847526</td>\n",
       "      <td>0.724232</td>\n",
       "    </tr>\n",
       "    <tr>\n",
       "      <th>540</th>\n",
       "      <td>0.847526</td>\n",
       "      <td>0.724232</td>\n",
       "    </tr>\n",
       "    <tr>\n",
       "      <th>1221</th>\n",
       "      <td>0.847510</td>\n",
       "      <td>0.724915</td>\n",
       "    </tr>\n",
       "    <tr>\n",
       "      <th>1988</th>\n",
       "      <td>0.847510</td>\n",
       "      <td>0.724915</td>\n",
       "    </tr>\n",
       "    <tr>\n",
       "      <th>810</th>\n",
       "      <td>0.847494</td>\n",
       "      <td>0.723549</td>\n",
       "    </tr>\n",
       "    <tr>\n",
       "      <th>1560</th>\n",
       "      <td>0.847494</td>\n",
       "      <td>0.724915</td>\n",
       "    </tr>\n",
       "    <tr>\n",
       "      <th>850</th>\n",
       "      <td>0.847478</td>\n",
       "      <td>0.724232</td>\n",
       "    </tr>\n",
       "    <tr>\n",
       "      <th>1002</th>\n",
       "      <td>0.847478</td>\n",
       "      <td>0.724915</td>\n",
       "    </tr>\n",
       "    <tr>\n",
       "      <th>1574</th>\n",
       "      <td>0.847478</td>\n",
       "      <td>0.722867</td>\n",
       "    </tr>\n",
       "  </tbody>\n",
       "</table>\n",
       "</div>"
      ],
      "text/plain": [
       "      mean_test_AUC  mean_test_Acc\n",
       "1164       0.847526       0.724232\n",
       "834        0.847526       0.724232\n",
       "540        0.847526       0.724232\n",
       "1221       0.847510       0.724915\n",
       "1988       0.847510       0.724915\n",
       "810        0.847494       0.723549\n",
       "1560       0.847494       0.724915\n",
       "850        0.847478       0.724232\n",
       "1002       0.847478       0.724915\n",
       "1574       0.847478       0.722867"
      ]
     },
     "execution_count": 192,
     "metadata": {},
     "output_type": "execute_result"
    }
   ],
   "source": [
    "results_df.loc[results_df['mean_test_Acc'] > 0.72, ['mean_test_AUC', 'mean_test_Acc']].sort_values('mean_test_AUC', ascending=False).head(10)"
   ]
  },
  {
   "cell_type": "code",
   "execution_count": 193,
   "metadata": {},
   "outputs": [
    {
     "data": {
      "text/plain": [
       "SVC(C=6.87219347594626, class_weight='balanced', kernel='linear')"
      ]
     },
     "execution_count": 193,
     "metadata": {},
     "output_type": "execute_result"
    }
   ],
   "source": [
    "lin_refit = SVC(kernel='linear', **(lin_grid.best_params_)).fit(train_set, train_label)\n",
    "lin_refit"
   ]
  },
  {
   "cell_type": "code",
   "execution_count": 194,
   "metadata": {
    "scrolled": true
   },
   "outputs": [],
   "source": [
    "lin_refit_predict_train = lin_refit.predict(train_set)\n",
    "lin_refit_predict_test = lin_refit.predict(test_set)"
   ]
  },
  {
   "cell_type": "code",
   "execution_count": 174,
   "metadata": {},
   "outputs": [],
   "source": [
    "from sklearn import metrics\n",
    "from sklearn.metrics import confusion_matrix\n",
    "from sklearn.metrics import classification_report\n",
    "\n",
    "divider = '_' * 60\n",
    "def print_stats(svc, train_pred, test_pred):\n",
    "    print(divider)\n",
    "    print('Accuracy train set ', metrics.accuracy_score(train_label, train_pred))\n",
    "    print('Accuracy test set ', metrics.accuracy_score(test_label, test_pred))\n",
    "    print('Precision train set ', metrics.precision_score(train_label, train_pred, average='weighted'))\n",
    "    print('Recall train set ', metrics.recall_score(train_label, train_pred, average='weighted'))\n",
    "    print('F1 score train set ', metrics.f1_score(train_label, train_pred, average='weighted'))\n",
    "    print(divider)\n",
    "    print(classification_report(test_label, test_pred))\n",
    "    print(divider)\n",
    "    sns.heatmap(confusion_matrix(test_label, test_pred, normalize='true'), annot=True, cmap='Blues', fmt='g')\n",
    "    plt.show()"
   ]
  },
  {
   "cell_type": "code",
   "execution_count": 195,
   "metadata": {},
   "outputs": [
    {
     "name": "stdout",
     "output_type": "stream",
     "text": [
      "____________________________________________________________\n",
      "Accuracy train set  0.7262798634812286\n",
      "Accuracy test set  0.49693251533742333\n",
      "Precision train set  0.847045562775756\n",
      "Recall train set  0.7262798634812286\n",
      "F1 score train set  0.7571644477702971\n",
      "____________________________________________________________\n",
      "              precision    recall  f1-score   support\n",
      "\n",
      "           0       1.00      0.39      0.56       402\n",
      "           1       0.26      1.00      0.41        87\n",
      "\n",
      "    accuracy                           0.50       489\n",
      "   macro avg       0.63      0.69      0.49       489\n",
      "weighted avg       0.87      0.50      0.53       489\n",
      "\n",
      "____________________________________________________________\n"
     ]
    },
    {
     "data": {
      "image/png": "[encoded data removed]",
      "text/plain": [
       "<Figure size 480x320 with 2 Axes>"
      ]
     },
     "metadata": {},
     "output_type": "display_data"
    }
   ],
   "source": [
    "print_stats(lin_refit, lin_refit_predict_train, lin_refit_predict_test)"
   ]
  },
  {
   "cell_type": "code",
   "execution_count": null,
   "metadata": {},
   "outputs": [],
   "source": [
    "%store -r lin_refit"
   ]
  },
  {
   "cell_type": "markdown",
   "metadata": {},
   "source": [
    "## poly kernel"
   ]
  },
  {
   "cell_type": "code",
   "execution_count": 196,
   "metadata": {
    "scrolled": true
   },
   "outputs": [
    {
     "name": "stdout",
     "output_type": "stream",
     "text": [
      "{'C': 1896.9999363581765, 'class_weight': 'balanced', 'degree': 2, 'gamma': 'scale'}\n",
      "0.888413661027769\n"
     ]
    }
   ],
   "source": [
    "# Polynomial kernel with Grid Search\n",
    "param_poly_grid = {'C': loguniform(0.1, 3000), \n",
    "                   'degree': range(2, 6), \n",
    "                   'gamma': [1,'scale','auto'], \n",
    "                   'class_weight' : ['balanced']}\n",
    "poly_grid = RandomizedSearchCV(SVC(kernel='poly'), \n",
    "                               param_poly_grid, \n",
    "                               refit='AUC', \n",
    "                               n_jobs=8, \n",
    "                               return_train_score=True, \n",
    "                               scoring=scoring, \n",
    "                               cv=stratified_kf, \n",
    "                               n_iter=150, \n",
    "                               random_state=13)\n",
    "poly_grid.fit(train_set,train_label)\n",
    "#Parametri Migliori\n",
    "print(poly_grid.best_params_)\n",
    "print(poly_grid.best_score_)"
   ]
  },
  {
   "cell_type": "code",
   "execution_count": 197,
   "metadata": {},
   "outputs": [],
   "source": [
    "results_poly_df = pd.DataFrame(poly_grid.cv_results_)"
   ]
  },
  {
   "cell_type": "code",
   "execution_count": 198,
   "metadata": {},
   "outputs": [
    {
     "data": {
      "text/html": [
       "<div>\n",
       "<style scoped>\n",
       "    .dataframe tbody tr th:only-of-type {\n",
       "        vertical-align: middle;\n",
       "    }\n",
       "\n",
       "    .dataframe tbody tr th {\n",
       "        vertical-align: top;\n",
       "    }\n",
       "\n",
       "    .dataframe thead th {\n",
       "        text-align: right;\n",
       "    }\n",
       "</style>\n",
       "<table border=\"1\" class=\"dataframe\">\n",
       "  <thead>\n",
       "    <tr style=\"text-align: right;\">\n",
       "      <th></th>\n",
       "      <th>mean_test_AUC</th>\n",
       "      <th>mean_test_Acc</th>\n",
       "    </tr>\n",
       "  </thead>\n",
       "  <tbody>\n",
       "    <tr>\n",
       "      <th>137</th>\n",
       "      <td>0.815863</td>\n",
       "      <td>0.815700</td>\n",
       "    </tr>\n",
       "    <tr>\n",
       "      <th>127</th>\n",
       "      <td>0.816087</td>\n",
       "      <td>0.814334</td>\n",
       "    </tr>\n",
       "    <tr>\n",
       "      <th>6</th>\n",
       "      <td>0.815640</td>\n",
       "      <td>0.812969</td>\n",
       "    </tr>\n",
       "    <tr>\n",
       "      <th>109</th>\n",
       "      <td>0.813868</td>\n",
       "      <td>0.812287</td>\n",
       "    </tr>\n",
       "    <tr>\n",
       "      <th>53</th>\n",
       "      <td>0.811331</td>\n",
       "      <td>0.804778</td>\n",
       "    </tr>\n",
       "    <tr>\n",
       "      <th>60</th>\n",
       "      <td>0.804532</td>\n",
       "      <td>0.804096</td>\n",
       "    </tr>\n",
       "    <tr>\n",
       "      <th>44</th>\n",
       "      <td>0.815113</td>\n",
       "      <td>0.795904</td>\n",
       "    </tr>\n",
       "    <tr>\n",
       "      <th>66</th>\n",
       "      <td>0.872582</td>\n",
       "      <td>0.787031</td>\n",
       "    </tr>\n",
       "    <tr>\n",
       "      <th>94</th>\n",
       "      <td>0.875104</td>\n",
       "      <td>0.782253</td>\n",
       "    </tr>\n",
       "    <tr>\n",
       "      <th>26</th>\n",
       "      <td>0.875040</td>\n",
       "      <td>0.781570</td>\n",
       "    </tr>\n",
       "  </tbody>\n",
       "</table>\n",
       "</div>"
      ],
      "text/plain": [
       "     mean_test_AUC  mean_test_Acc\n",
       "137       0.815863       0.815700\n",
       "127       0.816087       0.814334\n",
       "6         0.815640       0.812969\n",
       "109       0.813868       0.812287\n",
       "53        0.811331       0.804778\n",
       "60        0.804532       0.804096\n",
       "44        0.815113       0.795904\n",
       "66        0.872582       0.787031\n",
       "94        0.875104       0.782253\n",
       "26        0.875040       0.781570"
      ]
     },
     "execution_count": 198,
     "metadata": {},
     "output_type": "execute_result"
    }
   ],
   "source": [
    "results_poly_df[['mean_test_AUC', 'mean_test_Acc']].sort_values('mean_test_Acc', ascending=False).head(10)"
   ]
  },
  {
   "cell_type": "code",
   "execution_count": 270,
   "metadata": {},
   "outputs": [
    {
     "data": {
      "text/html": [
       "<div>\n",
       "<style scoped>\n",
       "    .dataframe tbody tr th:only-of-type {\n",
       "        vertical-align: middle;\n",
       "    }\n",
       "\n",
       "    .dataframe tbody tr th {\n",
       "        vertical-align: top;\n",
       "    }\n",
       "\n",
       "    .dataframe thead th {\n",
       "        text-align: right;\n",
       "    }\n",
       "</style>\n",
       "<table border=\"1\" class=\"dataframe\">\n",
       "  <thead>\n",
       "    <tr style=\"text-align: right;\">\n",
       "      <th></th>\n",
       "      <th>mean_test_AUC</th>\n",
       "      <th>mean_test_Acc</th>\n",
       "    </tr>\n",
       "  </thead>\n",
       "  <tbody>\n",
       "    <tr>\n",
       "      <th>127</th>\n",
       "      <td>0.816087</td>\n",
       "      <td>0.814334</td>\n",
       "    </tr>\n",
       "    <tr>\n",
       "      <th>137</th>\n",
       "      <td>0.815863</td>\n",
       "      <td>0.815700</td>\n",
       "    </tr>\n",
       "    <tr>\n",
       "      <th>6</th>\n",
       "      <td>0.815640</td>\n",
       "      <td>0.812969</td>\n",
       "    </tr>\n",
       "    <tr>\n",
       "      <th>109</th>\n",
       "      <td>0.813868</td>\n",
       "      <td>0.812287</td>\n",
       "    </tr>\n",
       "    <tr>\n",
       "      <th>53</th>\n",
       "      <td>0.811331</td>\n",
       "      <td>0.804778</td>\n",
       "    </tr>\n",
       "    <tr>\n",
       "      <th>60</th>\n",
       "      <td>0.804532</td>\n",
       "      <td>0.804096</td>\n",
       "    </tr>\n",
       "  </tbody>\n",
       "</table>\n",
       "</div>"
      ],
      "text/plain": [
       "     mean_test_AUC  mean_test_Acc\n",
       "127       0.816087       0.814334\n",
       "137       0.815863       0.815700\n",
       "6         0.815640       0.812969\n",
       "109       0.813868       0.812287\n",
       "53        0.811331       0.804778\n",
       "60        0.804532       0.804096"
      ]
     },
     "execution_count": 270,
     "metadata": {},
     "output_type": "execute_result"
    }
   ],
   "source": [
    "results_poly_df.loc[results_poly_df['mean_test_Acc'] > 0.80, ['mean_test_AUC', 'mean_test_Acc']].sort_values('mean_test_AUC', ascending=False).head(10)"
   ]
  },
  {
   "cell_type": "code",
   "execution_count": 271,
   "metadata": {},
   "outputs": [
    {
     "data": {
      "text/plain": [
       "SVC(C=0.19126004779214548, class_weight='balanced', gamma='auto', kernel='poly')"
      ]
     },
     "execution_count": 271,
     "metadata": {},
     "output_type": "execute_result"
    }
   ],
   "source": [
    "# poly_refit = SVC(kernel='poly', **(poly_grid.best_params_)).fit(train_set, train_label)\n",
    "poly_refit = SVC(kernel='poly', **(results_poly_df.loc[137, 'params'])).fit(train_set, train_label)\n",
    "poly_refit"
   ]
  },
  {
   "cell_type": "code",
   "execution_count": 272,
   "metadata": {},
   "outputs": [],
   "source": [
    "poly_refit_predict_train = poly_refit.predict(train_set)\n",
    "poly_refit_predict_test = poly_refit.predict(test_set)"
   ]
  },
  {
   "cell_type": "code",
   "execution_count": 273,
   "metadata": {},
   "outputs": [
    {
     "name": "stdout",
     "output_type": "stream",
     "text": [
      "____________________________________________________________\n",
      "Accuracy train set  0.8013651877133106\n",
      "Accuracy test set  0.7750511247443763\n",
      "Precision train set  0.8244382304851952\n",
      "Recall train set  0.8013651877133106\n",
      "F1 score train set  0.8106941219092016\n",
      "____________________________________________________________\n",
      "              precision    recall  f1-score   support\n",
      "\n",
      "           0       0.94      0.78      0.85       402\n",
      "           1       0.43      0.77      0.55        87\n",
      "\n",
      "    accuracy                           0.78       489\n",
      "   macro avg       0.68      0.77      0.70       489\n",
      "weighted avg       0.85      0.78      0.80       489\n",
      "\n",
      "____________________________________________________________\n"
     ]
    },
    {
     "data": {
      "image/png": "[encoded data removed]",
      "text/plain": [
       "<Figure size 480x320 with 2 Axes>"
      ]
     },
     "metadata": {},
     "output_type": "display_data"
    }
   ],
   "source": [
    "print_stats(poly_refit, poly_refit_predict_train, poly_refit_predict_test)"
   ]
  },
  {
   "cell_type": "markdown",
   "metadata": {},
   "source": [
    "## RBF kernel"
   ]
  },
  {
   "cell_type": "code",
   "execution_count": 228,
   "metadata": {
    "scrolled": true
   },
   "outputs": [
    {
     "name": "stdout",
     "output_type": "stream",
     "text": [
      "{'C': 22.846327541505858, 'class_weight': 'balanced', 'gamma': 11.152424949920247}\n",
      "0.8983242898180658\n"
     ]
    }
   ],
   "source": [
    "param_rbf_grid = {'C': loguniform(0.1, 3000),\n",
    "                  'gamma': loguniform(1e-9,1e3) ,\n",
    "                  'class_weight' : ['balanced']}\n",
    "rbf_grid = RandomizedSearchCV(SVC(kernel='rbf'),\n",
    "                              param_rbf_grid,refit='AUC', \n",
    "                              n_jobs=8, \n",
    "                              return_train_score=True,\n",
    "                              scoring=scoring,\n",
    "                              cv=stratified_kf,\n",
    "                              n_iter= 2000,\n",
    "                              random_state=13)\n",
    "rbf_grid.fit(train_set,train_label)\n",
    "\n",
    "print(rbf_grid.best_params_)\n",
    "print(rbf_grid.best_score_)"
   ]
  },
  {
   "cell_type": "code",
   "execution_count": 229,
   "metadata": {},
   "outputs": [],
   "source": [
    "results_rbf_df = pd.DataFrame(rbf_grid.cv_results_)"
   ]
  },
  {
   "cell_type": "code",
   "execution_count": 230,
   "metadata": {},
   "outputs": [
    {
     "data": {
      "text/html": [
       "<div>\n",
       "<style scoped>\n",
       "    .dataframe tbody tr th:only-of-type {\n",
       "        vertical-align: middle;\n",
       "    }\n",
       "\n",
       "    .dataframe tbody tr th {\n",
       "        vertical-align: top;\n",
       "    }\n",
       "\n",
       "    .dataframe thead th {\n",
       "        text-align: right;\n",
       "    }\n",
       "</style>\n",
       "<table border=\"1\" class=\"dataframe\">\n",
       "  <thead>\n",
       "    <tr style=\"text-align: right;\">\n",
       "      <th></th>\n",
       "      <th>mean_test_AUC</th>\n",
       "      <th>mean_test_Acc</th>\n",
       "    </tr>\n",
       "  </thead>\n",
       "  <tbody>\n",
       "    <tr>\n",
       "      <th>102</th>\n",
       "      <td>0.852841</td>\n",
       "      <td>0.850512</td>\n",
       "    </tr>\n",
       "    <tr>\n",
       "      <th>1218</th>\n",
       "      <td>0.855107</td>\n",
       "      <td>0.849147</td>\n",
       "    </tr>\n",
       "    <tr>\n",
       "      <th>759</th>\n",
       "      <td>0.857916</td>\n",
       "      <td>0.847782</td>\n",
       "    </tr>\n",
       "    <tr>\n",
       "      <th>1255</th>\n",
       "      <td>0.836961</td>\n",
       "      <td>0.847099</td>\n",
       "    </tr>\n",
       "    <tr>\n",
       "      <th>1678</th>\n",
       "      <td>0.838509</td>\n",
       "      <td>0.846416</td>\n",
       "    </tr>\n",
       "    <tr>\n",
       "      <th>1451</th>\n",
       "      <td>0.844430</td>\n",
       "      <td>0.846416</td>\n",
       "    </tr>\n",
       "    <tr>\n",
       "      <th>106</th>\n",
       "      <td>0.853208</td>\n",
       "      <td>0.845734</td>\n",
       "    </tr>\n",
       "    <tr>\n",
       "      <th>1418</th>\n",
       "      <td>0.848388</td>\n",
       "      <td>0.845051</td>\n",
       "    </tr>\n",
       "    <tr>\n",
       "      <th>404</th>\n",
       "      <td>0.861698</td>\n",
       "      <td>0.845051</td>\n",
       "    </tr>\n",
       "    <tr>\n",
       "      <th>1986</th>\n",
       "      <td>0.821258</td>\n",
       "      <td>0.845051</td>\n",
       "    </tr>\n",
       "  </tbody>\n",
       "</table>\n",
       "</div>"
      ],
      "text/plain": [
       "      mean_test_AUC  mean_test_Acc\n",
       "102        0.852841       0.850512\n",
       "1218       0.855107       0.849147\n",
       "759        0.857916       0.847782\n",
       "1255       0.836961       0.847099\n",
       "1678       0.838509       0.846416\n",
       "1451       0.844430       0.846416\n",
       "106        0.853208       0.845734\n",
       "1418       0.848388       0.845051\n",
       "404        0.861698       0.845051\n",
       "1986       0.821258       0.845051"
      ]
     },
     "execution_count": 230,
     "metadata": {},
     "output_type": "execute_result"
    }
   ],
   "source": [
    "results_rbf_df[['mean_test_AUC', 'mean_test_Acc']].sort_values('mean_test_Acc', ascending=False).head(10)"
   ]
  },
  {
   "cell_type": "code",
   "execution_count": 252,
   "metadata": {},
   "outputs": [
    {
     "data": {
      "text/html": [
       "<div>\n",
       "<style scoped>\n",
       "    .dataframe tbody tr th:only-of-type {\n",
       "        vertical-align: middle;\n",
       "    }\n",
       "\n",
       "    .dataframe tbody tr th {\n",
       "        vertical-align: top;\n",
       "    }\n",
       "\n",
       "    .dataframe thead th {\n",
       "        text-align: right;\n",
       "    }\n",
       "</style>\n",
       "<table border=\"1\" class=\"dataframe\">\n",
       "  <thead>\n",
       "    <tr style=\"text-align: right;\">\n",
       "      <th></th>\n",
       "      <th>mean_test_AUC</th>\n",
       "      <th>mean_test_Acc</th>\n",
       "    </tr>\n",
       "  </thead>\n",
       "  <tbody>\n",
       "    <tr>\n",
       "      <th>905</th>\n",
       "      <td>0.898324</td>\n",
       "      <td>0.789078</td>\n",
       "    </tr>\n",
       "    <tr>\n",
       "      <th>1400</th>\n",
       "      <td>0.898133</td>\n",
       "      <td>0.787031</td>\n",
       "    </tr>\n",
       "    <tr>\n",
       "      <th>311</th>\n",
       "      <td>0.896968</td>\n",
       "      <td>0.784983</td>\n",
       "    </tr>\n",
       "    <tr>\n",
       "      <th>1437</th>\n",
       "      <td>0.896521</td>\n",
       "      <td>0.781570</td>\n",
       "    </tr>\n",
       "    <tr>\n",
       "      <th>1307</th>\n",
       "      <td>0.896377</td>\n",
       "      <td>0.797952</td>\n",
       "    </tr>\n",
       "    <tr>\n",
       "      <th>767</th>\n",
       "      <td>0.896138</td>\n",
       "      <td>0.781570</td>\n",
       "    </tr>\n",
       "    <tr>\n",
       "      <th>1788</th>\n",
       "      <td>0.896026</td>\n",
       "      <td>0.785666</td>\n",
       "    </tr>\n",
       "    <tr>\n",
       "      <th>1306</th>\n",
       "      <td>0.895468</td>\n",
       "      <td>0.819795</td>\n",
       "    </tr>\n",
       "    <tr>\n",
       "      <th>133</th>\n",
       "      <td>0.895436</td>\n",
       "      <td>0.781570</td>\n",
       "    </tr>\n",
       "    <tr>\n",
       "      <th>1843</th>\n",
       "      <td>0.895180</td>\n",
       "      <td>0.808874</td>\n",
       "    </tr>\n",
       "  </tbody>\n",
       "</table>\n",
       "</div>"
      ],
      "text/plain": [
       "      mean_test_AUC  mean_test_Acc\n",
       "905        0.898324       0.789078\n",
       "1400       0.898133       0.787031\n",
       "311        0.896968       0.784983\n",
       "1437       0.896521       0.781570\n",
       "1307       0.896377       0.797952\n",
       "767        0.896138       0.781570\n",
       "1788       0.896026       0.785666\n",
       "1306       0.895468       0.819795\n",
       "133        0.895436       0.781570\n",
       "1843       0.895180       0.808874"
      ]
     },
     "execution_count": 252,
     "metadata": {},
     "output_type": "execute_result"
    }
   ],
   "source": [
    "results_rbf_df[['mean_test_AUC', 'mean_test_Acc']].sort_values('mean_test_AUC', ascending=False).head(10)"
   ]
  },
  {
   "cell_type": "code",
   "execution_count": 259,
   "metadata": {},
   "outputs": [
    {
     "data": {
      "text/plain": [
       "SVC(C=22.846327541505858, class_weight='balanced', gamma=11.152424949920247)"
      ]
     },
     "execution_count": 259,
     "metadata": {},
     "output_type": "execute_result"
    }
   ],
   "source": [
    "rbf_refit = SVC(kernel='rbf', **(results_rbf_df.iloc[905].params)).fit(train_set, train_label)\n",
    "rbf_refit"
   ]
  },
  {
   "cell_type": "code",
   "execution_count": 260,
   "metadata": {},
   "outputs": [],
   "source": [
    "rbf_refit_predict_train = rbf_refit.predict(train_set)\n",
    "rbf_refit_predict_test = rbf_refit.predict(test_set)"
   ]
  },
  {
   "cell_type": "code",
   "execution_count": 261,
   "metadata": {},
   "outputs": [
    {
     "name": "stdout",
     "output_type": "stream",
     "text": [
      "____________________________________________________________\n",
      "Accuracy train set  0.816382252559727\n",
      "Accuracy test set  0.820040899795501\n",
      "Precision train set  0.8993997735951069\n",
      "Recall train set  0.816382252559727\n",
      "F1 score train set  0.8353956376287888\n",
      "____________________________________________________________\n",
      "              precision    recall  f1-score   support\n",
      "\n",
      "           0       0.82      1.00      0.90       402\n",
      "           1       0.00      0.00      0.00        87\n",
      "\n",
      "    accuracy                           0.82       489\n",
      "   macro avg       0.41      0.50      0.45       489\n",
      "weighted avg       0.68      0.82      0.74       489\n",
      "\n",
      "____________________________________________________________\n"
     ]
    },
    {
     "data": {
      "image/png": "[encoded data removed]",
      "text/plain": [
       "<Figure size 480x320 with 2 Axes>"
      ]
     },
     "metadata": {},
     "output_type": "display_data"
    }
   ],
   "source": [
    "print_stats(rbf_refit, rbf_refit_predict_train, rbf_refit_predict_test)"
   ]
  },
  {
   "cell_type": "markdown",
   "metadata": {},
   "source": [
    "## Sigmoid kernel"
   ]
  },
  {
   "cell_type": "code",
   "execution_count": 274,
   "metadata": {
    "scrolled": true
   },
   "outputs": [
    {
     "name": "stdout",
     "output_type": "stream",
     "text": [
      "{'C': 1073.1053501782374, 'class_weight': 'balanced', 'gamma': 0.0057921801697604445}\n",
      "0.8473827002872646\n"
     ]
    }
   ],
   "source": [
    "#Sigmoid Kernel Con Grid Search\n",
    "param_sig_grid = {'C': loguniform(0.1, 3000),\n",
    "                  'gamma': loguniform(1e-9,1e3), \n",
    "                  'class_weight' : ['balanced']}\n",
    "sig_grid = RandomizedSearchCV(SVC(kernel='sigmoid')\n",
    "                              ,param_sig_grid,\n",
    "                              refit=\"AUC\", \n",
    "                              return_train_score=True, \n",
    "                              n_jobs=8, \n",
    "                              scoring=scoring,\n",
    "                              cv=stratified_kf, \n",
    "                              n_iter= 500, \n",
    "                              random_state=13)\n",
    "sig_grid.fit(train_set,train_label)\n",
    "#Parametri Migliori\n",
    "print(sig_grid.best_params_)\n",
    "print(sig_grid.best_score_)"
   ]
  },
  {
   "cell_type": "code",
   "execution_count": 242,
   "metadata": {},
   "outputs": [],
   "source": [
    "results_sig_df = pd.DataFrame(sig_grid.cv_results_)"
   ]
  },
  {
   "cell_type": "code",
   "execution_count": 243,
   "metadata": {},
   "outputs": [
    {
     "data": {
      "text/html": [
       "<div>\n",
       "<style scoped>\n",
       "    .dataframe tbody tr th:only-of-type {\n",
       "        vertical-align: middle;\n",
       "    }\n",
       "\n",
       "    .dataframe tbody tr th {\n",
       "        vertical-align: top;\n",
       "    }\n",
       "\n",
       "    .dataframe thead th {\n",
       "        text-align: right;\n",
       "    }\n",
       "</style>\n",
       "<table border=\"1\" class=\"dataframe\">\n",
       "  <thead>\n",
       "    <tr style=\"text-align: right;\">\n",
       "      <th></th>\n",
       "      <th>mean_test_AUC</th>\n",
       "      <th>mean_test_Acc</th>\n",
       "    </tr>\n",
       "  </thead>\n",
       "  <tbody>\n",
       "    <tr>\n",
       "      <th>1</th>\n",
       "      <td>0.500000</td>\n",
       "      <td>0.822526</td>\n",
       "    </tr>\n",
       "    <tr>\n",
       "      <th>218</th>\n",
       "      <td>0.545021</td>\n",
       "      <td>0.822526</td>\n",
       "    </tr>\n",
       "    <tr>\n",
       "      <th>159</th>\n",
       "      <td>0.499314</td>\n",
       "      <td>0.822526</td>\n",
       "    </tr>\n",
       "    <tr>\n",
       "      <th>326</th>\n",
       "      <td>0.813996</td>\n",
       "      <td>0.741980</td>\n",
       "    </tr>\n",
       "    <tr>\n",
       "      <th>98</th>\n",
       "      <td>0.827306</td>\n",
       "      <td>0.739932</td>\n",
       "    </tr>\n",
       "    <tr>\n",
       "      <th>28</th>\n",
       "      <td>0.815847</td>\n",
       "      <td>0.739249</td>\n",
       "    </tr>\n",
       "    <tr>\n",
       "      <th>375</th>\n",
       "      <td>0.822694</td>\n",
       "      <td>0.738567</td>\n",
       "    </tr>\n",
       "    <tr>\n",
       "      <th>238</th>\n",
       "      <td>0.818225</td>\n",
       "      <td>0.737201</td>\n",
       "    </tr>\n",
       "    <tr>\n",
       "      <th>171</th>\n",
       "      <td>0.818050</td>\n",
       "      <td>0.737201</td>\n",
       "    </tr>\n",
       "    <tr>\n",
       "      <th>323</th>\n",
       "      <td>0.817587</td>\n",
       "      <td>0.737201</td>\n",
       "    </tr>\n",
       "  </tbody>\n",
       "</table>\n",
       "</div>"
      ],
      "text/plain": [
       "     mean_test_AUC  mean_test_Acc\n",
       "1         0.500000       0.822526\n",
       "218       0.545021       0.822526\n",
       "159       0.499314       0.822526\n",
       "326       0.813996       0.741980\n",
       "98        0.827306       0.739932\n",
       "28        0.815847       0.739249\n",
       "375       0.822694       0.738567\n",
       "238       0.818225       0.737201\n",
       "171       0.818050       0.737201\n",
       "323       0.817587       0.737201"
      ]
     },
     "execution_count": 243,
     "metadata": {},
     "output_type": "execute_result"
    }
   ],
   "source": [
    "results_sig_df[['mean_test_AUC', 'mean_test_Acc']].sort_values('mean_test_Acc', ascending=False).head(10)"
   ]
  },
  {
   "cell_type": "code",
   "execution_count": 262,
   "metadata": {},
   "outputs": [
    {
     "data": {
      "text/html": [
       "<div>\n",
       "<style scoped>\n",
       "    .dataframe tbody tr th:only-of-type {\n",
       "        vertical-align: middle;\n",
       "    }\n",
       "\n",
       "    .dataframe tbody tr th {\n",
       "        vertical-align: top;\n",
       "    }\n",
       "\n",
       "    .dataframe thead th {\n",
       "        text-align: right;\n",
       "    }\n",
       "</style>\n",
       "<table border=\"1\" class=\"dataframe\">\n",
       "  <thead>\n",
       "    <tr style=\"text-align: right;\">\n",
       "      <th></th>\n",
       "      <th>mean_test_AUC</th>\n",
       "      <th>mean_test_Acc</th>\n",
       "    </tr>\n",
       "  </thead>\n",
       "  <tbody>\n",
       "    <tr>\n",
       "      <th>85</th>\n",
       "      <td>0.847383</td>\n",
       "      <td>0.722867</td>\n",
       "    </tr>\n",
       "    <tr>\n",
       "      <th>231</th>\n",
       "      <td>0.847367</td>\n",
       "      <td>0.724915</td>\n",
       "    </tr>\n",
       "    <tr>\n",
       "      <th>217</th>\n",
       "      <td>0.847335</td>\n",
       "      <td>0.727645</td>\n",
       "    </tr>\n",
       "    <tr>\n",
       "      <th>348</th>\n",
       "      <td>0.847335</td>\n",
       "      <td>0.723549</td>\n",
       "    </tr>\n",
       "    <tr>\n",
       "      <th>84</th>\n",
       "      <td>0.847335</td>\n",
       "      <td>0.725597</td>\n",
       "    </tr>\n",
       "    <tr>\n",
       "      <th>288</th>\n",
       "      <td>0.847287</td>\n",
       "      <td>0.726962</td>\n",
       "    </tr>\n",
       "    <tr>\n",
       "      <th>178</th>\n",
       "      <td>0.846968</td>\n",
       "      <td>0.726280</td>\n",
       "    </tr>\n",
       "    <tr>\n",
       "      <th>249</th>\n",
       "      <td>0.846952</td>\n",
       "      <td>0.721502</td>\n",
       "    </tr>\n",
       "    <tr>\n",
       "      <th>422</th>\n",
       "      <td>0.846872</td>\n",
       "      <td>0.724915</td>\n",
       "    </tr>\n",
       "    <tr>\n",
       "      <th>496</th>\n",
       "      <td>0.846824</td>\n",
       "      <td>0.710580</td>\n",
       "    </tr>\n",
       "  </tbody>\n",
       "</table>\n",
       "</div>"
      ],
      "text/plain": [
       "     mean_test_AUC  mean_test_Acc\n",
       "85        0.847383       0.722867\n",
       "231       0.847367       0.724915\n",
       "217       0.847335       0.727645\n",
       "348       0.847335       0.723549\n",
       "84        0.847335       0.725597\n",
       "288       0.847287       0.726962\n",
       "178       0.846968       0.726280\n",
       "249       0.846952       0.721502\n",
       "422       0.846872       0.724915\n",
       "496       0.846824       0.710580"
      ]
     },
     "execution_count": 262,
     "metadata": {},
     "output_type": "execute_result"
    }
   ],
   "source": [
    "results_sig_df[['mean_test_AUC', 'mean_test_Acc']].sort_values('mean_test_AUC', ascending=False).head(10)"
   ]
  },
  {
   "cell_type": "code",
   "execution_count": 263,
   "metadata": {},
   "outputs": [],
   "source": [
    "sig_refit = SVC(kernel='sigmoid', **(results_sig_df.iloc[85].params)).fit(train_set, train_label)"
   ]
  },
  {
   "cell_type": "code",
   "execution_count": 264,
   "metadata": {},
   "outputs": [],
   "source": [
    "sig_refit_predict_train = sig_refit.predict(train_set)\n",
    "sig_refit_predict_test = sig_refit.predict(test_set)"
   ]
  },
  {
   "cell_type": "code",
   "execution_count": 265,
   "metadata": {},
   "outputs": [
    {
     "name": "stdout",
     "output_type": "stream",
     "text": [
      "____________________________________________________________\n",
      "Accuracy train set  0.7249146757679181\n",
      "Accuracy test set  0.49693251533742333\n",
      "Precision train set  0.8467173004609342\n",
      "Recall train set  0.7249146757679181\n",
      "F1 score train set  0.7560106097781748\n",
      "____________________________________________________________\n",
      "              precision    recall  f1-score   support\n",
      "\n",
      "           0       0.99      0.39      0.56       402\n",
      "           1       0.26      0.99      0.41        87\n",
      "\n",
      "    accuracy                           0.50       489\n",
      "   macro avg       0.63      0.69      0.49       489\n",
      "weighted avg       0.86      0.50      0.53       489\n",
      "\n",
      "____________________________________________________________\n"
     ]
    },
    {
     "data": {
      "image/png": "[encoded data removed]",
      "text/plain": [
       "<Figure size 480x320 with 2 Axes>"
      ]
     },
     "metadata": {},
     "output_type": "display_data"
    }
   ],
   "source": [
    "print_stats(sig_refit, sig_refit_predict_train, sig_refit_predict_test)"
   ]
  },
  {
   "cell_type": "markdown",
   "metadata": {},
   "source": [
    "## ROC Curve"
   ]
  },
  {
   "cell_type": "code",
   "execution_count": null,
   "metadata": {},
   "outputs": [],
   "source": [
    "from sklearn import metrics"
   ]
  },
  {
   "cell_type": "code",
   "execution_count": 279,
   "metadata": {},
   "outputs": [
    {
     "data": {
      "text/plain": [
       "<sklearn.metrics._plot.roc_curve.RocCurveDisplay at 0x16425a3e0>"
      ]
     },
     "execution_count": 279,
     "metadata": {},
     "output_type": "execute_result"
    },
    {
     "data": {
      "image/png": "[encoded data removed]",
      "text/plain": [
       "<Figure size 480x320 with 1 Axes>"
      ]
     },
     "metadata": {},
     "output_type": "display_data"
    }
   ],
   "source": [
    "ax = plt.gca()\n",
    "RocCurveDisplay.from_estimator(lin_refit, test_set, test_label, ax=ax, name='linear')\n",
    "RocCurveDisplay.from_estimator(poly_refit, test_set, test_label, ax=ax, name='poly')\n",
    "RocCurveDisplay.from_estimator(sig_refit, test_set, test_label, ax=ax, name='sigmoid')\n",
    "RocCurveDisplay.from_estimator(rbf_refit, test_set, test_label, ax=ax, name='rbf')\n",
    "plt.show()"
   ]
  },
  {
   "cell_type": "code",
   "execution_count": 280,
   "metadata": {},
   "outputs": [
    {
     "data": {
      "image/png": "[encoded data removed]",
      "text/plain": [
       "<Figure size 480x320 with 1 Axes>"
      ]
     },
     "metadata": {},
     "output_type": "display_data"
    }
   ],
   "source": [
    "ax = plt.gca()\n",
    "RocCurveDisplay.from_estimator(lin_refit, test_set, test_label, ax=ax, name='linear')\n",
    "RocCurveDisplay.from_estimator(poly_refit, test_set, test_label, ax=ax, name='poly')\n",
    "RocCurveDisplay.from_estimator(sig_refit, test_set, test_label, ax=ax, name='sigmoid')\n",
    "plt.show()"
   ]
  },
  {
   "cell_type": "code",
   "execution_count": 283,
   "metadata": {},
   "outputs": [],
   "source": [
    "import pickle\n",
    "\n",
    "with open('linear_svm.pickle', 'wb') as handle:\n",
    "    pickle.dump(lin_refit, handle, protocol=pickle.HIGHEST_PROTOCOL)\n",
    "    \n",
    "with open('poly_svm.pickle', 'wb') as handle:\n",
    "    pickle.dump(lin_refit, handle, protocol=pickle.HIGHEST_PROTOCOL)\n",
    "    \n",
    "with open('sig_svm.pickle', 'wb') as handle:\n",
    "    pickle.dump(sig_refit, handle, protocol=pickle.HIGHEST_PROTOCOL)"
   ]
  }
 ],
 "metadata": {
  "interpreter": {
   "hash": "aff25e15f8099e34a15ead1bbf5a2e4196a4ee653c57f1c74f4dffd2790a8ab4"
  },
  "kernelspec": {
   "display_name": "Python 3 (ipykernel)",
   "language": "python",
   "name": "python3"
  },
  "language_info": {
   "codemirror_mode": {
    "name": "ipython",
    "version": 3
   },
   "file_extension": ".py",
   "mimetype": "text/x-python",
   "name": "python",
   "nbconvert_exporter": "python",
   "pygments_lexer": "ipython3",
   "version": "3.10.1"
  }
 },
 "nbformat": 4,
 "nbformat_minor": 2
}
