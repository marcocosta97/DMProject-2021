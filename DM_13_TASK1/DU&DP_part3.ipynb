{
 "cells": [
  {
   "cell_type": "code",
   "execution_count": 1,
   "metadata": {},
   "outputs": [],
   "source": [
    "import math\n",
    "import numpy as np\n",
    "import pandas as pd\n",
    "\n",
    "import matplotlib\n",
    "import matplotlib.pyplot as plt\n",
    "from matplotlib.colors import ListedColormap\n",
    "matplotlib.rcParams['figure.dpi'] = 65\n",
    "\n",
    "import seaborn as sns\n",
    "sns.set_context(\"paper\")\n",
    "sns.set_style(\"whitegrid\", {'grid.linestyle': '--'})"
   ]
  },
  {
   "cell_type": "markdown",
   "metadata": {},
   "source": [
    "Loading the dataframes exported in the previous part..."
   ]
  },
  {
   "cell_type": "code",
   "execution_count": 2,
   "metadata": {},
   "outputs": [],
   "source": [
    "df = pd.read_pickle('./dataset/part2_matches.pkl')\n",
    "players = pd.read_pickle('./dataset/part2_players.pkl')\n",
    "tourneys_sex_df = pd.read_pickle('./dataset/part2_tourneys_sex.pkl')\n",
    "tourneys_df = pd.read_pickle('./dataset/part2_tourneys.pkl')"
   ]
  },
  {
   "cell_type": "markdown",
   "metadata": {},
   "source": [
    "- `df` is the dataframe containing the matches and the players' statistics\n",
    "- `players` is the dataframe containing the players' general info (index: `fullname`)\n",
    "- `tourneys_df` is the dataframe with the tournaments' info (index: `tourney_id`)\n",
    "- `tourneys_sex_df` is the dataframe with the tournaments' info that depend on the specific gender(index: $\\langle$`tourney_id`, `sex`$\\rangle$)"
   ]
  },
  {
   "cell_type": "markdown",
   "metadata": {},
   "source": [
    "---\n",
    "\n",
    "# Data Understanding and Data Preparation (Part III)"
   ]
  },
  {
   "cell_type": "markdown",
   "metadata": {
    "id": "Y8wUeSKT22nz"
   },
   "source": [
    "## Dealing with Outliers"
   ]
  },
  {
   "cell_type": "markdown",
   "metadata": {},
   "source": [
    "It's time to manage the outliers of the dataset.\n",
    "\n",
    "Since the majority of the possible outliers has been already managed before (for example the age of the players when we computed the `birthday` field, and so on..) what remains to be managed concerns only the *heights* of the players and the *match statistics*."
   ]
  },
  {
   "cell_type": "markdown",
   "metadata": {
    "id": "_q5wbVzz22nz"
   },
   "source": [
    "### Players' Heights Outliers"
   ]
  },
  {
   "cell_type": "markdown",
   "metadata": {},
   "source": [
    "We plot the distributions of the players' heights both with a boxplot and an histogram (using the Sturges formula as the number of bins) and we try to figure out which are the outliers."
   ]
  },
  {
   "cell_type": "code",
   "execution_count": 3,
   "metadata": {
    "id": "53z981HB22n0"
   },
   "outputs": [
    {
     "data": {
      "image/png": "[encoded data removed]",
      "text/plain": [
       "<Figure size 520x195 with 2 Axes>"
      ]
     },
     "metadata": {},
     "output_type": "display_data"
    }
   ],
   "source": [
    "q1 = players.ht.quantile(0.25)\n",
    "q3 = players.ht.quantile(0.75)\n",
    "iqr = q3-q1\n",
    "\n",
    "smallest = players.loc[players.ht > (q1 - 1.5 * iqr), \"ht\"].sort_values().iloc[0]\n",
    "largest = players.loc[players.ht < (q3 + 1.5 * iqr), \"ht\"].sort_values(ascending=False).iloc[0]\n",
    "\n",
    "htInWhiskers = players.loc[(players.ht >= smallest) & (players.ht <= largest), \"ht\"]\n",
    "htInWhiskers.describe()\n",
    "\n",
    "def sturgesBins(n):\n",
    "    return math.ceil(math.log(n) + 1)\n",
    "\n",
    "f, (ax_box, ax_hist) = plt.subplots(2, sharex=True, gridspec_kw={\"height_ratios\": (.15, .85)}, figsize=(8, 3))\n",
    " \n",
    "sns.boxplot(data=players, x=\"ht\", fliersize=2, boxprops={'facecolor':'None'}, ax=ax_box)\n",
    "sns.histplot(data=players.ht, bins=sturgesBins(htInWhiskers.size), ax=ax_hist)\n",
    " \n",
    "ax_box.set(xlabel='')\n",
    "plt.show()"
   ]
  },
  {
   "cell_type": "markdown",
   "metadata": {},
   "source": [
    "As we can see, the presence of outliers can be visualized intuitively. Thus, we print the players whose heights are considered as outliers by coming out the whisker."
   ]
  },
  {
   "cell_type": "code",
   "execution_count": 4,
   "metadata": {
    "id": "dOGr1xFy22n1"
   },
   "outputs": [
    {
     "data": {
      "text/html": [
       "<div>\n",
       "<style scoped>\n",
       "    .dataframe tbody tr th:only-of-type {\n",
       "        vertical-align: middle;\n",
       "    }\n",
       "\n",
       "    .dataframe tbody tr th {\n",
       "        vertical-align: top;\n",
       "    }\n",
       "\n",
       "    .dataframe thead th {\n",
       "        text-align: right;\n",
       "    }\n",
       "</style>\n",
       "<table border=\"1\" class=\"dataframe\">\n",
       "  <thead>\n",
       "    <tr style=\"text-align: right;\">\n",
       "      <th></th>\n",
       "      <th>hand</th>\n",
       "      <th>ioc</th>\n",
       "      <th>ht</th>\n",
       "      <th>sex</th>\n",
       "      <th>match_count</th>\n",
       "      <th>birthday</th>\n",
       "    </tr>\n",
       "    <tr>\n",
       "      <th>fullname</th>\n",
       "      <th></th>\n",
       "      <th></th>\n",
       "      <th></th>\n",
       "      <th></th>\n",
       "      <th></th>\n",
       "      <th></th>\n",
       "    </tr>\n",
       "  </thead>\n",
       "  <tbody>\n",
       "    <tr>\n",
       "      <th>ivo karlovic</th>\n",
       "      <td>r</td>\n",
       "      <td>cro</td>\n",
       "      <td>208</td>\n",
       "      <td>m</td>\n",
       "      <td>205</td>\n",
       "      <td>1979-03-09</td>\n",
       "    </tr>\n",
       "    <tr>\n",
       "      <th>reilly opelka</th>\n",
       "      <td>r</td>\n",
       "      <td>usa</td>\n",
       "      <td>211</td>\n",
       "      <td>m</td>\n",
       "      <td>249</td>\n",
       "      <td>1997-09-02</td>\n",
       "    </tr>\n",
       "    <tr>\n",
       "      <th>kurumi nara</th>\n",
       "      <td>r</td>\n",
       "      <td>jpn</td>\n",
       "      <td>155</td>\n",
       "      <td>f</td>\n",
       "      <td>278</td>\n",
       "      <td>1992-01-05</td>\n",
       "    </tr>\n",
       "    <tr>\n",
       "      <th>kamilla rakhimova</th>\n",
       "      <td>r</td>\n",
       "      <td>rus</td>\n",
       "      <td>2</td>\n",
       "      <td>f</td>\n",
       "      <td>157</td>\n",
       "      <td>2001-09-01</td>\n",
       "    </tr>\n",
       "    <tr>\n",
       "      <th>ilija vucic</th>\n",
       "      <td>r</td>\n",
       "      <td>srb</td>\n",
       "      <td>145</td>\n",
       "      <td>m</td>\n",
       "      <td>20</td>\n",
       "      <td>1990-11-02</td>\n",
       "    </tr>\n",
       "  </tbody>\n",
       "</table>\n",
       "</div>"
      ],
      "text/plain": [
       "                  hand  ioc   ht sex  match_count    birthday\n",
       "fullname                                                     \n",
       "ivo karlovic         r  cro  208   m          205  1979-03-09\n",
       "reilly opelka        r  usa  211   m          249  1997-09-02\n",
       "kurumi nara          r  jpn  155   f          278  1992-01-05\n",
       "kamilla rakhimova    r  rus    2   f          157  2001-09-01\n",
       "ilija vucic          r  srb  145   m           20  1990-11-02"
      ]
     },
     "execution_count": 4,
     "metadata": {},
     "output_type": "execute_result"
    }
   ],
   "source": [
    "players[~(players.index.isin(htInWhiskers.index)) & ~(players.ht.isna())]"
   ]
  },
  {
   "cell_type": "markdown",
   "metadata": {},
   "source": [
    "Following a brief web search, we found that:\n",
    "* Ivo Karlovic, Reilly Opelka and Karumi Nara have the right height\n",
    "* Ilika Vucic has the wrong height\n",
    "* We can't find information about the height of Kamilla Rakhimova"
   ]
  },
  {
   "cell_type": "code",
   "execution_count": 5,
   "metadata": {
    "id": "kLMLiMfb22n1"
   },
   "outputs": [],
   "source": [
    "players.loc['kamilla rakhimova', 'ht'] = np.nan\n",
    "players.loc['ilija vucic', 'ht'] = 188"
   ]
  },
  {
   "cell_type": "markdown",
   "metadata": {
    "id": "ASFE_2CF22n2"
   },
   "source": [
    "### Matches' Stats Outliers"
   ]
  },
  {
   "cell_type": "markdown",
   "metadata": {},
   "source": [
    "Now it remains to manage the outliers of the matches' stats. When in the Part 2 of the notebook we plotted the scatter matrixes of some stats it was immediately clear the presence of outliers, for example we can examine in detail the behavior of the feature `w_1stWon` which indicates *the number of points won on the first serve*."
   ]
  },
  {
   "cell_type": "code",
   "execution_count": 6,
   "metadata": {
    "id": "f26gW4OX22n2"
   },
   "outputs": [
    {
     "data": {
      "image/png": "[encoded data removed]",
      "text/plain": [
       "<Figure size 975x325 with 2 Axes>"
      ]
     },
     "metadata": {},
     "output_type": "display_data"
    }
   ],
   "source": [
    "q1 = df.w_1stWon.quantile(0.25)\n",
    "q3 = df.w_1stWon.quantile(0.75)\n",
    "iqr = q3-q1\n",
    "\n",
    "smallest = df.loc[df.w_1stWon > (q1 - 1.5 * iqr), \"w_1stWon\"].sort_values().iloc[0]\n",
    "largest = df.loc[df.w_1stWon < (q3 + 1.5 * iqr), \"w_1stWon\"].sort_values(ascending=False).iloc[0]\n",
    "\n",
    "inWhiskers = df.loc[(df.w_1stWon >= smallest) & (df.w_1stWon <= largest), \"w_1stWon\"]\n",
    "inWhiskers.describe()\n",
    "\n",
    "def sturgesBins(n):\n",
    "    return math.ceil(math.log(n) + 1)\n",
    "\n",
    "f, (ax_box, ax_hist) = plt.subplots(2, sharex=True, gridspec_kw={\"height_ratios\": (.15, .85)}, figsize=(15, 5))\n",
    " \n",
    "sns.boxplot(data=df, x=\"w_1stWon\", fliersize=2, boxprops={'facecolor':'None'}, ax=ax_box)\n",
    "sns.histplot(data=df.w_1stWon, bins=sturgesBins(inWhiskers.size)*2, ax=ax_hist)\n",
    " \n",
    "ax_box.set(xlabel='')\n",
    "plt.show()\n"
   ]
  },
  {
   "cell_type": "code",
   "execution_count": 7,
   "metadata": {},
   "outputs": [],
   "source": [
    "stats_columns = ['w_ace', 'w_df', 'w_svpt', 'w_1stIn', 'w_1stWon', 'w_2ndWon', 'w_SvGms', 'w_bpSaved', 'w_bpFaced', 'l_ace', 'l_df', 'l_svpt', 'l_1stIn', 'l_1stWon', 'l_2ndWon', 'l_SvGms', 'l_bpSaved', 'l_bpFaced']"
   ]
  },
  {
   "cell_type": "markdown",
   "metadata": {},
   "source": [
    "The presence of outliers is now more obvious, but don't know if those outliers are valid values or represents errors in the dataset. By making a simple count, in a *3 sets match* a player serves, with a large bound, *eight first serves per game*, which means for six games per set, *at most 144* first serves (which is an incredibly high upper bound, if we consider that we are looking for the *points on the first serve* at that five points makes a game unless for the presence of advantages). In fact, if we plot the *3 set* matches with more than 100 first serves won we obtain:"
   ]
  },
  {
   "cell_type": "code",
   "execution_count": 8,
   "metadata": {
    "id": "JNcvNLpE22n2"
   },
   "outputs": [
    {
     "data": {
      "text/html": [
       "<div>\n",
       "<style scoped>\n",
       "    .dataframe tbody tr th:only-of-type {\n",
       "        vertical-align: middle;\n",
       "    }\n",
       "\n",
       "    .dataframe tbody tr th {\n",
       "        vertical-align: top;\n",
       "    }\n",
       "\n",
       "    .dataframe thead th {\n",
       "        text-align: right;\n",
       "    }\n",
       "</style>\n",
       "<table border=\"1\" class=\"dataframe\">\n",
       "  <thead>\n",
       "    <tr style=\"text-align: right;\">\n",
       "      <th></th>\n",
       "      <th>score</th>\n",
       "      <th>w_ace</th>\n",
       "      <th>w_df</th>\n",
       "      <th>w_svpt</th>\n",
       "      <th>w_1stIn</th>\n",
       "      <th>w_1stWon</th>\n",
       "      <th>w_2ndWon</th>\n",
       "      <th>w_SvGms</th>\n",
       "      <th>w_bpSaved</th>\n",
       "      <th>w_bpFaced</th>\n",
       "      <th>l_ace</th>\n",
       "      <th>l_df</th>\n",
       "      <th>l_svpt</th>\n",
       "      <th>l_1stIn</th>\n",
       "      <th>l_1stWon</th>\n",
       "      <th>l_2ndWon</th>\n",
       "      <th>l_SvGms</th>\n",
       "      <th>l_bpSaved</th>\n",
       "      <th>l_bpFaced</th>\n",
       "    </tr>\n",
       "  </thead>\n",
       "  <tbody>\n",
       "    <tr>\n",
       "      <th>99364</th>\n",
       "      <td>1-6 7-6(6) 6-0</td>\n",
       "      <td>19</td>\n",
       "      <td>114</td>\n",
       "      <td>1957</td>\n",
       "      <td>1330</td>\n",
       "      <td>836</td>\n",
       "      <td>304</td>\n",
       "      <td>12</td>\n",
       "      <td>209</td>\n",
       "      <td>266</td>\n",
       "      <td>19</td>\n",
       "      <td>114</td>\n",
       "      <td>1672</td>\n",
       "      <td>893</td>\n",
       "      <td>532</td>\n",
       "      <td>399</td>\n",
       "      <td>13</td>\n",
       "      <td>114</td>\n",
       "      <td>190</td>\n",
       "    </tr>\n",
       "    <tr>\n",
       "      <th>99384</th>\n",
       "      <td>7-5 6-4</td>\n",
       "      <td>30</td>\n",
       "      <td>20</td>\n",
       "      <td>600</td>\n",
       "      <td>320</td>\n",
       "      <td>220</td>\n",
       "      <td>160</td>\n",
       "      <td>11</td>\n",
       "      <td>40</td>\n",
       "      <td>70</td>\n",
       "      <td>20</td>\n",
       "      <td>40</td>\n",
       "      <td>810</td>\n",
       "      <td>420</td>\n",
       "      <td>250</td>\n",
       "      <td>200</td>\n",
       "      <td>11</td>\n",
       "      <td>120</td>\n",
       "      <td>170</td>\n",
       "    </tr>\n",
       "    <tr>\n",
       "      <th>99567</th>\n",
       "      <td>6-4 7-6(6)</td>\n",
       "      <td>72</td>\n",
       "      <td>72</td>\n",
       "      <td>640</td>\n",
       "      <td>384</td>\n",
       "      <td>280</td>\n",
       "      <td>112</td>\n",
       "      <td>11</td>\n",
       "      <td>16</td>\n",
       "      <td>24</td>\n",
       "      <td>40</td>\n",
       "      <td>0</td>\n",
       "      <td>624</td>\n",
       "      <td>504</td>\n",
       "      <td>320</td>\n",
       "      <td>56</td>\n",
       "      <td>11</td>\n",
       "      <td>32</td>\n",
       "      <td>48</td>\n",
       "    </tr>\n",
       "    <tr>\n",
       "      <th>99631</th>\n",
       "      <td>3-6 7-5 7-6(3)</td>\n",
       "      <td>4</td>\n",
       "      <td>28</td>\n",
       "      <td>400</td>\n",
       "      <td>276</td>\n",
       "      <td>196</td>\n",
       "      <td>48</td>\n",
       "      <td>16</td>\n",
       "      <td>16</td>\n",
       "      <td>36</td>\n",
       "      <td>16</td>\n",
       "      <td>28</td>\n",
       "      <td>464</td>\n",
       "      <td>320</td>\n",
       "      <td>204</td>\n",
       "      <td>68</td>\n",
       "      <td>17</td>\n",
       "      <td>40</td>\n",
       "      <td>60</td>\n",
       "    </tr>\n",
       "    <tr>\n",
       "      <th>99994</th>\n",
       "      <td>5-7 7-5 6-1</td>\n",
       "      <td>0</td>\n",
       "      <td>45</td>\n",
       "      <td>918</td>\n",
       "      <td>702</td>\n",
       "      <td>351</td>\n",
       "      <td>90</td>\n",
       "      <td>15</td>\n",
       "      <td>108</td>\n",
       "      <td>180</td>\n",
       "      <td>0</td>\n",
       "      <td>36</td>\n",
       "      <td>972</td>\n",
       "      <td>774</td>\n",
       "      <td>369</td>\n",
       "      <td>45</td>\n",
       "      <td>16</td>\n",
       "      <td>81</td>\n",
       "      <td>180</td>\n",
       "    </tr>\n",
       "  </tbody>\n",
       "</table>\n",
       "</div>"
      ],
      "text/plain": [
       "                score  w_ace  w_df  w_svpt  w_1stIn  w_1stWon  w_2ndWon  \\\n",
       "99364  1-6 7-6(6) 6-0     19   114    1957     1330       836       304   \n",
       "99384         7-5 6-4     30    20     600      320       220       160   \n",
       "99567      6-4 7-6(6)     72    72     640      384       280       112   \n",
       "99631  3-6 7-5 7-6(3)      4    28     400      276       196        48   \n",
       "99994     5-7 7-5 6-1      0    45     918      702       351        90   \n",
       "\n",
       "       w_SvGms  w_bpSaved  w_bpFaced  l_ace  l_df  l_svpt  l_1stIn  l_1stWon  \\\n",
       "99364       12        209        266     19   114    1672      893       532   \n",
       "99384       11         40         70     20    40     810      420       250   \n",
       "99567       11         16         24     40     0     624      504       320   \n",
       "99631       16         16         36     16    28     464      320       204   \n",
       "99994       15        108        180      0    36     972      774       369   \n",
       "\n",
       "       l_2ndWon  l_SvGms  l_bpSaved  l_bpFaced  \n",
       "99364       399       13        114        190  \n",
       "99384       200       11        120        170  \n",
       "99567        56       11         32         48  \n",
       "99631        68       17         40         60  \n",
       "99994        45       16         81        180  "
      ]
     },
     "metadata": {},
     "output_type": "display_data"
    }
   ],
   "source": [
    "outliers_rows = []\n",
    "\n",
    "t = df[((df.w_1stWon > 100) | (df.l_1stWon > 100)) & (df.best_of == 3)]\n",
    "\n",
    "with pd.option_context('display.max_rows', None, 'display.max_columns', None):\n",
    "    display(t[['score'] + stats_columns])"
   ]
  },
  {
   "cell_type": "markdown",
   "metadata": {},
   "source": [
    "Which are <u>totally senseless values</u>."
   ]
  },
  {
   "cell_type": "code",
   "execution_count": 9,
   "metadata": {},
   "outputs": [],
   "source": [
    "outliers_rows.append(t)"
   ]
  },
  {
   "cell_type": "markdown",
   "metadata": {},
   "source": [
    "So, the approach we want to take is to *exclude values which just can't be happened*. \n",
    "\n",
    "Since we can't say anything about the matches with *5 sets* (but we've verified before that they only belong to the *Big Four* slams, the Olympics and the Davis Cup) since they don't allow the *tie-break* on the last set, so the last two games could possibly last forever (the longest match that ever took place is the famous *Isner - Mahut* at *Wimbledon 2010* which ended the last game in *70-68* for *John Isner*)!\n",
    "\n",
    "In a *best of 3 match*, we can have <u>at most</u> (with high probability):\n",
    "* 144 *first serves* (as explained above)\n",
    "* 288 *total serves* (first and second serve)\n",
    "* 105 *winning serves* or *double faults* (5 winning serves *per game* in 18 serving games)\n",
    "* 78 *break points* (assuming an overestimation of 2 break points per game in a *7-6 6-7 7-6* match)\n",
    "\n",
    "Furthermore, we have to remember that *the player with the highest number of aces in a match* is John Isner with *113 aces*, in the famous match mentioned above.\n",
    "\n",
    "Now that we know all of this, we can remove some false statistics."
   ]
  },
  {
   "cell_type": "code",
   "execution_count": 10,
   "metadata": {},
   "outputs": [],
   "source": [
    "outliers_rows.append(df[((df.w_svpt > 288) | (df.l_svpt > 288)) & (df.best_of == 3)])\n",
    "outliers_rows.append(df[((df.w_df > 105) | (df.l_df > 105)) & (df.best_of == 3)])\n",
    "outliers_rows.append(df[((df.w_2ndWon > 105) | (df.l_2ndWon > 105)) & (df.best_of == 3)])\n",
    "outliers_rows.append(df[((df.w_bpFaced > 78) | (df.l_bpFaced > 78)) & (df.best_of == 3)])\n",
    "\n",
    "outliers_rows.append(df[(df.w_ace > 113) | (df.l_ace > 113)])"
   ]
  },
  {
   "cell_type": "code",
   "execution_count": 11,
   "metadata": {},
   "outputs": [],
   "source": [
    "outliers = pd.concat(outliers_rows).drop_duplicates()\n",
    "df.loc[outliers.index, stats_columns] = np.nan"
   ]
  },
  {
   "cell_type": "markdown",
   "metadata": {},
   "source": [
    "At the same way, it's impossible that a player has won a match *without scoring any points*, <u>unless the match its won by flat rate</u>. Thus, we remove those in the same way since we don't want them to falsify the future features."
   ]
  },
  {
   "cell_type": "code",
   "execution_count": 12,
   "metadata": {},
   "outputs": [],
   "source": [
    "df.loc[df.w_svpt == 0, 'w_svpt'] = np.nan\n",
    "df.loc[df.l_svpt == 0, 'l_svpt'] = np.nan\n",
    "df.loc[df.w_SvGms == 0, 'w_SvGms'] = np.nan\n",
    "df.loc[df.l_SvGms == 0, 'l_SvGms'] = np.nan"
   ]
  },
  {
   "cell_type": "code",
   "execution_count": 13,
   "metadata": {},
   "outputs": [
    {
     "data": {
      "text/plain": [
       "'pd.plotting.scatter_matrix(\\n    df[stats_columns],\\n    alpha=0.4,\\n    figsize=(10, 10))\\npass'"
      ]
     },
     "execution_count": 13,
     "metadata": {},
     "output_type": "execute_result"
    }
   ],
   "source": [
    "\"\"\"pd.plotting.scatter_matrix(\n",
    "    df[stats_columns],\n",
    "    alpha=0.4,\n",
    "    figsize=(10, 10))\n",
    "pass\"\"\""
   ]
  },
  {
   "cell_type": "code",
   "execution_count": 14,
   "metadata": {},
   "outputs": [],
   "source": [
    "#sns.pairplot(df[stats_columns], corner=True, dropna=True, height=2)"
   ]
  },
  {
   "cell_type": "code",
   "execution_count": 15,
   "metadata": {},
   "outputs": [],
   "source": [
    "corr = df.drop(columns=['match_num', 'winner_rank_points', 'loser_rank_points']).corr()"
   ]
  },
  {
   "cell_type": "code",
   "execution_count": 16,
   "metadata": {},
   "outputs": [
    {
     "data": {
      "text/plain": [
       "<AxesSubplot:>"
      ]
     },
     "execution_count": 16,
     "metadata": {},
     "output_type": "execute_result"
    },
    {
     "data": {
      "image/png": "[encoded data removed]",
      "text/plain": [
       "<Figure size 715x585 with 2 Axes>"
      ]
     },
     "metadata": {},
     "output_type": "display_data"
    }
   ],
   "source": [
    "# Generate a mask for the upper triangle\n",
    "mask = np.triu(np.ones_like(corr, dtype=bool))\n",
    "\n",
    "# Set up the matplotlib figure\n",
    "f, ax = plt.subplots(figsize=(11, 9))\n",
    "\n",
    "# Generate a custom diverging colormap\n",
    "cmap = sns.diverging_palette(230, 20, as_cmap=True)\n",
    "\n",
    "# Draw the heatmap with the mask and correct aspect ratio\n",
    "sns.heatmap(corr, mask=mask, cmap=cmap, center=0,\n",
    "            square=True, linewidths=.5, cbar_kws={\"shrink\": .5})"
   ]
  },
  {
   "cell_type": "markdown",
   "metadata": {
    "id": "aNm_l_fb22n3"
   },
   "source": [
    "## Filling NaNs"
   ]
  },
  {
   "cell_type": "markdown",
   "metadata": {},
   "source": [
    "The following step consists in managing the *null* values of the dataset. Obviously we are not interested in filling the dataset of the matches but rather we are interested in filling the players' and tournaments' dataset missing information, since we are going to use them in the next tasks. Moreover, we are *highly* interested in <u>preserving the current distributions</u> when filling the null values. "
   ]
  },
  {
   "cell_type": "code",
   "execution_count": 17,
   "metadata": {},
   "outputs": [
    {
     "name": "stdout",
     "output_type": "stream",
     "text": [
      "<class 'pandas.core.frame.DataFrame'>\n",
      "MultiIndex: 4933 entries, ('2019-m020', 'm') to ('2020-w-itf-usa-48a-2020', 'f')\n",
      "Data columns (total 2 columns):\n",
      " #   Column         Non-Null Count  Dtype \n",
      "---  ------         --------------  ----- \n",
      " 0   draw_size      4933 non-null   Int64 \n",
      " 1   tourney_level  4933 non-null   string\n",
      "dtypes: Int64(1), string(1)\n",
      "memory usage: 263.5+ KB\n"
     ]
    }
   ],
   "source": [
    "tourneys_sex_df.info()"
   ]
  },
  {
   "cell_type": "markdown",
   "metadata": {},
   "source": [
    "Luckily, one of three dataframe doesn't need it."
   ]
  },
  {
   "cell_type": "markdown",
   "metadata": {
    "id": "_jwht3O822n3"
   },
   "source": [
    "#### Surface"
   ]
  },
  {
   "cell_type": "markdown",
   "metadata": {},
   "source": [
    "Let's start with the missing values in the `tourneys_df` dataset."
   ]
  },
  {
   "cell_type": "code",
   "execution_count": 18,
   "metadata": {},
   "outputs": [
    {
     "name": "stdout",
     "output_type": "stream",
     "text": [
      "<class 'pandas.core.frame.DataFrame'>\n",
      "Index: 4853 entries, 2019-m020 to 2020-w-itf-usa-48a-2020\n",
      "Data columns (total 5 columns):\n",
      " #   Column              Non-Null Count  Dtype         \n",
      "---  ------              --------------  -----         \n",
      " 0   tourney_name        4853 non-null   string        \n",
      " 1   surface             4791 non-null   string        \n",
      " 2   tourney_date        4853 non-null   datetime64[ns]\n",
      " 3   tourney_spectators  4853 non-null   Int64         \n",
      " 4   tourney_revenue     4853 non-null   Float64       \n",
      "dtypes: Float64(1), Int64(1), datetime64[ns](1), string(2)\n",
      "memory usage: 237.0+ KB\n"
     ]
    }
   ],
   "source": [
    "tourneys_df.info()"
   ]
  },
  {
   "cell_type": "markdown",
   "metadata": {},
   "source": [
    "The only feature that needs to be filled is the *surface*. We plot its distribution."
   ]
  },
  {
   "cell_type": "code",
   "execution_count": 19,
   "metadata": {
    "id": "kvLJdJ_f22n3"
   },
   "outputs": [
    {
     "data": {
      "text/plain": [
       "<AxesSubplot:>"
      ]
     },
     "execution_count": 19,
     "metadata": {},
     "output_type": "execute_result"
    },
    {
     "data": {
      "image/png": "[encoded data removed]",
      "text/plain": [
       "<Figure size 650x260 with 1 Axes>"
      ]
     },
     "metadata": {},
     "output_type": "display_data"
    }
   ],
   "source": [
    "sns.set(rc={'figure.figsize':(10,4)})\n",
    "tourneys_df['surface'].value_counts(normalize=True).plot(kind='bar')"
   ]
  },
  {
   "cell_type": "markdown",
   "metadata": {},
   "source": [
    "Let's see which are the tournaments where the surface is missing."
   ]
  },
  {
   "cell_type": "code",
   "execution_count": 20,
   "metadata": {
    "id": "wKbWfkhI22n4"
   },
   "outputs": [
    {
     "data": {
      "text/plain": [
       "tourney_id\n",
       "2017-w-fc-2017-g2-am-a-m-ecu-cub-01      fed cup g2 rr: ecu vs cub\n",
       "2017-w-fc-2017-g2-am-a-m-ecu-uru-01      fed cup g2 rr: ecu vs uru\n",
       "2017-w-fc-2017-g2-am-a-m-uru-cub-01      fed cup g2 rr: uru vs cub\n",
       "2017-w-fc-2017-g2-am-b-m-dom-bar-01      fed cup g2 rr: dom vs bar\n",
       "2017-w-fc-2017-g2-am-b-m-gua-bar-01      fed cup g2 rr: gua vs bar\n",
       "                                                  ...             \n",
       "2017-m-dc-2017-g2-epa-m-mon-slo-01     davis cup g2 r1: mon vs slo\n",
       "2017-m-dc-2017-g2-epa-m-nor-lat-01     davis cup g2 r1: nor vs lat\n",
       "2017-m-dc-2017-g2-epa-m-tur-cyp-01     davis cup g2 r1: tur vs cyp\n",
       "2017-m-dc-2017-g2-ao-m-vie-hkg-01      davis cup g2 r1: vie vs hkg\n",
       "2017-m-dc-2017-g1-ao-m-tpe-chn-01      davis cup g1 r1: tpe vs chn\n",
       "Name: tourney_name, Length: 62, dtype: string"
      ]
     },
     "metadata": {},
     "output_type": "display_data"
    }
   ],
   "source": [
    "t = tourneys_df[tourneys_df['surface'].isna()]\n",
    "display(t['tourney_name'])"
   ]
  },
  {
   "cell_type": "markdown",
   "metadata": {},
   "source": [
    "It seems that a lot of these matches are played in the *Davis Cup* or the *Fed Cup* (Billie Jean King Cup), are all the matches where the surface is null played in these two tournaments?"
   ]
  },
  {
   "cell_type": "code",
   "execution_count": 21,
   "metadata": {},
   "outputs": [
    {
     "data": {
      "text/html": [
       "<div>\n",
       "<style scoped>\n",
       "    .dataframe tbody tr th:only-of-type {\n",
       "        vertical-align: middle;\n",
       "    }\n",
       "\n",
       "    .dataframe tbody tr th {\n",
       "        vertical-align: top;\n",
       "    }\n",
       "\n",
       "    .dataframe thead th {\n",
       "        text-align: right;\n",
       "    }\n",
       "</style>\n",
       "<table border=\"1\" class=\"dataframe\">\n",
       "  <thead>\n",
       "    <tr style=\"text-align: right;\">\n",
       "      <th></th>\n",
       "      <th>tourney_name</th>\n",
       "      <th>surface</th>\n",
       "      <th>tourney_date</th>\n",
       "      <th>tourney_spectators</th>\n",
       "      <th>tourney_revenue</th>\n",
       "    </tr>\n",
       "    <tr>\n",
       "      <th>tourney_id</th>\n",
       "      <th></th>\n",
       "      <th></th>\n",
       "      <th></th>\n",
       "      <th></th>\n",
       "      <th></th>\n",
       "    </tr>\n",
       "  </thead>\n",
       "  <tbody>\n",
       "  </tbody>\n",
       "</table>\n",
       "</div>"
      ],
      "text/plain": [
       "Empty DataFrame\n",
       "Columns: [tourney_name, surface, tourney_date, tourney_spectators, tourney_revenue]\n",
       "Index: []"
      ]
     },
     "execution_count": 21,
     "metadata": {},
     "output_type": "execute_result"
    }
   ],
   "source": [
    "t[~(t['tourney_name'].str.contains('davis') | t['tourney_name'].str.contains('fed'))]"
   ]
  },
  {
   "cell_type": "markdown",
   "metadata": {
    "id": "-Jwictvw22n4"
   },
   "source": [
    "All the rows with invalid surface are matches of the Davis Cup or Fed Cup, which are tournaments where each match is played on a different surface, except for the carpet. So we will drop it from the distribution."
   ]
  },
  {
   "cell_type": "code",
   "execution_count": 22,
   "metadata": {
    "id": "W2NMxxsZ22n5"
   },
   "outputs": [
    {
     "data": {
      "text/plain": [
       "hard      0.533918\n",
       "clay      0.426216\n",
       "grass     0.021499\n",
       "carpet    0.018368\n",
       "Name: surface, dtype: Float64"
      ]
     },
     "execution_count": 22,
     "metadata": {},
     "output_type": "execute_result"
    }
   ],
   "source": [
    "surface_dist = tourneys_df['surface'][tourneys_df['surface'] != 'Carpet'].value_counts(normalize=True)\n",
    "surface_dist"
   ]
  },
  {
   "cell_type": "markdown",
   "metadata": {},
   "source": [
    "And we just fill the null entries *according to the distribution* above."
   ]
  },
  {
   "cell_type": "code",
   "execution_count": 23,
   "metadata": {
    "id": "tr2RmABO22n5"
   },
   "outputs": [],
   "source": [
    "miss = tourneys_df['surface'].isna()\n",
    "tourneys_df.loc[miss, 'surface'] = np.random.choice(surface_dist.index, size=len(tourneys_df[miss]), p=surface_dist.values)"
   ]
  },
  {
   "cell_type": "markdown",
   "metadata": {},
   "source": [
    "We plot again the distribution."
   ]
  },
  {
   "cell_type": "code",
   "execution_count": 24,
   "metadata": {
    "id": "IZViwITD22n5"
   },
   "outputs": [
    {
     "data": {
      "text/plain": [
       "<AxesSubplot:>"
      ]
     },
     "execution_count": 24,
     "metadata": {},
     "output_type": "execute_result"
    },
    {
     "data": {
      "image/png": "[encoded data removed]",
      "text/plain": [
       "<Figure size 650x260 with 1 Axes>"
      ]
     },
     "metadata": {},
     "output_type": "display_data"
    }
   ],
   "source": [
    "sns.set(rc={'figure.figsize':(10,4)})\n",
    "tourneys_df['surface'].value_counts(normalize=True).plot(kind='bar')"
   ]
  },
  {
   "cell_type": "markdown",
   "metadata": {},
   "source": [
    "Which respects the previous one!"
   ]
  },
  {
   "cell_type": "markdown",
   "metadata": {
    "id": "tZ3VN8lI22n5"
   },
   "source": [
    "#### Height - Hand - Nationality"
   ]
  },
  {
   "cell_type": "code",
   "execution_count": 25,
   "metadata": {},
   "outputs": [
    {
     "name": "stdout",
     "output_type": "stream",
     "text": [
      "<class 'pandas.core.frame.DataFrame'>\n",
      "Index: 5027 entries, kei nishikori to kai lin zhang\n",
      "Data columns (total 6 columns):\n",
      " #   Column       Non-Null Count  Dtype \n",
      "---  ------       --------------  ----- \n",
      " 0   hand         2477 non-null   string\n",
      " 1   ioc          5023 non-null   string\n",
      " 2   ht           477 non-null    Int64 \n",
      " 3   sex          5027 non-null   string\n",
      " 4   match_count  5027 non-null   Int64 \n",
      " 5   birthday     4538 non-null   object\n",
      "dtypes: Int64(2), object(1), string(3)\n",
      "memory usage: 413.8+ KB\n"
     ]
    }
   ],
   "source": [
    "players.info()"
   ]
  },
  {
   "cell_type": "markdown",
   "metadata": {},
   "source": [
    "The information to be filled in the `players` dataframe are the `ht`, `hand` and `ioc` attributes.\n",
    "\n",
    "We start with the *height*. We plot the two distributions <u>according to the different sex of the players</u>."
   ]
  },
  {
   "cell_type": "code",
   "execution_count": 26,
   "metadata": {
    "id": "zENEx3dW22n6"
   },
   "outputs": [
    {
     "data": {
      "image/png": "[encoded data removed]",
      "text/plain": [
       "<Figure size 650x260 with 1 Axes>"
      ]
     },
     "metadata": {},
     "output_type": "display_data"
    }
   ],
   "source": [
    "sns.set(rc={'figure.figsize':(10,4)})\n",
    "sex = ['m', 'f']\n",
    "for s in sex:\n",
    "    players.ht[players.sex == s].plot(kind='kde')\n",
    "plt.legend(sex, loc='best')\n",
    "plt.show()"
   ]
  },
  {
   "cell_type": "markdown",
   "metadata": {},
   "source": [
    "And we fill the *null* values with a *normal distribution* generated using the mean and the standard deviation of the two distributions above."
   ]
  },
  {
   "cell_type": "code",
   "execution_count": 27,
   "metadata": {
    "id": "G-hKBGH622n6"
   },
   "outputs": [],
   "source": [
    "for s in sex:\n",
    "    dist = players['ht'][players['sex'] == s].value_counts(normalize=True)\n",
    "    miss = players['ht'][players['sex'] == s].isna()\n",
    "    p_s = players.loc[players['sex'] == s, 'ht']\n",
    "    players.loc[(players['sex'] == s) & (miss), 'ht'] = np.random.normal(loc=p_s.mean(), scale=p_s.std(), size=len(p_s[miss])).astype(int)"
   ]
  },
  {
   "cell_type": "markdown",
   "metadata": {},
   "source": [
    "Plotting again we can see how the distributions have been preserved."
   ]
  },
  {
   "cell_type": "code",
   "execution_count": 28,
   "metadata": {
    "id": "1uEdQZX422n7"
   },
   "outputs": [
    {
     "data": {
      "image/png": "[encoded data removed]",
      "text/plain": [
       "<Figure size 650x260 with 1 Axes>"
      ]
     },
     "metadata": {},
     "output_type": "display_data"
    }
   ],
   "source": [
    "sns.set(rc={'figure.figsize':(10,4)})\n",
    "sex = ['m', 'f']\n",
    "for s in sex:\n",
    "    players.ht[players.sex == s].plot(kind='kde')\n",
    "plt.legend(sex, loc='best')\n",
    "plt.show()"
   ]
  },
  {
   "cell_type": "markdown",
   "metadata": {},
   "source": [
    "Following, we move on the *nationalities* of the players."
   ]
  },
  {
   "cell_type": "code",
   "execution_count": 29,
   "metadata": {
    "id": "OFj50GiO22n7"
   },
   "outputs": [
    {
     "data": {
      "text/html": [
       "<div>\n",
       "<style scoped>\n",
       "    .dataframe tbody tr th:only-of-type {\n",
       "        vertical-align: middle;\n",
       "    }\n",
       "\n",
       "    .dataframe tbody tr th {\n",
       "        vertical-align: top;\n",
       "    }\n",
       "\n",
       "    .dataframe thead th {\n",
       "        text-align: right;\n",
       "    }\n",
       "</style>\n",
       "<table border=\"1\" class=\"dataframe\">\n",
       "  <thead>\n",
       "    <tr style=\"text-align: right;\">\n",
       "      <th></th>\n",
       "      <th>hand</th>\n",
       "      <th>ioc</th>\n",
       "      <th>ht</th>\n",
       "      <th>sex</th>\n",
       "      <th>match_count</th>\n",
       "      <th>birthday</th>\n",
       "    </tr>\n",
       "    <tr>\n",
       "      <th>fullname</th>\n",
       "      <th></th>\n",
       "      <th></th>\n",
       "      <th></th>\n",
       "      <th></th>\n",
       "      <th></th>\n",
       "      <th></th>\n",
       "    </tr>\n",
       "  </thead>\n",
       "  <tbody>\n",
       "    <tr>\n",
       "      <th>risa ozaki</th>\n",
       "      <td>r</td>\n",
       "      <td>&lt;NA&gt;</td>\n",
       "      <td>181</td>\n",
       "      <td>f</td>\n",
       "      <td>219</td>\n",
       "      <td>1994-04-15</td>\n",
       "    </tr>\n",
       "    <tr>\n",
       "      <th>marie bouzkova</th>\n",
       "      <td>&lt;NA&gt;</td>\n",
       "      <td>&lt;NA&gt;</td>\n",
       "      <td>166</td>\n",
       "      <td>f</td>\n",
       "      <td>315</td>\n",
       "      <td>1998-07-25</td>\n",
       "    </tr>\n",
       "    <tr>\n",
       "      <th>luksika kumkhum</th>\n",
       "      <td>r</td>\n",
       "      <td>&lt;NA&gt;</td>\n",
       "      <td>181</td>\n",
       "      <td>f</td>\n",
       "      <td>187</td>\n",
       "      <td>1993-07-27</td>\n",
       "    </tr>\n",
       "    <tr>\n",
       "      <th>naomi broady</th>\n",
       "      <td>r</td>\n",
       "      <td>&lt;NA&gt;</td>\n",
       "      <td>178</td>\n",
       "      <td>f</td>\n",
       "      <td>211</td>\n",
       "      <td>1990-03-06</td>\n",
       "    </tr>\n",
       "  </tbody>\n",
       "</table>\n",
       "</div>"
      ],
      "text/plain": [
       "                 hand   ioc   ht sex  match_count    birthday\n",
       "fullname                                                     \n",
       "risa ozaki          r  <NA>  181   f          219  1994-04-15\n",
       "marie bouzkova   <NA>  <NA>  166   f          315  1998-07-25\n",
       "luksika kumkhum     r  <NA>  181   f          187  1993-07-27\n",
       "naomi broady        r  <NA>  178   f          211  1990-03-06"
      ]
     },
     "execution_count": 29,
     "metadata": {},
     "output_type": "execute_result"
    }
   ],
   "source": [
    "players[players['ioc'].isna()]"
   ]
  },
  {
   "cell_type": "markdown",
   "metadata": {},
   "source": [
    "Luckily they are only four and we can manage them manually with a web search."
   ]
  },
  {
   "cell_type": "code",
   "execution_count": 30,
   "metadata": {
    "id": "ZgWbXiv122n7"
   },
   "outputs": [],
   "source": [
    "players.loc['risa ozaki', 'ioc'] = 'jpn'\n",
    "players.loc['marie bouzkova', 'ioc'] = 'cze'\n",
    "players.loc['luksika kumkhum', 'ioc'] = 'tha'\n",
    "players.loc['naomi broady', 'ioc'] = 'unk'"
   ]
  },
  {
   "cell_type": "markdown",
   "metadata": {},
   "source": [
    "Finally, the `hand` of the players.\n",
    "\n",
    "Again, we want to preserve the original distribution."
   ]
  },
  {
   "cell_type": "code",
   "execution_count": 31,
   "metadata": {
    "id": "uuuUFVdB22n7"
   },
   "outputs": [
    {
     "data": {
      "text/plain": [
       "<AxesSubplot:>"
      ]
     },
     "execution_count": 31,
     "metadata": {},
     "output_type": "execute_result"
    },
    {
     "data": {
      "image/png": "[encoded data removed]",
      "text/plain": [
       "<Figure size 650x260 with 1 Axes>"
      ]
     },
     "metadata": {},
     "output_type": "display_data"
    }
   ],
   "source": [
    "sns.set(rc={'figure.figsize':(10,4)})\n",
    "players['hand'].value_counts(normalize=True).plot(kind='bar')"
   ]
  },
  {
   "cell_type": "code",
   "execution_count": 32,
   "metadata": {
    "id": "nGf55wT022n8"
   },
   "outputs": [],
   "source": [
    "hand_dist = players['hand'].value_counts(normalize=True)\n",
    "miss = players['hand'].isna()\n",
    "players.loc[miss, 'hand'] = np.random.choice(a=hand_dist.index, size=len(players[miss]), p=hand_dist.values)"
   ]
  },
  {
   "cell_type": "code",
   "execution_count": 33,
   "metadata": {
    "id": "Xr1Ue4HM22n8"
   },
   "outputs": [
    {
     "data": {
      "text/plain": [
       "<AxesSubplot:>"
      ]
     },
     "execution_count": 33,
     "metadata": {},
     "output_type": "execute_result"
    },
    {
     "data": {
      "image/png": "[encoded data removed]",
      "text/plain": [
       "<Figure size 650x260 with 1 Axes>"
      ]
     },
     "metadata": {},
     "output_type": "display_data"
    }
   ],
   "source": [
    "sns.set(rc={'figure.figsize':(10,4)})\n",
    "players['hand'].value_counts(normalize=True).plot(kind='bar')"
   ]
  },
  {
   "cell_type": "markdown",
   "metadata": {},
   "source": [
    "And we did."
   ]
  },
  {
   "cell_type": "code",
   "execution_count": 34,
   "metadata": {
    "id": "f5zz-CaG22n8"
   },
   "outputs": [
    {
     "name": "stdout",
     "output_type": "stream",
     "text": [
      "<class 'pandas.core.frame.DataFrame'>\n",
      "Index: 5027 entries, kei nishikori to kai lin zhang\n",
      "Data columns (total 6 columns):\n",
      " #   Column       Non-Null Count  Dtype \n",
      "---  ------       --------------  ----- \n",
      " 0   hand         5027 non-null   string\n",
      " 1   ioc          5027 non-null   string\n",
      " 2   ht           5027 non-null   Int64 \n",
      " 3   sex          5027 non-null   string\n",
      " 4   match_count  5027 non-null   Int64 \n",
      " 5   birthday     4538 non-null   object\n",
      "dtypes: Int64(2), object(1), string(3)\n",
      "memory usage: 413.8+ KB\n"
     ]
    }
   ],
   "source": [
    "players.info()"
   ]
  },
  {
   "cell_type": "code",
   "execution_count": 35,
   "metadata": {
    "id": "u8Aw21y522n8"
   },
   "outputs": [
    {
     "name": "stdout",
     "output_type": "stream",
     "text": [
      "<class 'pandas.core.frame.DataFrame'>\n",
      "Index: 4853 entries, 2019-m020 to 2020-w-itf-usa-48a-2020\n",
      "Data columns (total 5 columns):\n",
      " #   Column              Non-Null Count  Dtype         \n",
      "---  ------              --------------  -----         \n",
      " 0   tourney_name        4853 non-null   string        \n",
      " 1   surface             4853 non-null   string        \n",
      " 2   tourney_date        4853 non-null   datetime64[ns]\n",
      " 3   tourney_spectators  4853 non-null   Int64         \n",
      " 4   tourney_revenue     4853 non-null   Float64       \n",
      "dtypes: Float64(1), Int64(1), datetime64[ns](1), string(2)\n",
      "memory usage: 237.0+ KB\n"
     ]
    }
   ],
   "source": [
    "tourneys_df.info()"
   ]
  },
  {
   "cell_type": "markdown",
   "metadata": {},
   "source": [
    "## Feature Creation"
   ]
  },
  {
   "cell_type": "markdown",
   "metadata": {},
   "source": [
    "Finally we have all the ingredients needed for the features extraction of the players' dataframe.\n",
    "\n",
    "The features we have found as interesting and useful for the next tasks are the followings:\n",
    "* `stats_match_count`: number of matches with available stats of each tennis player\n",
    "* `ace_mean`, `ace_std`, `df_mean`, `df_std`: mean and standard deviation of number of aces and number of double faults\n",
    "* `ace_ratio`, `df_ratio`: ratio of aces and double faults out of all services of the player\n",
    "* `bp_saved_ratio`: ratio of saved breakpoint out of faced ones\n",
    "* `bp_w_ratio`: ratio of won breakpoints out of fought ones\n",
    "* `svpt_w_ratio`: ratio of won points out of the ones in which the player served\n",
    "* `svpt_2nd_w_ratio`: ratio of second-serve won point out of the ones in which the player served and won\n",
    "* `svpt_1st_fail_ratio`: ratio of points in which the player failed the first serve out of all the points in which the player served\n",
    "* `w_ratio`: ratio of won matches out of played matches\n",
    "* `w_ratio_semX`: ratio of won matches out of played matches, in semester $X \\in [0, 12]$\n",
    "* `underdog_w_ratio` and `underdog_match_count`: ratio of won matches as underdog (when the player has a lower rank than its opponent)\n",
    "* `grass_w_ratio`, `clay_w_ratio`, `hard_w_ratio`, `carpet_w_ratio`: ratio of won matches on each type of tennis court\n",
    "* `l1_tourney_count`, `l2_tourney_count`: number of Level 1 and Level 2 tournaments in which the player partecipated\n",
    "* `f_match_count`, `sf_match_count`: number of finals and semifinals match played\n",
    "* `l1_f_match_count`, `l1_sf_match_count`, `l2_f_match_count`, `l2_sf_match_count`: number of finals and semifinals match played in tournaments of Level 1 and Level 2\n",
    "* `rank_semX`: mean rank of the player in the semester $X \\in [0, 12]$\n",
    "* `mean_rank`: mean rank of the player along all the semesters\n",
    "* `rank_points_semX`: mean rank points of the player in the semester $X \\in [0, 12]$"
   ]
  },
  {
   "cell_type": "markdown",
   "metadata": {},
   "source": [
    "### Preparing the Dataset for the extraction"
   ]
  },
  {
   "cell_type": "markdown",
   "metadata": {},
   "source": [
    "Preliminary to the extraction is the preparation of the dataset. Until now we have kept all the *reasonable* tennis matches in the dataframe, however now we must deal with the features extraction which mainly concerns *stats about the player*, for this reason we are going to drop <u>all the stats about matches ended up with retirement or won by default</u> since they are an incomplete source of information."
   ]
  },
  {
   "cell_type": "code",
   "execution_count": 36,
   "metadata": {},
   "outputs": [
    {
     "data": {
      "text/plain": [
       "3.6542167766664155"
      ]
     },
     "execution_count": 36,
     "metadata": {},
     "output_type": "execute_result"
    }
   ],
   "source": [
    "len(df[df['score'].str.contains('r') | df['score'].str.contains('w/o')])/len(df) * 100"
   ]
  },
  {
   "cell_type": "markdown",
   "metadata": {},
   "source": [
    "Those matches represents the $3.65\\%$ of the dataset."
   ]
  },
  {
   "cell_type": "code",
   "execution_count": 37,
   "metadata": {},
   "outputs": [],
   "source": [
    "p = df[df['score'].str.contains('r') | df['score'].str.contains('w/o')]\n",
    "df.loc[p.index, stats_columns] = np.nan"
   ]
  },
  {
   "cell_type": "markdown",
   "metadata": {},
   "source": [
    "Furthermore, we are going to remove all the players that, after this drop, <u>don't have any more match statistics available</u>."
   ]
  },
  {
   "cell_type": "code",
   "execution_count": 38,
   "metadata": {},
   "outputs": [
    {
     "data": {
      "text/plain": [
       "['w_ace',\n",
       " 'w_df',\n",
       " 'w_svpt',\n",
       " 'w_1stIn',\n",
       " 'w_1stWon',\n",
       " 'w_2ndWon',\n",
       " 'w_SvGms',\n",
       " 'w_bpSaved',\n",
       " 'w_bpFaced',\n",
       " 'winner_rank',\n",
       " 'winner_rank_points']"
      ]
     },
     "metadata": {},
     "output_type": "display_data"
    },
    {
     "data": {
      "text/plain": [
       "['l_ace',\n",
       " 'l_df',\n",
       " 'l_svpt',\n",
       " 'l_1stIn',\n",
       " 'l_1stWon',\n",
       " 'l_2ndWon',\n",
       " 'l_SvGms',\n",
       " 'l_bpSaved',\n",
       " 'l_bpFaced',\n",
       " 'loser_rank',\n",
       " 'loser_rank_points']"
      ]
     },
     "metadata": {},
     "output_type": "display_data"
    }
   ],
   "source": [
    "w_stats_columns = list(filter(lambda k: 'w_' in k, df.columns)) + ['winner_rank', 'winner_rank_points']\n",
    "l_stats_columns = list(filter(lambda k: 'l_' in k, df.columns)) + ['loser_rank', 'loser_rank_points']\n",
    "display(w_stats_columns)\n",
    "display(l_stats_columns)"
   ]
  },
  {
   "cell_type": "code",
   "execution_count": 39,
   "metadata": {},
   "outputs": [
    {
     "data": {
      "text/html": [
       "<div>\n",
       "<style scoped>\n",
       "    .dataframe tbody tr th:only-of-type {\n",
       "        vertical-align: middle;\n",
       "    }\n",
       "\n",
       "    .dataframe tbody tr th {\n",
       "        vertical-align: top;\n",
       "    }\n",
       "\n",
       "    .dataframe thead th {\n",
       "        text-align: right;\n",
       "    }\n",
       "</style>\n",
       "<table border=\"1\" class=\"dataframe\">\n",
       "  <thead>\n",
       "    <tr style=\"text-align: right;\">\n",
       "      <th></th>\n",
       "      <th>fullname</th>\n",
       "      <th>ace</th>\n",
       "      <th>df</th>\n",
       "      <th>svpt</th>\n",
       "      <th>1stIn</th>\n",
       "      <th>1stWon</th>\n",
       "      <th>2ndWon</th>\n",
       "      <th>SvGms</th>\n",
       "      <th>bpSaved</th>\n",
       "      <th>bpFaced</th>\n",
       "      <th>winner_rank</th>\n",
       "      <th>winner_rank_points</th>\n",
       "      <th>loser_rank</th>\n",
       "      <th>loser_rank_points</th>\n",
       "    </tr>\n",
       "  </thead>\n",
       "  <tbody>\n",
       "    <tr>\n",
       "      <th>0</th>\n",
       "      <td>kei nishikori</td>\n",
       "      <td>3</td>\n",
       "      <td>3</td>\n",
       "      <td>77</td>\n",
       "      <td>44</td>\n",
       "      <td>31</td>\n",
       "      <td>17</td>\n",
       "      <td>13</td>\n",
       "      <td>3</td>\n",
       "      <td>6</td>\n",
       "      <td>9</td>\n",
       "      <td>3590</td>\n",
       "      <td>&lt;NA&gt;</td>\n",
       "      <td>&lt;NA&gt;</td>\n",
       "    </tr>\n",
       "    <tr>\n",
       "      <th>1</th>\n",
       "      <td>daniil medvedev</td>\n",
       "      <td>10</td>\n",
       "      <td>1</td>\n",
       "      <td>52</td>\n",
       "      <td>33</td>\n",
       "      <td>28</td>\n",
       "      <td>14</td>\n",
       "      <td>10</td>\n",
       "      <td>0</td>\n",
       "      <td>1</td>\n",
       "      <td>16</td>\n",
       "      <td>1977</td>\n",
       "      <td>&lt;NA&gt;</td>\n",
       "      <td>&lt;NA&gt;</td>\n",
       "    </tr>\n",
       "    <tr>\n",
       "      <th>2</th>\n",
       "      <td>kei nishikori</td>\n",
       "      <td>2</td>\n",
       "      <td>2</td>\n",
       "      <td>47</td>\n",
       "      <td>33</td>\n",
       "      <td>26</td>\n",
       "      <td>9</td>\n",
       "      <td>8</td>\n",
       "      <td>2</td>\n",
       "      <td>2</td>\n",
       "      <td>9</td>\n",
       "      <td>3590</td>\n",
       "      <td>&lt;NA&gt;</td>\n",
       "      <td>&lt;NA&gt;</td>\n",
       "    </tr>\n",
       "    <tr>\n",
       "      <th>3</th>\n",
       "      <td>jo-wilfried tsonga</td>\n",
       "      <td>12</td>\n",
       "      <td>2</td>\n",
       "      <td>68</td>\n",
       "      <td>43</td>\n",
       "      <td>34</td>\n",
       "      <td>15</td>\n",
       "      <td>11</td>\n",
       "      <td>4</td>\n",
       "      <td>5</td>\n",
       "      <td>239</td>\n",
       "      <td>200</td>\n",
       "      <td>&lt;NA&gt;</td>\n",
       "      <td>&lt;NA&gt;</td>\n",
       "    </tr>\n",
       "    <tr>\n",
       "      <th>4</th>\n",
       "      <td>daniil medvedev</td>\n",
       "      <td>12</td>\n",
       "      <td>3</td>\n",
       "      <td>105</td>\n",
       "      <td>68</td>\n",
       "      <td>48</td>\n",
       "      <td>25</td>\n",
       "      <td>16</td>\n",
       "      <td>8</td>\n",
       "      <td>8</td>\n",
       "      <td>16</td>\n",
       "      <td>1977</td>\n",
       "      <td>&lt;NA&gt;</td>\n",
       "      <td>&lt;NA&gt;</td>\n",
       "    </tr>\n",
       "    <tr>\n",
       "      <th>...</th>\n",
       "      <td>...</td>\n",
       "      <td>...</td>\n",
       "      <td>...</td>\n",
       "      <td>...</td>\n",
       "      <td>...</td>\n",
       "      <td>...</td>\n",
       "      <td>...</td>\n",
       "      <td>...</td>\n",
       "      <td>...</td>\n",
       "      <td>...</td>\n",
       "      <td>...</td>\n",
       "      <td>...</td>\n",
       "      <td>...</td>\n",
       "      <td>...</td>\n",
       "    </tr>\n",
       "    <tr>\n",
       "      <th>186068</th>\n",
       "      <td>eleana yu</td>\n",
       "      <td>&lt;NA&gt;</td>\n",
       "      <td>&lt;NA&gt;</td>\n",
       "      <td>&lt;NA&gt;</td>\n",
       "      <td>&lt;NA&gt;</td>\n",
       "      <td>&lt;NA&gt;</td>\n",
       "      <td>&lt;NA&gt;</td>\n",
       "      <td>&lt;NA&gt;</td>\n",
       "      <td>&lt;NA&gt;</td>\n",
       "      <td>&lt;NA&gt;</td>\n",
       "      <td>&lt;NA&gt;</td>\n",
       "      <td>&lt;NA&gt;</td>\n",
       "      <td>1216</td>\n",
       "      <td>6</td>\n",
       "    </tr>\n",
       "    <tr>\n",
       "      <th>186069</th>\n",
       "      <td>jessica livianu</td>\n",
       "      <td>&lt;NA&gt;</td>\n",
       "      <td>&lt;NA&gt;</td>\n",
       "      <td>&lt;NA&gt;</td>\n",
       "      <td>&lt;NA&gt;</td>\n",
       "      <td>&lt;NA&gt;</td>\n",
       "      <td>&lt;NA&gt;</td>\n",
       "      <td>&lt;NA&gt;</td>\n",
       "      <td>&lt;NA&gt;</td>\n",
       "      <td>&lt;NA&gt;</td>\n",
       "      <td>&lt;NA&gt;</td>\n",
       "      <td>&lt;NA&gt;</td>\n",
       "      <td>729</td>\n",
       "      <td>35</td>\n",
       "    </tr>\n",
       "    <tr>\n",
       "      <th>186070</th>\n",
       "      <td>tara moore</td>\n",
       "      <td>&lt;NA&gt;</td>\n",
       "      <td>&lt;NA&gt;</td>\n",
       "      <td>&lt;NA&gt;</td>\n",
       "      <td>&lt;NA&gt;</td>\n",
       "      <td>&lt;NA&gt;</td>\n",
       "      <td>&lt;NA&gt;</td>\n",
       "      <td>&lt;NA&gt;</td>\n",
       "      <td>&lt;NA&gt;</td>\n",
       "      <td>&lt;NA&gt;</td>\n",
       "      <td>&lt;NA&gt;</td>\n",
       "      <td>&lt;NA&gt;</td>\n",
       "      <td>454</td>\n",
       "      <td>93</td>\n",
       "    </tr>\n",
       "    <tr>\n",
       "      <th>186071</th>\n",
       "      <td>chanelle van nguyen</td>\n",
       "      <td>&lt;NA&gt;</td>\n",
       "      <td>&lt;NA&gt;</td>\n",
       "      <td>&lt;NA&gt;</td>\n",
       "      <td>&lt;NA&gt;</td>\n",
       "      <td>&lt;NA&gt;</td>\n",
       "      <td>&lt;NA&gt;</td>\n",
       "      <td>&lt;NA&gt;</td>\n",
       "      <td>&lt;NA&gt;</td>\n",
       "      <td>&lt;NA&gt;</td>\n",
       "      <td>&lt;NA&gt;</td>\n",
       "      <td>&lt;NA&gt;</td>\n",
       "      <td>627</td>\n",
       "      <td>51</td>\n",
       "    </tr>\n",
       "    <tr>\n",
       "      <th>186072</th>\n",
       "      <td>brooklyn olson</td>\n",
       "      <td>&lt;NA&gt;</td>\n",
       "      <td>&lt;NA&gt;</td>\n",
       "      <td>&lt;NA&gt;</td>\n",
       "      <td>&lt;NA&gt;</td>\n",
       "      <td>&lt;NA&gt;</td>\n",
       "      <td>&lt;NA&gt;</td>\n",
       "      <td>&lt;NA&gt;</td>\n",
       "      <td>&lt;NA&gt;</td>\n",
       "      <td>&lt;NA&gt;</td>\n",
       "      <td>&lt;NA&gt;</td>\n",
       "      <td>&lt;NA&gt;</td>\n",
       "      <td>&lt;NA&gt;</td>\n",
       "      <td>&lt;NA&gt;</td>\n",
       "    </tr>\n",
       "  </tbody>\n",
       "</table>\n",
       "<p>360831 rows × 14 columns</p>\n",
       "</div>"
      ],
      "text/plain": [
       "                   fullname   ace    df  svpt  1stIn  1stWon  2ndWon  SvGms  \\\n",
       "0             kei nishikori     3     3    77     44      31      17     13   \n",
       "1           daniil medvedev    10     1    52     33      28      14     10   \n",
       "2             kei nishikori     2     2    47     33      26       9      8   \n",
       "3        jo-wilfried tsonga    12     2    68     43      34      15     11   \n",
       "4           daniil medvedev    12     3   105     68      48      25     16   \n",
       "...                     ...   ...   ...   ...    ...     ...     ...    ...   \n",
       "186068            eleana yu  <NA>  <NA>  <NA>   <NA>    <NA>    <NA>   <NA>   \n",
       "186069      jessica livianu  <NA>  <NA>  <NA>   <NA>    <NA>    <NA>   <NA>   \n",
       "186070           tara moore  <NA>  <NA>  <NA>   <NA>    <NA>    <NA>   <NA>   \n",
       "186071  chanelle van nguyen  <NA>  <NA>  <NA>   <NA>    <NA>    <NA>   <NA>   \n",
       "186072       brooklyn olson  <NA>  <NA>  <NA>   <NA>    <NA>    <NA>   <NA>   \n",
       "\n",
       "        bpSaved  bpFaced  winner_rank  winner_rank_points  loser_rank  \\\n",
       "0             3        6            9                3590        <NA>   \n",
       "1             0        1           16                1977        <NA>   \n",
       "2             2        2            9                3590        <NA>   \n",
       "3             4        5          239                 200        <NA>   \n",
       "4             8        8           16                1977        <NA>   \n",
       "...         ...      ...          ...                 ...         ...   \n",
       "186068     <NA>     <NA>         <NA>                <NA>        1216   \n",
       "186069     <NA>     <NA>         <NA>                <NA>         729   \n",
       "186070     <NA>     <NA>         <NA>                <NA>         454   \n",
       "186071     <NA>     <NA>         <NA>                <NA>         627   \n",
       "186072     <NA>     <NA>         <NA>                <NA>        <NA>   \n",
       "\n",
       "        loser_rank_points  \n",
       "0                    <NA>  \n",
       "1                    <NA>  \n",
       "2                    <NA>  \n",
       "3                    <NA>  \n",
       "4                    <NA>  \n",
       "...                   ...  \n",
       "186068                  6  \n",
       "186069                 35  \n",
       "186070                 93  \n",
       "186071                 51  \n",
       "186072               <NA>  \n",
       "\n",
       "[360831 rows x 14 columns]"
      ]
     },
     "metadata": {},
     "output_type": "display_data"
    }
   ],
   "source": [
    "w_stats = df[['winner_name'] + w_stats_columns]\n",
    "w_stats = w_stats.rename(columns={'winner_name' : 'fullname'})\n",
    "w_stats = w_stats.rename(columns=dict(zip(w_stats_columns, [s.replace('w_', '') for s in w_stats_columns])))\n",
    "\n",
    "l_stats = df[['loser_name'] + l_stats_columns]\n",
    "l_stats = l_stats.rename(columns={'loser_name' : 'fullname'})\n",
    "l_stats = l_stats.rename(columns=dict(zip(l_stats_columns, [s.replace('l_', '') for s in l_stats_columns])))\n",
    "\n",
    "players_stats = pd.concat([w_stats, l_stats]).dropna(subset=['fullname'])\n",
    "display(players_stats)"
   ]
  },
  {
   "cell_type": "markdown",
   "metadata": {},
   "source": [
    "Removing the players with all *null* stats."
   ]
  },
  {
   "cell_type": "code",
   "execution_count": 40,
   "metadata": {},
   "outputs": [],
   "source": [
    "stats_columns = ['ace', 'df', 'svpt', '1stIn', '1stWon', '2ndWon', 'SvGms',\n",
    "       'bpSaved', 'bpFaced']\n",
    "players_stats = players_stats.dropna(subset=stats_columns, how='all')\n",
    "players = players[players.index.isin(players_stats['fullname'])]"
   ]
  },
  {
   "cell_type": "markdown",
   "metadata": {},
   "source": [
    "### Extracting the features"
   ]
  },
  {
   "cell_type": "markdown",
   "metadata": {},
   "source": [
    "Now we can start extracting the features described above."
   ]
  },
  {
   "cell_type": "markdown",
   "metadata": {},
   "source": [
    "#### `stats_match_count`: number of matches with available stats of each tennis player"
   ]
  },
  {
   "cell_type": "code",
   "execution_count": 41,
   "metadata": {},
   "outputs": [],
   "source": [
    "players['stats_match_count'] = players_stats.groupby('fullname').size()"
   ]
  },
  {
   "cell_type": "markdown",
   "metadata": {},
   "source": [
    "#### `ace_mean`, `ace_std`, `df_mean`, `df_std`: mean and standard deviation of number of aces and number of double faults"
   ]
  },
  {
   "cell_type": "markdown",
   "metadata": {},
   "source": [
    "If a player\n",
    "* has no info about ace/double faults, the *mean* and *std* will be *null*\n",
    "* has one single info about ace/double faults, the *std* will be *null*\n",
    "* has at least two info about ace/double faults but they are all the same, the *std* will be $0$"
   ]
  },
  {
   "cell_type": "code",
   "execution_count": 42,
   "metadata": {},
   "outputs": [
    {
     "data": {
      "text/html": [
       "<div>\n",
       "<style scoped>\n",
       "    .dataframe tbody tr th:only-of-type {\n",
       "        vertical-align: middle;\n",
       "    }\n",
       "\n",
       "    .dataframe tbody tr th {\n",
       "        vertical-align: top;\n",
       "    }\n",
       "\n",
       "    .dataframe thead th {\n",
       "        text-align: right;\n",
       "    }\n",
       "</style>\n",
       "<table border=\"1\" class=\"dataframe\">\n",
       "  <thead>\n",
       "    <tr style=\"text-align: right;\">\n",
       "      <th></th>\n",
       "      <th>ace_mean</th>\n",
       "      <th>ace_std</th>\n",
       "      <th>df_mean</th>\n",
       "      <th>df_std</th>\n",
       "    </tr>\n",
       "    <tr>\n",
       "      <th>fullname</th>\n",
       "      <th></th>\n",
       "      <th></th>\n",
       "      <th></th>\n",
       "      <th></th>\n",
       "    </tr>\n",
       "  </thead>\n",
       "  <tbody>\n",
       "    <tr>\n",
       "      <th>aaron addison</th>\n",
       "      <td>5.636364</td>\n",
       "      <td>3.443043</td>\n",
       "      <td>4.636364</td>\n",
       "      <td>3.324838</td>\n",
       "    </tr>\n",
       "    <tr>\n",
       "      <th>abbie myers</th>\n",
       "      <td>2.857143</td>\n",
       "      <td>2.91139</td>\n",
       "      <td>6.0</td>\n",
       "      <td>4.546061</td>\n",
       "    </tr>\n",
       "    <tr>\n",
       "      <th>abhinav sanjeev shanmugam</th>\n",
       "      <td>6.0</td>\n",
       "      <td>4.203173</td>\n",
       "      <td>3.230769</td>\n",
       "      <td>1.235168</td>\n",
       "    </tr>\n",
       "    <tr>\n",
       "      <th>abigail spears</th>\n",
       "      <td>4.777778</td>\n",
       "      <td>2.818589</td>\n",
       "      <td>3.222222</td>\n",
       "      <td>2.223611</td>\n",
       "    </tr>\n",
       "    <tr>\n",
       "      <th>abigail tere apisah</th>\n",
       "      <td>1.357143</td>\n",
       "      <td>1.499084</td>\n",
       "      <td>4.857143</td>\n",
       "      <td>2.983471</td>\n",
       "    </tr>\n",
       "    <tr>\n",
       "      <th>...</th>\n",
       "      <td>...</td>\n",
       "      <td>...</td>\n",
       "      <td>...</td>\n",
       "      <td>...</td>\n",
       "    </tr>\n",
       "    <tr>\n",
       "      <th>zizou bergs</th>\n",
       "      <td>4.405405</td>\n",
       "      <td>2.683889</td>\n",
       "      <td>2.040541</td>\n",
       "      <td>1.683434</td>\n",
       "    </tr>\n",
       "    <tr>\n",
       "      <th>zoe hives</th>\n",
       "      <td>2.882353</td>\n",
       "      <td>2.891417</td>\n",
       "      <td>3.823529</td>\n",
       "      <td>2.404041</td>\n",
       "    </tr>\n",
       "    <tr>\n",
       "      <th>zoe kruger</th>\n",
       "      <td>0.714286</td>\n",
       "      <td>0.95119</td>\n",
       "      <td>4.0</td>\n",
       "      <td>1.825742</td>\n",
       "    </tr>\n",
       "    <tr>\n",
       "      <th>zsombor piros</th>\n",
       "      <td>3.320988</td>\n",
       "      <td>2.402224</td>\n",
       "      <td>2.716049</td>\n",
       "      <td>1.8857</td>\n",
       "    </tr>\n",
       "    <tr>\n",
       "      <th>zuzana zlochova</th>\n",
       "      <td>0.571429</td>\n",
       "      <td>0.786796</td>\n",
       "      <td>5.142857</td>\n",
       "      <td>2.193063</td>\n",
       "    </tr>\n",
       "  </tbody>\n",
       "</table>\n",
       "<p>2471 rows × 4 columns</p>\n",
       "</div>"
      ],
      "text/plain": [
       "                           ace_mean   ace_std   df_mean    df_std\n",
       "fullname                                                         \n",
       "aaron addison              5.636364  3.443043  4.636364  3.324838\n",
       "abbie myers                2.857143   2.91139       6.0  4.546061\n",
       "abhinav sanjeev shanmugam       6.0  4.203173  3.230769  1.235168\n",
       "abigail spears             4.777778  2.818589  3.222222  2.223611\n",
       "abigail tere apisah        1.357143  1.499084  4.857143  2.983471\n",
       "...                             ...       ...       ...       ...\n",
       "zizou bergs                4.405405  2.683889  2.040541  1.683434\n",
       "zoe hives                  2.882353  2.891417  3.823529  2.404041\n",
       "zoe kruger                 0.714286   0.95119       4.0  1.825742\n",
       "zsombor piros              3.320988  2.402224  2.716049    1.8857\n",
       "zuzana zlochova            0.571429  0.786796  5.142857  2.193063\n",
       "\n",
       "[2471 rows x 4 columns]"
      ]
     },
     "metadata": {},
     "output_type": "display_data"
    }
   ],
   "source": [
    "tmp = players_stats[['fullname', 'ace', 'df']].groupby('fullname').agg(['mean', 'std'])\n",
    "tmp.columns = ['_'.join(col) for col in tmp.columns]\n",
    "tmp = tmp.convert_dtypes()\n",
    "display(tmp)"
   ]
  },
  {
   "cell_type": "code",
   "execution_count": 43,
   "metadata": {},
   "outputs": [],
   "source": [
    "players = players.join(tmp)"
   ]
  },
  {
   "cell_type": "markdown",
   "metadata": {},
   "source": [
    "#### `ace_ratio`, `df_ratio`: Ratio of aces and double faults out of all services of the player"
   ]
  },
  {
   "cell_type": "code",
   "execution_count": 44,
   "metadata": {},
   "outputs": [
    {
     "data": {
      "text/plain": [
       "fullname\n",
       "kei nishikori         0.038567\n",
       "daniil medvedev        0.10336\n",
       "jo-wilfried tsonga    0.123616\n",
       "jeremy chardy         0.103885\n",
       "alex de minaur        0.046221\n",
       "                        ...   \n",
       "risa ozaki            0.012743\n",
       "marie bouzkova         0.02365\n",
       "luksika kumkhum       0.020539\n",
       "naomi broady          0.116732\n",
       "kai lin zhang         0.013527\n",
       "Name: ace_ratio, Length: 2471, dtype: Float64"
      ]
     },
     "metadata": {},
     "output_type": "display_data"
    }
   ],
   "source": [
    "tmp = players_stats[['fullname', 'ace', 'svpt']].groupby('fullname').sum(min_count=1)\n",
    "tmp['ace_ratio'] = tmp['ace'] / tmp['svpt']\n",
    "players = players.join(tmp[['ace_ratio']])\n",
    "display(players['ace_ratio'])"
   ]
  },
  {
   "cell_type": "code",
   "execution_count": 45,
   "metadata": {},
   "outputs": [
    {
     "data": {
      "text/plain": [
       "fullname\n",
       "kei nishikori         0.027849\n",
       "daniil medvedev       0.043684\n",
       "jo-wilfried tsonga    0.032346\n",
       "jeremy chardy         0.052036\n",
       "alex de minaur         0.03596\n",
       "                        ...   \n",
       "risa ozaki            0.026263\n",
       "marie bouzkova        0.033213\n",
       "luksika kumkhum       0.066654\n",
       "naomi broady          0.064879\n",
       "kai lin zhang         0.078261\n",
       "Name: df_ratio, Length: 2471, dtype: Float64"
      ]
     },
     "metadata": {},
     "output_type": "display_data"
    }
   ],
   "source": [
    "tmp = players_stats[['fullname', 'df', 'svpt']].groupby('fullname').sum(min_count=1)\n",
    "tmp['df_ratio'] = tmp['df'] / tmp['svpt']\n",
    "players = players.join(tmp[['df_ratio']])\n",
    "display(players['df_ratio'])"
   ]
  },
  {
   "cell_type": "markdown",
   "metadata": {},
   "source": [
    "#### `bp_saved_ratio`: Ratio of saved breakpoint out of faced ones"
   ]
  },
  {
   "cell_type": "markdown",
   "metadata": {},
   "source": [
    "If a player has the sum af all its `bpFaced` equal to $1$, then its `bp_saved_ratio` will be *null*"
   ]
  },
  {
   "cell_type": "code",
   "execution_count": 46,
   "metadata": {},
   "outputs": [
    {
     "data": {
      "text/html": [
       "<div>\n",
       "<style scoped>\n",
       "    .dataframe tbody tr th:only-of-type {\n",
       "        vertical-align: middle;\n",
       "    }\n",
       "\n",
       "    .dataframe tbody tr th {\n",
       "        vertical-align: top;\n",
       "    }\n",
       "\n",
       "    .dataframe thead th {\n",
       "        text-align: right;\n",
       "    }\n",
       "</style>\n",
       "<table border=\"1\" class=\"dataframe\">\n",
       "  <thead>\n",
       "    <tr style=\"text-align: right;\">\n",
       "      <th></th>\n",
       "      <th>bpSaved</th>\n",
       "      <th>bpFaced</th>\n",
       "      <th>bp_saved_ratio</th>\n",
       "    </tr>\n",
       "    <tr>\n",
       "      <th>fullname</th>\n",
       "      <th></th>\n",
       "      <th></th>\n",
       "      <th></th>\n",
       "    </tr>\n",
       "  </thead>\n",
       "  <tbody>\n",
       "    <tr>\n",
       "      <th>aaron addison</th>\n",
       "      <td>52</td>\n",
       "      <td>83</td>\n",
       "      <td>0.626506</td>\n",
       "    </tr>\n",
       "    <tr>\n",
       "      <th>abbie myers</th>\n",
       "      <td>30</td>\n",
       "      <td>69</td>\n",
       "      <td>0.434783</td>\n",
       "    </tr>\n",
       "    <tr>\n",
       "      <th>abhinav sanjeev shanmugam</th>\n",
       "      <td>58</td>\n",
       "      <td>97</td>\n",
       "      <td>0.597938</td>\n",
       "    </tr>\n",
       "    <tr>\n",
       "      <th>abigail spears</th>\n",
       "      <td>40</td>\n",
       "      <td>77</td>\n",
       "      <td>0.519481</td>\n",
       "    </tr>\n",
       "    <tr>\n",
       "      <th>abigail tere apisah</th>\n",
       "      <td>78</td>\n",
       "      <td>133</td>\n",
       "      <td>0.586466</td>\n",
       "    </tr>\n",
       "    <tr>\n",
       "      <th>...</th>\n",
       "      <td>...</td>\n",
       "      <td>...</td>\n",
       "      <td>...</td>\n",
       "    </tr>\n",
       "    <tr>\n",
       "      <th>zizou bergs</th>\n",
       "      <td>286</td>\n",
       "      <td>461</td>\n",
       "      <td>0.62039</td>\n",
       "    </tr>\n",
       "    <tr>\n",
       "      <th>zoe hives</th>\n",
       "      <td>98</td>\n",
       "      <td>176</td>\n",
       "      <td>0.556818</td>\n",
       "    </tr>\n",
       "    <tr>\n",
       "      <th>zoe kruger</th>\n",
       "      <td>24</td>\n",
       "      <td>63</td>\n",
       "      <td>0.380952</td>\n",
       "    </tr>\n",
       "    <tr>\n",
       "      <th>zsombor piros</th>\n",
       "      <td>376</td>\n",
       "      <td>659</td>\n",
       "      <td>0.570561</td>\n",
       "    </tr>\n",
       "    <tr>\n",
       "      <th>zuzana zlochova</th>\n",
       "      <td>36</td>\n",
       "      <td>80</td>\n",
       "      <td>0.45</td>\n",
       "    </tr>\n",
       "  </tbody>\n",
       "</table>\n",
       "<p>2471 rows × 3 columns</p>\n",
       "</div>"
      ],
      "text/plain": [
       "                           bpSaved  bpFaced  bp_saved_ratio\n",
       "fullname                                                   \n",
       "aaron addison                   52       83        0.626506\n",
       "abbie myers                     30       69        0.434783\n",
       "abhinav sanjeev shanmugam       58       97        0.597938\n",
       "abigail spears                  40       77        0.519481\n",
       "abigail tere apisah             78      133        0.586466\n",
       "...                            ...      ...             ...\n",
       "zizou bergs                    286      461         0.62039\n",
       "zoe hives                       98      176        0.556818\n",
       "zoe kruger                      24       63        0.380952\n",
       "zsombor piros                  376      659        0.570561\n",
       "zuzana zlochova                 36       80            0.45\n",
       "\n",
       "[2471 rows x 3 columns]"
      ]
     },
     "metadata": {},
     "output_type": "display_data"
    }
   ],
   "source": [
    "tmp = players_stats[['fullname', 'bpSaved', 'bpFaced']].groupby('fullname').sum(min_count=1)\n",
    "tmp['bp_saved_ratio'] = tmp['bpSaved'] / tmp['bpFaced']\n",
    "tmp.loc[np.isnan(tmp.bp_saved_ratio), 'bp_saved_ratio'] = pd.NA\n",
    "display(tmp)"
   ]
  },
  {
   "cell_type": "code",
   "execution_count": 47,
   "metadata": {},
   "outputs": [],
   "source": [
    "players = players.join(tmp[['bp_saved_ratio']])"
   ]
  },
  {
   "cell_type": "markdown",
   "metadata": {},
   "source": [
    "#### `bp_w_ratio`: Ratio of won breakpoints out of fought ones"
   ]
  },
  {
   "cell_type": "markdown",
   "metadata": {},
   "source": [
    "To extract this feature we must take into account the values of `bpSaved` and `bpFaced` <u>of the opponent</u>, since these are intended as *defensive statistics*.\n",
    "\n",
    "If a player has the sum of all the `bpFaced` *of the opponent* equal to zero, then its `bp_w_ratio` will be *null*."
   ]
  },
  {
   "cell_type": "code",
   "execution_count": 48,
   "metadata": {},
   "outputs": [
    {
     "data": {
      "text/html": [
       "<div>\n",
       "<style scoped>\n",
       "    .dataframe tbody tr th:only-of-type {\n",
       "        vertical-align: middle;\n",
       "    }\n",
       "\n",
       "    .dataframe tbody tr th {\n",
       "        vertical-align: top;\n",
       "    }\n",
       "\n",
       "    .dataframe thead th {\n",
       "        text-align: right;\n",
       "    }\n",
       "</style>\n",
       "<table border=\"1\" class=\"dataframe\">\n",
       "  <thead>\n",
       "    <tr style=\"text-align: right;\">\n",
       "      <th></th>\n",
       "      <th>bpSaved</th>\n",
       "      <th>bpFaced</th>\n",
       "      <th>bp_w_ratio</th>\n",
       "    </tr>\n",
       "    <tr>\n",
       "      <th>fullname</th>\n",
       "      <th></th>\n",
       "      <th></th>\n",
       "      <th></th>\n",
       "    </tr>\n",
       "  </thead>\n",
       "  <tbody>\n",
       "    <tr>\n",
       "      <th>aaliya ebrahim</th>\n",
       "      <td>&lt;NA&gt;</td>\n",
       "      <td>&lt;NA&gt;</td>\n",
       "      <td>&lt;NA&gt;</td>\n",
       "    </tr>\n",
       "    <tr>\n",
       "      <th>aanu ayegbusi</th>\n",
       "      <td>&lt;NA&gt;</td>\n",
       "      <td>&lt;NA&gt;</td>\n",
       "      <td>&lt;NA&gt;</td>\n",
       "    </tr>\n",
       "    <tr>\n",
       "      <th>aaron addison</th>\n",
       "      <td>40</td>\n",
       "      <td>56</td>\n",
       "      <td>0.285714</td>\n",
       "    </tr>\n",
       "    <tr>\n",
       "      <th>aayushi tanwar</th>\n",
       "      <td>&lt;NA&gt;</td>\n",
       "      <td>&lt;NA&gt;</td>\n",
       "      <td>&lt;NA&gt;</td>\n",
       "    </tr>\n",
       "    <tr>\n",
       "      <th>abbie myers</th>\n",
       "      <td>28</td>\n",
       "      <td>50</td>\n",
       "      <td>0.44</td>\n",
       "    </tr>\n",
       "    <tr>\n",
       "      <th>...</th>\n",
       "      <td>...</td>\n",
       "      <td>...</td>\n",
       "      <td>...</td>\n",
       "    </tr>\n",
       "    <tr>\n",
       "      <th>zorica spasojevic</th>\n",
       "      <td>&lt;NA&gt;</td>\n",
       "      <td>&lt;NA&gt;</td>\n",
       "      <td>&lt;NA&gt;</td>\n",
       "    </tr>\n",
       "    <tr>\n",
       "      <th>zoziya kardava</th>\n",
       "      <td>&lt;NA&gt;</td>\n",
       "      <td>&lt;NA&gt;</td>\n",
       "      <td>&lt;NA&gt;</td>\n",
       "    </tr>\n",
       "    <tr>\n",
       "      <th>zsombor piros</th>\n",
       "      <td>387</td>\n",
       "      <td>664</td>\n",
       "      <td>0.417169</td>\n",
       "    </tr>\n",
       "    <tr>\n",
       "      <th>zuzana bohatova</th>\n",
       "      <td>&lt;NA&gt;</td>\n",
       "      <td>&lt;NA&gt;</td>\n",
       "      <td>&lt;NA&gt;</td>\n",
       "    </tr>\n",
       "    <tr>\n",
       "      <th>zuzana zlochova</th>\n",
       "      <td>23</td>\n",
       "      <td>49</td>\n",
       "      <td>0.530612</td>\n",
       "    </tr>\n",
       "  </tbody>\n",
       "</table>\n",
       "<p>5027 rows × 3 columns</p>\n",
       "</div>"
      ],
      "text/plain": [
       "                   bpSaved  bpFaced  bp_w_ratio\n",
       "fullname                                       \n",
       "aaliya ebrahim        <NA>     <NA>        <NA>\n",
       "aanu ayegbusi         <NA>     <NA>        <NA>\n",
       "aaron addison           40       56    0.285714\n",
       "aayushi tanwar        <NA>     <NA>        <NA>\n",
       "abbie myers             28       50        0.44\n",
       "...                    ...      ...         ...\n",
       "zorica spasojevic     <NA>     <NA>        <NA>\n",
       "zoziya kardava        <NA>     <NA>        <NA>\n",
       "zsombor piros          387      664    0.417169\n",
       "zuzana bohatova       <NA>     <NA>        <NA>\n",
       "zuzana zlochova         23       49    0.530612\n",
       "\n",
       "[5027 rows x 3 columns]"
      ]
     },
     "metadata": {},
     "output_type": "display_data"
    }
   ],
   "source": [
    "w_won = df[['winner_name','l_bpSaved', 'l_bpFaced' ]].rename({'winner_name':'fullname', 'l_bpSaved':'bpSaved', 'l_bpFaced': 'bpFaced'}, axis=1)\n",
    "l_won = df[['loser_name','w_bpSaved', 'w_bpFaced' ]].rename({'loser_name':'fullname', 'w_bpSaved':'bpSaved', 'w_bpFaced': 'bpFaced'}, axis=1)\n",
    "tmp = pd.concat([l_won, w_won]).groupby('fullname').sum(min_count=1)\n",
    "tmp['bp_w_ratio'] = (tmp['bpFaced'] - tmp['bpSaved']) / tmp['bpFaced']\n",
    "tmp.loc[np.isnan(tmp.bp_w_ratio), 'bp_w_ratio'] = pd.NA\n",
    "display(tmp)"
   ]
  },
  {
   "cell_type": "code",
   "execution_count": 49,
   "metadata": {},
   "outputs": [],
   "source": [
    "players = players.join(tmp[['bp_w_ratio']])"
   ]
  },
  {
   "cell_type": "markdown",
   "metadata": {},
   "source": [
    "#### `svpt_w_ratio`: Ratio of won points out of the ones in which the player served"
   ]
  },
  {
   "cell_type": "markdown",
   "metadata": {},
   "source": [
    "If a player has the sum of all its `svpt` equal to $0$, then its `svpt_w_ratio` will be *null*."
   ]
  },
  {
   "cell_type": "code",
   "execution_count": 50,
   "metadata": {},
   "outputs": [
    {
     "data": {
      "text/html": [
       "<div>\n",
       "<style scoped>\n",
       "    .dataframe tbody tr th:only-of-type {\n",
       "        vertical-align: middle;\n",
       "    }\n",
       "\n",
       "    .dataframe tbody tr th {\n",
       "        vertical-align: top;\n",
       "    }\n",
       "\n",
       "    .dataframe thead th {\n",
       "        text-align: right;\n",
       "    }\n",
       "</style>\n",
       "<table border=\"1\" class=\"dataframe\">\n",
       "  <thead>\n",
       "    <tr style=\"text-align: right;\">\n",
       "      <th></th>\n",
       "      <th>1stWon</th>\n",
       "      <th>2ndWon</th>\n",
       "      <th>svpt</th>\n",
       "      <th>svpt_w_ratio</th>\n",
       "    </tr>\n",
       "    <tr>\n",
       "      <th>fullname</th>\n",
       "      <th></th>\n",
       "      <th></th>\n",
       "      <th></th>\n",
       "      <th></th>\n",
       "    </tr>\n",
       "  </thead>\n",
       "  <tbody>\n",
       "    <tr>\n",
       "      <th>aaron addison</th>\n",
       "      <td>283</td>\n",
       "      <td>172</td>\n",
       "      <td>774</td>\n",
       "      <td>0.587855</td>\n",
       "    </tr>\n",
       "    <tr>\n",
       "      <th>abbie myers</th>\n",
       "      <td>187</td>\n",
       "      <td>100</td>\n",
       "      <td>542</td>\n",
       "      <td>0.52952</td>\n",
       "    </tr>\n",
       "    <tr>\n",
       "      <th>abhinav sanjeev shanmugam</th>\n",
       "      <td>298</td>\n",
       "      <td>226</td>\n",
       "      <td>877</td>\n",
       "      <td>0.597491</td>\n",
       "    </tr>\n",
       "    <tr>\n",
       "      <th>abigail spears</th>\n",
       "      <td>249</td>\n",
       "      <td>89</td>\n",
       "      <td>624</td>\n",
       "      <td>0.541667</td>\n",
       "    </tr>\n",
       "    <tr>\n",
       "      <th>abigail tere apisah</th>\n",
       "      <td>358</td>\n",
       "      <td>185</td>\n",
       "      <td>987</td>\n",
       "      <td>0.550152</td>\n",
       "    </tr>\n",
       "    <tr>\n",
       "      <th>...</th>\n",
       "      <td>...</td>\n",
       "      <td>...</td>\n",
       "      <td>...</td>\n",
       "      <td>...</td>\n",
       "    </tr>\n",
       "    <tr>\n",
       "      <th>zizou bergs</th>\n",
       "      <td>2401</td>\n",
       "      <td>874</td>\n",
       "      <td>5153</td>\n",
       "      <td>0.635552</td>\n",
       "    </tr>\n",
       "    <tr>\n",
       "      <th>zoe hives</th>\n",
       "      <td>505</td>\n",
       "      <td>264</td>\n",
       "      <td>1401</td>\n",
       "      <td>0.548894</td>\n",
       "    </tr>\n",
       "    <tr>\n",
       "      <th>zoe kruger</th>\n",
       "      <td>116</td>\n",
       "      <td>60</td>\n",
       "      <td>403</td>\n",
       "      <td>0.436725</td>\n",
       "    </tr>\n",
       "    <tr>\n",
       "      <th>zsombor piros</th>\n",
       "      <td>2450</td>\n",
       "      <td>1300</td>\n",
       "      <td>6371</td>\n",
       "      <td>0.588605</td>\n",
       "    </tr>\n",
       "    <tr>\n",
       "      <th>zuzana zlochova</th>\n",
       "      <td>182</td>\n",
       "      <td>58</td>\n",
       "      <td>506</td>\n",
       "      <td>0.474308</td>\n",
       "    </tr>\n",
       "  </tbody>\n",
       "</table>\n",
       "<p>2471 rows × 4 columns</p>\n",
       "</div>"
      ],
      "text/plain": [
       "                           1stWon  2ndWon  svpt  svpt_w_ratio\n",
       "fullname                                                     \n",
       "aaron addison                 283     172   774      0.587855\n",
       "abbie myers                   187     100   542       0.52952\n",
       "abhinav sanjeev shanmugam     298     226   877      0.597491\n",
       "abigail spears                249      89   624      0.541667\n",
       "abigail tere apisah           358     185   987      0.550152\n",
       "...                           ...     ...   ...           ...\n",
       "zizou bergs                  2401     874  5153      0.635552\n",
       "zoe hives                     505     264  1401      0.548894\n",
       "zoe kruger                    116      60   403      0.436725\n",
       "zsombor piros                2450    1300  6371      0.588605\n",
       "zuzana zlochova               182      58   506      0.474308\n",
       "\n",
       "[2471 rows x 4 columns]"
      ]
     },
     "metadata": {},
     "output_type": "display_data"
    }
   ],
   "source": [
    "tmp = players_stats[['fullname', '1stWon', '2ndWon', 'svpt']].groupby('fullname').sum(min_count=1)\n",
    "tmp['svpt_w_ratio'] = (tmp['1stWon'] + tmp['2ndWon']) / tmp['svpt']\n",
    "tmp.loc[np.isnan(tmp['svpt_w_ratio']), 'svpt_w_ratio'] = pd.NA\n",
    "display(tmp)"
   ]
  },
  {
   "cell_type": "code",
   "execution_count": 51,
   "metadata": {},
   "outputs": [],
   "source": [
    "players = players.join(tmp[['svpt_w_ratio']])"
   ]
  },
  {
   "cell_type": "markdown",
   "metadata": {},
   "source": [
    "#### `svpt_2nd_w_ratio`: Ratio of second-serve won point out of the ones in which the player served and won"
   ]
  },
  {
   "cell_type": "code",
   "execution_count": 52,
   "metadata": {},
   "outputs": [
    {
     "data": {
      "text/html": [
       "<div>\n",
       "<style scoped>\n",
       "    .dataframe tbody tr th:only-of-type {\n",
       "        vertical-align: middle;\n",
       "    }\n",
       "\n",
       "    .dataframe tbody tr th {\n",
       "        vertical-align: top;\n",
       "    }\n",
       "\n",
       "    .dataframe thead th {\n",
       "        text-align: right;\n",
       "    }\n",
       "</style>\n",
       "<table border=\"1\" class=\"dataframe\">\n",
       "  <thead>\n",
       "    <tr style=\"text-align: right;\">\n",
       "      <th></th>\n",
       "      <th>1stWon</th>\n",
       "      <th>2ndWon</th>\n",
       "      <th>svpt_2nd_w_ratio</th>\n",
       "    </tr>\n",
       "    <tr>\n",
       "      <th>fullname</th>\n",
       "      <th></th>\n",
       "      <th></th>\n",
       "      <th></th>\n",
       "    </tr>\n",
       "  </thead>\n",
       "  <tbody>\n",
       "    <tr>\n",
       "      <th>aaron addison</th>\n",
       "      <td>283</td>\n",
       "      <td>172</td>\n",
       "      <td>0.378022</td>\n",
       "    </tr>\n",
       "    <tr>\n",
       "      <th>abbie myers</th>\n",
       "      <td>187</td>\n",
       "      <td>100</td>\n",
       "      <td>0.348432</td>\n",
       "    </tr>\n",
       "    <tr>\n",
       "      <th>abhinav sanjeev shanmugam</th>\n",
       "      <td>298</td>\n",
       "      <td>226</td>\n",
       "      <td>0.431298</td>\n",
       "    </tr>\n",
       "    <tr>\n",
       "      <th>abigail spears</th>\n",
       "      <td>249</td>\n",
       "      <td>89</td>\n",
       "      <td>0.263314</td>\n",
       "    </tr>\n",
       "    <tr>\n",
       "      <th>abigail tere apisah</th>\n",
       "      <td>358</td>\n",
       "      <td>185</td>\n",
       "      <td>0.3407</td>\n",
       "    </tr>\n",
       "    <tr>\n",
       "      <th>...</th>\n",
       "      <td>...</td>\n",
       "      <td>...</td>\n",
       "      <td>...</td>\n",
       "    </tr>\n",
       "    <tr>\n",
       "      <th>zizou bergs</th>\n",
       "      <td>2401</td>\n",
       "      <td>874</td>\n",
       "      <td>0.26687</td>\n",
       "    </tr>\n",
       "    <tr>\n",
       "      <th>zoe hives</th>\n",
       "      <td>505</td>\n",
       "      <td>264</td>\n",
       "      <td>0.343303</td>\n",
       "    </tr>\n",
       "    <tr>\n",
       "      <th>zoe kruger</th>\n",
       "      <td>116</td>\n",
       "      <td>60</td>\n",
       "      <td>0.340909</td>\n",
       "    </tr>\n",
       "    <tr>\n",
       "      <th>zsombor piros</th>\n",
       "      <td>2450</td>\n",
       "      <td>1300</td>\n",
       "      <td>0.346667</td>\n",
       "    </tr>\n",
       "    <tr>\n",
       "      <th>zuzana zlochova</th>\n",
       "      <td>182</td>\n",
       "      <td>58</td>\n",
       "      <td>0.241667</td>\n",
       "    </tr>\n",
       "  </tbody>\n",
       "</table>\n",
       "<p>2471 rows × 3 columns</p>\n",
       "</div>"
      ],
      "text/plain": [
       "                           1stWon  2ndWon  svpt_2nd_w_ratio\n",
       "fullname                                                   \n",
       "aaron addison                 283     172          0.378022\n",
       "abbie myers                   187     100          0.348432\n",
       "abhinav sanjeev shanmugam     298     226          0.431298\n",
       "abigail spears                249      89          0.263314\n",
       "abigail tere apisah           358     185            0.3407\n",
       "...                           ...     ...               ...\n",
       "zizou bergs                  2401     874           0.26687\n",
       "zoe hives                     505     264          0.343303\n",
       "zoe kruger                    116      60          0.340909\n",
       "zsombor piros                2450    1300          0.346667\n",
       "zuzana zlochova               182      58          0.241667\n",
       "\n",
       "[2471 rows x 3 columns]"
      ]
     },
     "metadata": {},
     "output_type": "display_data"
    }
   ],
   "source": [
    "tmp = players_stats[['fullname', '1stWon', '2ndWon']].groupby('fullname').sum(min_count=1)\n",
    "tmp['svpt_2nd_w_ratio'] = tmp['2ndWon'] / (tmp['1stWon'] + tmp['2ndWon'])\n",
    "display(tmp)"
   ]
  },
  {
   "cell_type": "code",
   "execution_count": 53,
   "metadata": {},
   "outputs": [],
   "source": [
    "players = players.join(tmp[['svpt_2nd_w_ratio']])"
   ]
  },
  {
   "cell_type": "markdown",
   "metadata": {},
   "source": [
    "#### `svpt_1st_fail_ratio`: Ratio of points in which the player failed the first serve out of all the points in which the player served"
   ]
  },
  {
   "cell_type": "code",
   "execution_count": 54,
   "metadata": {},
   "outputs": [
    {
     "data": {
      "text/html": [
       "<div>\n",
       "<style scoped>\n",
       "    .dataframe tbody tr th:only-of-type {\n",
       "        vertical-align: middle;\n",
       "    }\n",
       "\n",
       "    .dataframe tbody tr th {\n",
       "        vertical-align: top;\n",
       "    }\n",
       "\n",
       "    .dataframe thead th {\n",
       "        text-align: right;\n",
       "    }\n",
       "</style>\n",
       "<table border=\"1\" class=\"dataframe\">\n",
       "  <thead>\n",
       "    <tr style=\"text-align: right;\">\n",
       "      <th></th>\n",
       "      <th>svpt</th>\n",
       "      <th>1stIn</th>\n",
       "      <th>svpt_1st_fail_ratio</th>\n",
       "    </tr>\n",
       "    <tr>\n",
       "      <th>fullname</th>\n",
       "      <th></th>\n",
       "      <th></th>\n",
       "      <th></th>\n",
       "    </tr>\n",
       "  </thead>\n",
       "  <tbody>\n",
       "    <tr>\n",
       "      <th>aaron addison</th>\n",
       "      <td>774</td>\n",
       "      <td>414</td>\n",
       "      <td>0.465116</td>\n",
       "    </tr>\n",
       "    <tr>\n",
       "      <th>abbie myers</th>\n",
       "      <td>542</td>\n",
       "      <td>310</td>\n",
       "      <td>0.428044</td>\n",
       "    </tr>\n",
       "    <tr>\n",
       "      <th>abhinav sanjeev shanmugam</th>\n",
       "      <td>877</td>\n",
       "      <td>417</td>\n",
       "      <td>0.524515</td>\n",
       "    </tr>\n",
       "    <tr>\n",
       "      <th>abigail spears</th>\n",
       "      <td>624</td>\n",
       "      <td>374</td>\n",
       "      <td>0.400641</td>\n",
       "    </tr>\n",
       "    <tr>\n",
       "      <th>abigail tere apisah</th>\n",
       "      <td>987</td>\n",
       "      <td>578</td>\n",
       "      <td>0.414387</td>\n",
       "    </tr>\n",
       "    <tr>\n",
       "      <th>...</th>\n",
       "      <td>...</td>\n",
       "      <td>...</td>\n",
       "      <td>...</td>\n",
       "    </tr>\n",
       "    <tr>\n",
       "      <th>zizou bergs</th>\n",
       "      <td>5153</td>\n",
       "      <td>3445</td>\n",
       "      <td>0.331457</td>\n",
       "    </tr>\n",
       "    <tr>\n",
       "      <th>zoe hives</th>\n",
       "      <td>1401</td>\n",
       "      <td>822</td>\n",
       "      <td>0.413276</td>\n",
       "    </tr>\n",
       "    <tr>\n",
       "      <th>zoe kruger</th>\n",
       "      <td>403</td>\n",
       "      <td>204</td>\n",
       "      <td>0.493797</td>\n",
       "    </tr>\n",
       "    <tr>\n",
       "      <th>zsombor piros</th>\n",
       "      <td>6371</td>\n",
       "      <td>3782</td>\n",
       "      <td>0.406373</td>\n",
       "    </tr>\n",
       "    <tr>\n",
       "      <th>zuzana zlochova</th>\n",
       "      <td>506</td>\n",
       "      <td>338</td>\n",
       "      <td>0.332016</td>\n",
       "    </tr>\n",
       "  </tbody>\n",
       "</table>\n",
       "<p>2471 rows × 3 columns</p>\n",
       "</div>"
      ],
      "text/plain": [
       "                           svpt  1stIn  svpt_1st_fail_ratio\n",
       "fullname                                                   \n",
       "aaron addison               774    414             0.465116\n",
       "abbie myers                 542    310             0.428044\n",
       "abhinav sanjeev shanmugam   877    417             0.524515\n",
       "abigail spears              624    374             0.400641\n",
       "abigail tere apisah         987    578             0.414387\n",
       "...                         ...    ...                  ...\n",
       "zizou bergs                5153   3445             0.331457\n",
       "zoe hives                  1401    822             0.413276\n",
       "zoe kruger                  403    204             0.493797\n",
       "zsombor piros              6371   3782             0.406373\n",
       "zuzana zlochova             506    338             0.332016\n",
       "\n",
       "[2471 rows x 3 columns]"
      ]
     },
     "metadata": {},
     "output_type": "display_data"
    }
   ],
   "source": [
    "first_f = players_stats[['fullname', 'svpt', '1stIn']].groupby('fullname').sum(min_count=1)\n",
    "first_f['svpt_1st_fail_ratio'] = (first_f['svpt'] - first_f['1stIn']) / first_f['svpt']\n",
    "display(first_f)"
   ]
  },
  {
   "cell_type": "code",
   "execution_count": 55,
   "metadata": {},
   "outputs": [],
   "source": [
    "players = players.join(first_f[['svpt_1st_fail_ratio']])"
   ]
  },
  {
   "cell_type": "markdown",
   "metadata": {},
   "source": [
    "#### `w_ratio`: Ratio of won matches out of played matches"
   ]
  },
  {
   "cell_type": "code",
   "execution_count": 56,
   "metadata": {},
   "outputs": [],
   "source": [
    "won_matches = df.groupby(\"winner_name\").size()\n",
    "players[\"w_ratio\"] = won_matches.div(players[\"match_count\"], fill_value=0)\n",
    "players[\"w_ratio\"] = players[\"w_ratio\"].fillna(0)\n",
    "players[\"w_ratio\"]  = players[\"w_ratio\"].convert_dtypes()"
   ]
  },
  {
   "cell_type": "code",
   "execution_count": 57,
   "metadata": {},
   "outputs": [
    {
     "data": {
      "text/html": [
       "<div>\n",
       "<style scoped>\n",
       "    .dataframe tbody tr th:only-of-type {\n",
       "        vertical-align: middle;\n",
       "    }\n",
       "\n",
       "    .dataframe tbody tr th {\n",
       "        vertical-align: top;\n",
       "    }\n",
       "\n",
       "    .dataframe thead th {\n",
       "        text-align: right;\n",
       "    }\n",
       "</style>\n",
       "<table border=\"1\" class=\"dataframe\">\n",
       "  <thead>\n",
       "    <tr style=\"text-align: right;\">\n",
       "      <th></th>\n",
       "      <th>w_ratio</th>\n",
       "    </tr>\n",
       "    <tr>\n",
       "      <th>fullname</th>\n",
       "      <th></th>\n",
       "    </tr>\n",
       "  </thead>\n",
       "  <tbody>\n",
       "    <tr>\n",
       "      <th>kei nishikori</th>\n",
       "      <td>0.674912</td>\n",
       "    </tr>\n",
       "    <tr>\n",
       "      <th>daniil medvedev</th>\n",
       "      <td>0.698953</td>\n",
       "    </tr>\n",
       "    <tr>\n",
       "      <th>jo-wilfried tsonga</th>\n",
       "      <td>0.634518</td>\n",
       "    </tr>\n",
       "    <tr>\n",
       "      <th>jeremy chardy</th>\n",
       "      <td>0.532143</td>\n",
       "    </tr>\n",
       "    <tr>\n",
       "      <th>alex de minaur</th>\n",
       "      <td>0.602941</td>\n",
       "    </tr>\n",
       "    <tr>\n",
       "      <th>...</th>\n",
       "      <td>...</td>\n",
       "    </tr>\n",
       "    <tr>\n",
       "      <th>risa ozaki</th>\n",
       "      <td>0.479452</td>\n",
       "    </tr>\n",
       "    <tr>\n",
       "      <th>marie bouzkova</th>\n",
       "      <td>0.615873</td>\n",
       "    </tr>\n",
       "    <tr>\n",
       "      <th>luksika kumkhum</th>\n",
       "      <td>0.641711</td>\n",
       "    </tr>\n",
       "    <tr>\n",
       "      <th>naomi broady</th>\n",
       "      <td>0.469194</td>\n",
       "    </tr>\n",
       "    <tr>\n",
       "      <th>kai lin zhang</th>\n",
       "      <td>0.561856</td>\n",
       "    </tr>\n",
       "  </tbody>\n",
       "</table>\n",
       "<p>2471 rows × 1 columns</p>\n",
       "</div>"
      ],
      "text/plain": [
       "                     w_ratio\n",
       "fullname                    \n",
       "kei nishikori       0.674912\n",
       "daniil medvedev     0.698953\n",
       "jo-wilfried tsonga  0.634518\n",
       "jeremy chardy       0.532143\n",
       "alex de minaur      0.602941\n",
       "...                      ...\n",
       "risa ozaki          0.479452\n",
       "marie bouzkova      0.615873\n",
       "luksika kumkhum     0.641711\n",
       "naomi broady        0.469194\n",
       "kai lin zhang       0.561856\n",
       "\n",
       "[2471 rows x 1 columns]"
      ]
     },
     "metadata": {},
     "output_type": "display_data"
    }
   ],
   "source": [
    "display(players[[\"w_ratio\"]])"
   ]
  },
  {
   "cell_type": "markdown",
   "metadata": {},
   "source": [
    "#### `w_ratio_semX`: Ratio of won matches out of played matches, in semester X"
   ]
  },
  {
   "cell_type": "code",
   "execution_count": 58,
   "metadata": {},
   "outputs": [
    {
     "data": {
      "text/plain": [
       "fullname         tourney_date\n",
       "aaliya ebrahim   2020-01-31      0.222222\n",
       "aanu ayegbusi    2019-01-31           0.0\n",
       "                 2020-01-31           0.6\n",
       "aaron addison    2016-01-31           0.0\n",
       "                 2016-07-31      0.666667\n",
       "                                   ...   \n",
       "zuzana zlochova  2020-01-31      0.571429\n",
       "                 2020-07-31      0.428571\n",
       "                 2021-01-31           0.0\n",
       "                 2021-07-31      0.166667\n",
       "                 2022-01-31           0.0\n",
       "Name: win ratio, Length: 31339, dtype: Float64"
      ]
     },
     "metadata": {},
     "output_type": "display_data"
    }
   ],
   "source": [
    "matches_with_dates = df.merge(tourneys_df['tourney_date'], how='left', left_on='tourney_id', right_index=True)\n",
    "won_by_semester = matches_with_dates.rename(columns={'winner_name':'fullname'}).groupby(['fullname', pd.Grouper(key='tourney_date', freq='6M', origin=\"start\")]).size().rename('won')\n",
    "lost_by_semester = matches_with_dates.rename(columns={'loser_name':'fullname'}).groupby(['fullname', pd.Grouper(key='tourney_date', freq='6M', origin=\"start\")]).size().rename('lost')\n",
    "tmp = pd.concat([won_by_semester, lost_by_semester], axis=1).fillna(0)\n",
    "tmp = tmp['won'] / (tmp['won'] + tmp['lost'])\n",
    "tmp = tmp.convert_dtypes().rename('win ratio')\n",
    "display(tmp)"
   ]
  },
  {
   "cell_type": "markdown",
   "metadata": {},
   "source": [
    "e.g.: win ratio time series of Kei Nishikori"
   ]
  },
  {
   "cell_type": "code",
   "execution_count": 59,
   "metadata": {},
   "outputs": [
    {
     "data": {
      "image/png": "[encoded data removed]",
      "text/plain": [
       "<Figure size 650x260 with 1 Axes>"
      ]
     },
     "metadata": {},
     "output_type": "display_data"
    }
   ],
   "source": [
    "tmp.xs('kei nishikori', level='fullname').plot()\n",
    "pass"
   ]
  },
  {
   "cell_type": "code",
   "execution_count": 60,
   "metadata": {},
   "outputs": [],
   "source": [
    "i = 0\n",
    "for semesterStart in tmp.index.get_level_values(1).unique().sort_values():\n",
    "    players['w_ratio_sem' + str(i)] = tmp.xs(semesterStart, level='tourney_date')\n",
    "    i = i+1"
   ]
  },
  {
   "cell_type": "code",
   "execution_count": 61,
   "metadata": {},
   "outputs": [
    {
     "data": {
      "text/html": [
       "<div>\n",
       "<style scoped>\n",
       "    .dataframe tbody tr th:only-of-type {\n",
       "        vertical-align: middle;\n",
       "    }\n",
       "\n",
       "    .dataframe tbody tr th {\n",
       "        vertical-align: top;\n",
       "    }\n",
       "\n",
       "    .dataframe thead th {\n",
       "        text-align: right;\n",
       "    }\n",
       "</style>\n",
       "<table border=\"1\" class=\"dataframe\">\n",
       "  <thead>\n",
       "    <tr style=\"text-align: right;\">\n",
       "      <th></th>\n",
       "      <th>w_ratio_sem0</th>\n",
       "      <th>w_ratio_sem1</th>\n",
       "      <th>w_ratio_sem2</th>\n",
       "      <th>w_ratio_sem3</th>\n",
       "      <th>w_ratio_sem4</th>\n",
       "      <th>w_ratio_sem5</th>\n",
       "      <th>w_ratio_sem6</th>\n",
       "      <th>w_ratio_sem7</th>\n",
       "      <th>w_ratio_sem8</th>\n",
       "      <th>w_ratio_sem9</th>\n",
       "      <th>w_ratio_sem10</th>\n",
       "      <th>w_ratio_sem11</th>\n",
       "      <th>w_ratio_sem12</th>\n",
       "    </tr>\n",
       "    <tr>\n",
       "      <th>fullname</th>\n",
       "      <th></th>\n",
       "      <th></th>\n",
       "      <th></th>\n",
       "      <th></th>\n",
       "      <th></th>\n",
       "      <th></th>\n",
       "      <th></th>\n",
       "      <th></th>\n",
       "      <th></th>\n",
       "      <th></th>\n",
       "      <th></th>\n",
       "      <th></th>\n",
       "      <th></th>\n",
       "    </tr>\n",
       "  </thead>\n",
       "  <tbody>\n",
       "    <tr>\n",
       "      <th>kei nishikori</th>\n",
       "      <td>0.714286</td>\n",
       "      <td>0.76087</td>\n",
       "      <td>0.685714</td>\n",
       "      <td>0.685714</td>\n",
       "      <td>0.714286</td>\n",
       "      <td>0.666667</td>\n",
       "      <td>0.725</td>\n",
       "      <td>0.655172</td>\n",
       "      <td>0.4</td>\n",
       "      <td>&lt;NA&gt;</td>\n",
       "      <td>0.333333</td>\n",
       "      <td>0.575758</td>\n",
       "      <td>0.714286</td>\n",
       "    </tr>\n",
       "    <tr>\n",
       "      <th>daniil medvedev</th>\n",
       "      <td>0.6</td>\n",
       "      <td>0.682927</td>\n",
       "      <td>0.75</td>\n",
       "      <td>0.575758</td>\n",
       "      <td>0.5</td>\n",
       "      <td>0.5</td>\n",
       "      <td>0.787234</td>\n",
       "      <td>0.682927</td>\n",
       "      <td>0.8</td>\n",
       "      <td>0.333333</td>\n",
       "      <td>0.769231</td>\n",
       "      <td>0.780488</td>\n",
       "      <td>0.888889</td>\n",
       "    </tr>\n",
       "    <tr>\n",
       "      <th>jo-wilfried tsonga</th>\n",
       "      <td>0.714286</td>\n",
       "      <td>0.653846</td>\n",
       "      <td>0.724138</td>\n",
       "      <td>0.730769</td>\n",
       "      <td>0.652174</td>\n",
       "      <td>0.666667</td>\n",
       "      <td>0.416667</td>\n",
       "      <td>0.628571</td>\n",
       "      <td>0.666667</td>\n",
       "      <td>&lt;NA&gt;</td>\n",
       "      <td>&lt;NA&gt;</td>\n",
       "      <td>0.111111</td>\n",
       "      <td>&lt;NA&gt;</td>\n",
       "    </tr>\n",
       "    <tr>\n",
       "      <th>jeremy chardy</th>\n",
       "      <td>0.625</td>\n",
       "      <td>0.423077</td>\n",
       "      <td>0.5</td>\n",
       "      <td>0.564103</td>\n",
       "      <td>0.529412</td>\n",
       "      <td>0.630435</td>\n",
       "      <td>0.421053</td>\n",
       "      <td>0.457143</td>\n",
       "      <td>0.64</td>\n",
       "      <td>&lt;NA&gt;</td>\n",
       "      <td>0.444444</td>\n",
       "      <td>0.542857</td>\n",
       "      <td>0.0</td>\n",
       "    </tr>\n",
       "    <tr>\n",
       "      <th>alex de minaur</th>\n",
       "      <td>0.0</td>\n",
       "      <td>0.666667</td>\n",
       "      <td>0.722222</td>\n",
       "      <td>0.583333</td>\n",
       "      <td>0.478261</td>\n",
       "      <td>0.66</td>\n",
       "      <td>0.636364</td>\n",
       "      <td>0.5</td>\n",
       "      <td>0.7</td>\n",
       "      <td>0.0</td>\n",
       "      <td>0.695652</td>\n",
       "      <td>0.517241</td>\n",
       "      <td>0.25</td>\n",
       "    </tr>\n",
       "    <tr>\n",
       "      <th>...</th>\n",
       "      <td>...</td>\n",
       "      <td>...</td>\n",
       "      <td>...</td>\n",
       "      <td>...</td>\n",
       "      <td>...</td>\n",
       "      <td>...</td>\n",
       "      <td>...</td>\n",
       "      <td>...</td>\n",
       "      <td>...</td>\n",
       "      <td>...</td>\n",
       "      <td>...</td>\n",
       "      <td>...</td>\n",
       "      <td>...</td>\n",
       "    </tr>\n",
       "    <tr>\n",
       "      <th>risa ozaki</th>\n",
       "      <td>0.714286</td>\n",
       "      <td>0.592593</td>\n",
       "      <td>0.657143</td>\n",
       "      <td>0.419355</td>\n",
       "      <td>0.2</td>\n",
       "      <td>0.5</td>\n",
       "      <td>0.388889</td>\n",
       "      <td>0.53125</td>\n",
       "      <td>0.25</td>\n",
       "      <td>0.0</td>\n",
       "      <td>&lt;NA&gt;</td>\n",
       "      <td>&lt;NA&gt;</td>\n",
       "      <td>&lt;NA&gt;</td>\n",
       "    </tr>\n",
       "    <tr>\n",
       "      <th>marie bouzkova</th>\n",
       "      <td>0.9</td>\n",
       "      <td>0.785714</td>\n",
       "      <td>0.47619</td>\n",
       "      <td>0.690476</td>\n",
       "      <td>0.518519</td>\n",
       "      <td>0.641026</td>\n",
       "      <td>0.62069</td>\n",
       "      <td>0.608696</td>\n",
       "      <td>0.619048</td>\n",
       "      <td>0.666667</td>\n",
       "      <td>0.533333</td>\n",
       "      <td>0.478261</td>\n",
       "      <td>0.2</td>\n",
       "    </tr>\n",
       "    <tr>\n",
       "      <th>luksika kumkhum</th>\n",
       "      <td>0.75</td>\n",
       "      <td>0.592593</td>\n",
       "      <td>0.545455</td>\n",
       "      <td>0.7</td>\n",
       "      <td>0.78125</td>\n",
       "      <td>0.645161</td>\n",
       "      <td>0.678571</td>\n",
       "      <td>0.125</td>\n",
       "      <td>0.0</td>\n",
       "      <td>&lt;NA&gt;</td>\n",
       "      <td>&lt;NA&gt;</td>\n",
       "      <td>&lt;NA&gt;</td>\n",
       "      <td>&lt;NA&gt;</td>\n",
       "    </tr>\n",
       "    <tr>\n",
       "      <th>naomi broady</th>\n",
       "      <td>0.727273</td>\n",
       "      <td>0.53125</td>\n",
       "      <td>0.47619</td>\n",
       "      <td>0.407407</td>\n",
       "      <td>0.545455</td>\n",
       "      <td>0.481481</td>\n",
       "      <td>0.277778</td>\n",
       "      <td>0.409091</td>\n",
       "      <td>0.4</td>\n",
       "      <td>&lt;NA&gt;</td>\n",
       "      <td>0.333333</td>\n",
       "      <td>0.428571</td>\n",
       "      <td>&lt;NA&gt;</td>\n",
       "    </tr>\n",
       "    <tr>\n",
       "      <th>kai lin zhang</th>\n",
       "      <td>0.666667</td>\n",
       "      <td>0.638889</td>\n",
       "      <td>0.352941</td>\n",
       "      <td>0.526316</td>\n",
       "      <td>0.541667</td>\n",
       "      <td>0.633333</td>\n",
       "      <td>0.583333</td>\n",
       "      <td>0.52</td>\n",
       "      <td>0.0</td>\n",
       "      <td>&lt;NA&gt;</td>\n",
       "      <td>&lt;NA&gt;</td>\n",
       "      <td>&lt;NA&gt;</td>\n",
       "      <td>&lt;NA&gt;</td>\n",
       "    </tr>\n",
       "  </tbody>\n",
       "</table>\n",
       "<p>2471 rows × 13 columns</p>\n",
       "</div>"
      ],
      "text/plain": [
       "                    w_ratio_sem0  w_ratio_sem1  w_ratio_sem2  w_ratio_sem3  \\\n",
       "fullname                                                                     \n",
       "kei nishikori           0.714286       0.76087      0.685714      0.685714   \n",
       "daniil medvedev              0.6      0.682927          0.75      0.575758   \n",
       "jo-wilfried tsonga      0.714286      0.653846      0.724138      0.730769   \n",
       "jeremy chardy              0.625      0.423077           0.5      0.564103   \n",
       "alex de minaur               0.0      0.666667      0.722222      0.583333   \n",
       "...                          ...           ...           ...           ...   \n",
       "risa ozaki              0.714286      0.592593      0.657143      0.419355   \n",
       "marie bouzkova               0.9      0.785714       0.47619      0.690476   \n",
       "luksika kumkhum             0.75      0.592593      0.545455           0.7   \n",
       "naomi broady            0.727273       0.53125       0.47619      0.407407   \n",
       "kai lin zhang           0.666667      0.638889      0.352941      0.526316   \n",
       "\n",
       "                    w_ratio_sem4  w_ratio_sem5  w_ratio_sem6  w_ratio_sem7  \\\n",
       "fullname                                                                     \n",
       "kei nishikori           0.714286      0.666667         0.725      0.655172   \n",
       "daniil medvedev              0.5           0.5      0.787234      0.682927   \n",
       "jo-wilfried tsonga      0.652174      0.666667      0.416667      0.628571   \n",
       "jeremy chardy           0.529412      0.630435      0.421053      0.457143   \n",
       "alex de minaur          0.478261          0.66      0.636364           0.5   \n",
       "...                          ...           ...           ...           ...   \n",
       "risa ozaki                   0.2           0.5      0.388889       0.53125   \n",
       "marie bouzkova          0.518519      0.641026       0.62069      0.608696   \n",
       "luksika kumkhum          0.78125      0.645161      0.678571         0.125   \n",
       "naomi broady            0.545455      0.481481      0.277778      0.409091   \n",
       "kai lin zhang           0.541667      0.633333      0.583333          0.52   \n",
       "\n",
       "                    w_ratio_sem8  w_ratio_sem9  w_ratio_sem10  w_ratio_sem11  \\\n",
       "fullname                                                                       \n",
       "kei nishikori                0.4          <NA>       0.333333       0.575758   \n",
       "daniil medvedev              0.8      0.333333       0.769231       0.780488   \n",
       "jo-wilfried tsonga      0.666667          <NA>           <NA>       0.111111   \n",
       "jeremy chardy               0.64          <NA>       0.444444       0.542857   \n",
       "alex de minaur               0.7           0.0       0.695652       0.517241   \n",
       "...                          ...           ...            ...            ...   \n",
       "risa ozaki                  0.25           0.0           <NA>           <NA>   \n",
       "marie bouzkova          0.619048      0.666667       0.533333       0.478261   \n",
       "luksika kumkhum              0.0          <NA>           <NA>           <NA>   \n",
       "naomi broady                 0.4          <NA>       0.333333       0.428571   \n",
       "kai lin zhang                0.0          <NA>           <NA>           <NA>   \n",
       "\n",
       "                    w_ratio_sem12  \n",
       "fullname                           \n",
       "kei nishikori            0.714286  \n",
       "daniil medvedev          0.888889  \n",
       "jo-wilfried tsonga           <NA>  \n",
       "jeremy chardy                 0.0  \n",
       "alex de minaur               0.25  \n",
       "...                           ...  \n",
       "risa ozaki                   <NA>  \n",
       "marie bouzkova                0.2  \n",
       "luksika kumkhum              <NA>  \n",
       "naomi broady                 <NA>  \n",
       "kai lin zhang                <NA>  \n",
       "\n",
       "[2471 rows x 13 columns]"
      ]
     },
     "metadata": {},
     "output_type": "display_data"
    }
   ],
   "source": [
    "display(players[filter(lambda k: 'w_ratio_sem' in k, players.columns)])"
   ]
  },
  {
   "cell_type": "markdown",
   "metadata": {},
   "source": [
    "#### `underdog_w_ratio` and `underdog_match_count`: Ratio of won matches as underdog (when the player has a lower rank than its opponent)"
   ]
  },
  {
   "cell_type": "code",
   "execution_count": 62,
   "metadata": {},
   "outputs": [],
   "source": [
    "won_as_underdog  = df[df['winner_rank_points'] < df['loser_rank_points']].groupby('winner_name').size()\n",
    "lost_as_underdog = df[df['winner_rank_points'] > df['loser_rank_points']].groupby('loser_name').size()\n",
    "tot_as_underdog = won_as_underdog.add(lost_as_underdog, fill_value=0)\n",
    "players[\"underdog_w_ratio\"] = won_as_underdog.div(tot_as_underdog, fill_value=0)\n",
    "players[\"underdog_w_ratio\"] = players[\"underdog_w_ratio\"].convert_dtypes()\n",
    "players[\"underdog_match_count\"] = tot_as_underdog.convert_dtypes()\n",
    "players[\"underdog_match_count\"] = players[\"underdog_match_count\"].fillna(0)"
   ]
  },
  {
   "cell_type": "code",
   "execution_count": 63,
   "metadata": {},
   "outputs": [
    {
     "data": {
      "text/html": [
       "<div>\n",
       "<style scoped>\n",
       "    .dataframe tbody tr th:only-of-type {\n",
       "        vertical-align: middle;\n",
       "    }\n",
       "\n",
       "    .dataframe tbody tr th {\n",
       "        vertical-align: top;\n",
       "    }\n",
       "\n",
       "    .dataframe thead th {\n",
       "        text-align: right;\n",
       "    }\n",
       "</style>\n",
       "<table border=\"1\" class=\"dataframe\">\n",
       "  <thead>\n",
       "    <tr style=\"text-align: right;\">\n",
       "      <th></th>\n",
       "      <th>underdog_w_ratio</th>\n",
       "      <th>underdog_match_count</th>\n",
       "    </tr>\n",
       "    <tr>\n",
       "      <th>fullname</th>\n",
       "      <th></th>\n",
       "      <th></th>\n",
       "    </tr>\n",
       "  </thead>\n",
       "  <tbody>\n",
       "    <tr>\n",
       "      <th>kei nishikori</th>\n",
       "      <td>0.407895</td>\n",
       "      <td>76</td>\n",
       "    </tr>\n",
       "    <tr>\n",
       "      <th>daniil medvedev</th>\n",
       "      <td>0.523077</td>\n",
       "      <td>130</td>\n",
       "    </tr>\n",
       "    <tr>\n",
       "      <th>jo-wilfried tsonga</th>\n",
       "      <td>0.461538</td>\n",
       "      <td>65</td>\n",
       "    </tr>\n",
       "    <tr>\n",
       "      <th>jeremy chardy</th>\n",
       "      <td>0.458333</td>\n",
       "      <td>144</td>\n",
       "    </tr>\n",
       "    <tr>\n",
       "      <th>alex de minaur</th>\n",
       "      <td>0.534483</td>\n",
       "      <td>116</td>\n",
       "    </tr>\n",
       "    <tr>\n",
       "      <th>...</th>\n",
       "      <td>...</td>\n",
       "      <td>...</td>\n",
       "    </tr>\n",
       "    <tr>\n",
       "      <th>risa ozaki</th>\n",
       "      <td>0.3125</td>\n",
       "      <td>80</td>\n",
       "    </tr>\n",
       "    <tr>\n",
       "      <th>marie bouzkova</th>\n",
       "      <td>0.371134</td>\n",
       "      <td>97</td>\n",
       "    </tr>\n",
       "    <tr>\n",
       "      <th>luksika kumkhum</th>\n",
       "      <td>0.466667</td>\n",
       "      <td>60</td>\n",
       "    </tr>\n",
       "    <tr>\n",
       "      <th>naomi broady</th>\n",
       "      <td>0.314607</td>\n",
       "      <td>89</td>\n",
       "    </tr>\n",
       "    <tr>\n",
       "      <th>kai lin zhang</th>\n",
       "      <td>0.31746</td>\n",
       "      <td>63</td>\n",
       "    </tr>\n",
       "  </tbody>\n",
       "</table>\n",
       "<p>2471 rows × 2 columns</p>\n",
       "</div>"
      ],
      "text/plain": [
       "                    underdog_w_ratio  underdog_match_count\n",
       "fullname                                                  \n",
       "kei nishikori               0.407895                    76\n",
       "daniil medvedev             0.523077                   130\n",
       "jo-wilfried tsonga          0.461538                    65\n",
       "jeremy chardy               0.458333                   144\n",
       "alex de minaur              0.534483                   116\n",
       "...                              ...                   ...\n",
       "risa ozaki                    0.3125                    80\n",
       "marie bouzkova              0.371134                    97\n",
       "luksika kumkhum             0.466667                    60\n",
       "naomi broady                0.314607                    89\n",
       "kai lin zhang                0.31746                    63\n",
       "\n",
       "[2471 rows x 2 columns]"
      ]
     },
     "metadata": {},
     "output_type": "display_data"
    }
   ],
   "source": [
    "display(players[[\"underdog_w_ratio\", \"underdog_match_count\"]])"
   ]
  },
  {
   "cell_type": "markdown",
   "metadata": {},
   "source": [
    "#### `grass_w_ratio`, `clay_w_ratio`, `hard_w_ratio`, `carpet_w_ratio`: Ratio of won matches on each type of tennis court"
   ]
  },
  {
   "cell_type": "code",
   "execution_count": 64,
   "metadata": {},
   "outputs": [
    {
     "data": {
      "text/html": [
       "<div>\n",
       "<style scoped>\n",
       "    .dataframe tbody tr th:only-of-type {\n",
       "        vertical-align: middle;\n",
       "    }\n",
       "\n",
       "    .dataframe tbody tr th {\n",
       "        vertical-align: top;\n",
       "    }\n",
       "\n",
       "    .dataframe thead th {\n",
       "        text-align: right;\n",
       "    }\n",
       "</style>\n",
       "<table border=\"1\" class=\"dataframe\">\n",
       "  <thead>\n",
       "    <tr style=\"text-align: right;\">\n",
       "      <th></th>\n",
       "      <th></th>\n",
       "      <th>won</th>\n",
       "      <th>lost</th>\n",
       "    </tr>\n",
       "    <tr>\n",
       "      <th>fullname</th>\n",
       "      <th>surface</th>\n",
       "      <th></th>\n",
       "      <th></th>\n",
       "    </tr>\n",
       "  </thead>\n",
       "  <tbody>\n",
       "    <tr>\n",
       "      <th rowspan=\"2\" valign=\"top\">aaliya ebrahim</th>\n",
       "      <th>clay</th>\n",
       "      <td>1.0</td>\n",
       "      <td>4.0</td>\n",
       "    </tr>\n",
       "    <tr>\n",
       "      <th>hard</th>\n",
       "      <td>1.0</td>\n",
       "      <td>3.0</td>\n",
       "    </tr>\n",
       "    <tr>\n",
       "      <th>aanu ayegbusi</th>\n",
       "      <th>hard</th>\n",
       "      <td>3.0</td>\n",
       "      <td>3.0</td>\n",
       "    </tr>\n",
       "    <tr>\n",
       "      <th>aaron addison</th>\n",
       "      <th>hard</th>\n",
       "      <td>2.0</td>\n",
       "      <td>9.0</td>\n",
       "    </tr>\n",
       "    <tr>\n",
       "      <th>aayushi tanwar</th>\n",
       "      <th>hard</th>\n",
       "      <td>1.0</td>\n",
       "      <td>5.0</td>\n",
       "    </tr>\n",
       "    <tr>\n",
       "      <th>...</th>\n",
       "      <th>...</th>\n",
       "      <td>...</td>\n",
       "      <td>...</td>\n",
       "    </tr>\n",
       "    <tr>\n",
       "      <th>zsombor piros</th>\n",
       "      <th>hard</th>\n",
       "      <td>16.0</td>\n",
       "      <td>17.0</td>\n",
       "    </tr>\n",
       "    <tr>\n",
       "      <th>zuzana bohatova</th>\n",
       "      <th>clay</th>\n",
       "      <td>0.0</td>\n",
       "      <td>6.0</td>\n",
       "    </tr>\n",
       "    <tr>\n",
       "      <th rowspan=\"3\" valign=\"top\">zuzana zlochova</th>\n",
       "      <th>clay</th>\n",
       "      <td>12.0</td>\n",
       "      <td>21.0</td>\n",
       "    </tr>\n",
       "    <tr>\n",
       "      <th>grass</th>\n",
       "      <td>0.0</td>\n",
       "      <td>1.0</td>\n",
       "    </tr>\n",
       "    <tr>\n",
       "      <th>hard</th>\n",
       "      <td>81.0</td>\n",
       "      <td>64.0</td>\n",
       "    </tr>\n",
       "  </tbody>\n",
       "</table>\n",
       "<p>11177 rows × 2 columns</p>\n",
       "</div>"
      ],
      "text/plain": [
       "                          won  lost\n",
       "fullname        surface            \n",
       "aaliya ebrahim  clay      1.0   4.0\n",
       "                hard      1.0   3.0\n",
       "aanu ayegbusi   hard      3.0   3.0\n",
       "aaron addison   hard      2.0   9.0\n",
       "aayushi tanwar  hard      1.0   5.0\n",
       "...                       ...   ...\n",
       "zsombor piros   hard     16.0  17.0\n",
       "zuzana bohatova clay      0.0   6.0\n",
       "zuzana zlochova clay     12.0  21.0\n",
       "                grass     0.0   1.0\n",
       "                hard     81.0  64.0\n",
       "\n",
       "[11177 rows x 2 columns]"
      ]
     },
     "metadata": {},
     "output_type": "display_data"
    }
   ],
   "source": [
    "matches_with_surfaces = df.merge(tourneys_df[[\"surface\"]], how='left', left_on='tourney_id', right_index=True)\n",
    "won_on_surface  = matches_with_surfaces.rename(columns={'winner_name' : 'fullname'}).groupby([\"fullname\", \"surface\"]).size().rename('won')\n",
    "lost_on_surface = matches_with_surfaces.rename(columns={'loser_name' : 'fullname'}).groupby([\"fullname\", \"surface\"]).size().rename('lost')\n",
    "tmp = pd.concat([won_on_surface, lost_on_surface], axis=1).fillna(0)\n",
    "display(tmp)"
   ]
  },
  {
   "cell_type": "code",
   "execution_count": 65,
   "metadata": {},
   "outputs": [],
   "source": [
    "tmp = tmp['won'] / (tmp['won'] + tmp['lost'])\n",
    "\n",
    "players['hard_w_ratio'] = tmp.xs('hard', level='surface').convert_dtypes()\n",
    "players['clay_w_ratio'] = tmp.xs('clay', level='surface').convert_dtypes()\n",
    "players['grass_w_ratio'] = tmp.xs('grass', level='surface').convert_dtypes()\n",
    "players['carpet_w_ratio'] = tmp.xs('carpet', level='surface').convert_dtypes()"
   ]
  },
  {
   "cell_type": "markdown",
   "metadata": {},
   "source": [
    "Finally, for our purposes for the following clustering task <u>we prefer to have an indicator about the ability of a player on a certain surface which is independent from his actual rank</u>. For this reason we calculate the ratio on a certain surface as \n",
    "$$ \\textit{surface\\_ratio} - \\textit{w\\_ratio}$$\n",
    "in this way the ratio will be positive if the player performs better on that surface or negative elsewhere."
   ]
  },
  {
   "cell_type": "code",
   "execution_count": 66,
   "metadata": {},
   "outputs": [],
   "source": [
    "players['hard_w_ratio'] = players['hard_w_ratio'] - players['w_ratio']\n",
    "players['clay_w_ratio'] = players['clay_w_ratio'] - players['w_ratio']\n",
    "players['grass_w_ratio'] = players['grass_w_ratio'] - players['w_ratio']\n",
    "players['carpet_w_ratio'] = players['carpet_w_ratio'] - players['w_ratio']"
   ]
  },
  {
   "cell_type": "code",
   "execution_count": 67,
   "metadata": {},
   "outputs": [
    {
     "data": {
      "text/html": [
       "<div>\n",
       "<style scoped>\n",
       "    .dataframe tbody tr th:only-of-type {\n",
       "        vertical-align: middle;\n",
       "    }\n",
       "\n",
       "    .dataframe tbody tr th {\n",
       "        vertical-align: top;\n",
       "    }\n",
       "\n",
       "    .dataframe thead th {\n",
       "        text-align: right;\n",
       "    }\n",
       "</style>\n",
       "<table border=\"1\" class=\"dataframe\">\n",
       "  <thead>\n",
       "    <tr style=\"text-align: right;\">\n",
       "      <th></th>\n",
       "      <th>hard_w_ratio</th>\n",
       "      <th>clay_w_ratio</th>\n",
       "      <th>grass_w_ratio</th>\n",
       "      <th>carpet_w_ratio</th>\n",
       "    </tr>\n",
       "    <tr>\n",
       "      <th>fullname</th>\n",
       "      <th></th>\n",
       "      <th></th>\n",
       "      <th></th>\n",
       "      <th></th>\n",
       "    </tr>\n",
       "  </thead>\n",
       "  <tbody>\n",
       "    <tr>\n",
       "      <th>kei nishikori</th>\n",
       "      <td>0.005321</td>\n",
       "      <td>-0.008245</td>\n",
       "      <td>-0.008245</td>\n",
       "      <td>&lt;NA&gt;</td>\n",
       "    </tr>\n",
       "    <tr>\n",
       "      <th>daniil medvedev</th>\n",
       "      <td>0.038457</td>\n",
       "      <td>-0.189519</td>\n",
       "      <td>-0.012678</td>\n",
       "      <td>&lt;NA&gt;</td>\n",
       "    </tr>\n",
       "    <tr>\n",
       "      <th>jo-wilfried tsonga</th>\n",
       "      <td>0.029716</td>\n",
       "      <td>-0.073542</td>\n",
       "      <td>-0.05557</td>\n",
       "      <td>&lt;NA&gt;</td>\n",
       "    </tr>\n",
       "    <tr>\n",
       "      <th>jeremy chardy</th>\n",
       "      <td>0.004002</td>\n",
       "      <td>-0.025814</td>\n",
       "      <td>0.039286</td>\n",
       "      <td>&lt;NA&gt;</td>\n",
       "    </tr>\n",
       "    <tr>\n",
       "      <th>alex de minaur</th>\n",
       "      <td>0.029491</td>\n",
       "      <td>-0.212697</td>\n",
       "      <td>0.070972</td>\n",
       "      <td>&lt;NA&gt;</td>\n",
       "    </tr>\n",
       "    <tr>\n",
       "      <th>...</th>\n",
       "      <td>...</td>\n",
       "      <td>...</td>\n",
       "      <td>...</td>\n",
       "      <td>...</td>\n",
       "    </tr>\n",
       "    <tr>\n",
       "      <th>risa ozaki</th>\n",
       "      <td>0.023373</td>\n",
       "      <td>-0.119452</td>\n",
       "      <td>-0.094837</td>\n",
       "      <td>0.020548</td>\n",
       "    </tr>\n",
       "    <tr>\n",
       "      <th>marie bouzkova</th>\n",
       "      <td>0.035387</td>\n",
       "      <td>-0.115873</td>\n",
       "      <td>-0.094134</td>\n",
       "      <td>&lt;NA&gt;</td>\n",
       "    </tr>\n",
       "    <tr>\n",
       "      <th>luksika kumkhum</th>\n",
       "      <td>0.043137</td>\n",
       "      <td>-0.641711</td>\n",
       "      <td>-0.204211</td>\n",
       "      <td>&lt;NA&gt;</td>\n",
       "    </tr>\n",
       "    <tr>\n",
       "      <th>naomi broady</th>\n",
       "      <td>0.015468</td>\n",
       "      <td>-0.169194</td>\n",
       "      <td>-0.135861</td>\n",
       "      <td>0.173663</td>\n",
       "    </tr>\n",
       "    <tr>\n",
       "      <th>kai lin zhang</th>\n",
       "      <td>-0.004894</td>\n",
       "      <td>0.063144</td>\n",
       "      <td>-0.061856</td>\n",
       "      <td>-0.061856</td>\n",
       "    </tr>\n",
       "  </tbody>\n",
       "</table>\n",
       "<p>2471 rows × 4 columns</p>\n",
       "</div>"
      ],
      "text/plain": [
       "                    hard_w_ratio  clay_w_ratio  grass_w_ratio  carpet_w_ratio\n",
       "fullname                                                                     \n",
       "kei nishikori           0.005321     -0.008245      -0.008245            <NA>\n",
       "daniil medvedev         0.038457     -0.189519      -0.012678            <NA>\n",
       "jo-wilfried tsonga      0.029716     -0.073542       -0.05557            <NA>\n",
       "jeremy chardy           0.004002     -0.025814       0.039286            <NA>\n",
       "alex de minaur          0.029491     -0.212697       0.070972            <NA>\n",
       "...                          ...           ...            ...             ...\n",
       "risa ozaki              0.023373     -0.119452      -0.094837        0.020548\n",
       "marie bouzkova          0.035387     -0.115873      -0.094134            <NA>\n",
       "luksika kumkhum         0.043137     -0.641711      -0.204211            <NA>\n",
       "naomi broady            0.015468     -0.169194      -0.135861        0.173663\n",
       "kai lin zhang          -0.004894      0.063144      -0.061856       -0.061856\n",
       "\n",
       "[2471 rows x 4 columns]"
      ]
     },
     "metadata": {},
     "output_type": "display_data"
    }
   ],
   "source": [
    "display(players[['hard_w_ratio', 'clay_w_ratio', 'grass_w_ratio', 'carpet_w_ratio']])"
   ]
  },
  {
   "cell_type": "code",
   "execution_count": 68,
   "metadata": {},
   "outputs": [
    {
     "data": {
      "text/plain": [
       "82.63860785107244"
      ]
     },
     "execution_count": 68,
     "metadata": {},
     "output_type": "execute_result"
    }
   ],
   "source": [
    "len(players[players['carpet_w_ratio'].isna()])/len(players) * 100"
   ]
  },
  {
   "cell_type": "markdown",
   "metadata": {},
   "source": [
    "Since more than the $82\\%$ of the dataset has no information available about matches *on carpet*, we drop this feature."
   ]
  },
  {
   "cell_type": "code",
   "execution_count": 69,
   "metadata": {},
   "outputs": [],
   "source": [
    "players = players.drop(columns='carpet_w_ratio')"
   ]
  },
  {
   "cell_type": "markdown",
   "metadata": {},
   "source": [
    "#### `l1_tourney_count`, `l2_tourney_count`: Number of Level 1 and Level 2 tournaments in which the player partecipated"
   ]
  },
  {
   "cell_type": "markdown",
   "metadata": {},
   "source": [
    "We define as *Level 1* the *Grand Slams* and *Masters 1000*s tournaments and as *Level 2* the *ATP Tour* 500 and 250, or equivalents for the *WTA* circuit."
   ]
  },
  {
   "cell_type": "code",
   "execution_count": 70,
   "metadata": {},
   "outputs": [],
   "source": [
    "temp_df = tourneys_sex_df.reset_index()\n",
    "males_tournaments = temp_df[temp_df['sex'] == 'm'].copy()\n",
    "females_tournaments = temp_df[temp_df['sex'] == 'f'].copy()\n",
    "females_tournaments = females_tournaments[~females_tournaments['tourney_id'].isin(males_tournaments['tourney_id'])]"
   ]
  },
  {
   "cell_type": "code",
   "execution_count": 71,
   "metadata": {},
   "outputs": [],
   "source": [
    "males_tournaments = males_tournaments.drop(columns=['draw_size', 'sex'])\n",
    "females_tournaments = females_tournaments.drop(columns=['draw_size', 'sex'])\n",
    "tourney_levels = pd.concat([males_tournaments, females_tournaments])"
   ]
  },
  {
   "cell_type": "code",
   "execution_count": 72,
   "metadata": {},
   "outputs": [],
   "source": [
    "tourney_levels['tourney_level'] = tourney_levels['tourney_level'].replace({'g':'l1', 'm':'l1', 'pm':'l1', 'p':'l2', 'a':'l2'})\n",
    "match_level = df[df['round'].isin(['f', 'sf', 'qf', 'q1'])].merge(tourney_levels, left_on='tourney_id', right_on='tourney_id')"
   ]
  },
  {
   "cell_type": "code",
   "execution_count": 73,
   "metadata": {},
   "outputs": [
    {
     "data": {
      "text/html": [
       "<div>\n",
       "<style scoped>\n",
       "    .dataframe tbody tr th:only-of-type {\n",
       "        vertical-align: middle;\n",
       "    }\n",
       "\n",
       "    .dataframe tbody tr th {\n",
       "        vertical-align: top;\n",
       "    }\n",
       "\n",
       "    .dataframe thead th {\n",
       "        text-align: right;\n",
       "    }\n",
       "</style>\n",
       "<table border=\"1\" class=\"dataframe\">\n",
       "  <thead>\n",
       "    <tr style=\"text-align: right;\">\n",
       "      <th></th>\n",
       "      <th>tourney_id</th>\n",
       "      <th>tourney_level</th>\n",
       "      <th>winner_name</th>\n",
       "      <th>loser_name</th>\n",
       "    </tr>\n",
       "  </thead>\n",
       "  <tbody>\n",
       "    <tr>\n",
       "      <th>0</th>\n",
       "      <td>2019-m020</td>\n",
       "      <td>l2</td>\n",
       "      <td>kei nishikori</td>\n",
       "      <td>daniil medvedev</td>\n",
       "    </tr>\n",
       "    <tr>\n",
       "      <th>1</th>\n",
       "      <td>2019-m020</td>\n",
       "      <td>l2</td>\n",
       "      <td>daniil medvedev</td>\n",
       "      <td>jo-wilfried tsonga</td>\n",
       "    </tr>\n",
       "    <tr>\n",
       "      <th>2</th>\n",
       "      <td>2019-m020</td>\n",
       "      <td>l2</td>\n",
       "      <td>kei nishikori</td>\n",
       "      <td>jeremy chardy</td>\n",
       "    </tr>\n",
       "    <tr>\n",
       "      <th>3</th>\n",
       "      <td>2019-m020</td>\n",
       "      <td>l2</td>\n",
       "      <td>jo-wilfried tsonga</td>\n",
       "      <td>alex de minaur</td>\n",
       "    </tr>\n",
       "    <tr>\n",
       "      <th>4</th>\n",
       "      <td>2019-m020</td>\n",
       "      <td>l2</td>\n",
       "      <td>daniil medvedev</td>\n",
       "      <td>milos raonic</td>\n",
       "    </tr>\n",
       "  </tbody>\n",
       "</table>\n",
       "</div>"
      ],
      "text/plain": [
       "  tourney_id tourney_level         winner_name          loser_name\n",
       "0  2019-m020            l2       kei nishikori     daniil medvedev\n",
       "1  2019-m020            l2     daniil medvedev  jo-wilfried tsonga\n",
       "2  2019-m020            l2       kei nishikori       jeremy chardy\n",
       "3  2019-m020            l2  jo-wilfried tsonga      alex de minaur\n",
       "4  2019-m020            l2     daniil medvedev        milos raonic"
      ]
     },
     "execution_count": 73,
     "metadata": {},
     "output_type": "execute_result"
    }
   ],
   "source": [
    "match_level = match_level[['tourney_id', 'tourney_level', 'winner_name', 'loser_name']]\n",
    "match_level.head()"
   ]
  },
  {
   "cell_type": "code",
   "execution_count": 74,
   "metadata": {},
   "outputs": [
    {
     "data": {
      "text/html": [
       "<div>\n",
       "<style scoped>\n",
       "    .dataframe tbody tr th:only-of-type {\n",
       "        vertical-align: middle;\n",
       "    }\n",
       "\n",
       "    .dataframe tbody tr th {\n",
       "        vertical-align: top;\n",
       "    }\n",
       "\n",
       "    .dataframe thead th {\n",
       "        text-align: right;\n",
       "    }\n",
       "</style>\n",
       "<table border=\"1\" class=\"dataframe\">\n",
       "  <thead>\n",
       "    <tr style=\"text-align: right;\">\n",
       "      <th></th>\n",
       "      <th>tourney_id</th>\n",
       "      <th>tourney_level</th>\n",
       "      <th>fullname</th>\n",
       "    </tr>\n",
       "  </thead>\n",
       "  <tbody>\n",
       "    <tr>\n",
       "      <th>0</th>\n",
       "      <td>2019-m020</td>\n",
       "      <td>l2</td>\n",
       "      <td>kei nishikori</td>\n",
       "    </tr>\n",
       "    <tr>\n",
       "      <th>1</th>\n",
       "      <td>2019-m020</td>\n",
       "      <td>l2</td>\n",
       "      <td>daniil medvedev</td>\n",
       "    </tr>\n",
       "    <tr>\n",
       "      <th>3</th>\n",
       "      <td>2019-m020</td>\n",
       "      <td>l2</td>\n",
       "      <td>jo-wilfried tsonga</td>\n",
       "    </tr>\n",
       "    <tr>\n",
       "      <th>5</th>\n",
       "      <td>2019-m020</td>\n",
       "      <td>l2</td>\n",
       "      <td>jeremy chardy</td>\n",
       "    </tr>\n",
       "    <tr>\n",
       "      <th>8</th>\n",
       "      <td>2019-m020</td>\n",
       "      <td>l2</td>\n",
       "      <td>alex de minaur</td>\n",
       "    </tr>\n",
       "  </tbody>\n",
       "</table>\n",
       "</div>"
      ],
      "text/plain": [
       "  tourney_id tourney_level            fullname\n",
       "0  2019-m020            l2       kei nishikori\n",
       "1  2019-m020            l2     daniil medvedev\n",
       "3  2019-m020            l2  jo-wilfried tsonga\n",
       "5  2019-m020            l2       jeremy chardy\n",
       "8  2019-m020            l2      alex de minaur"
      ]
     },
     "execution_count": 74,
     "metadata": {},
     "output_type": "execute_result"
    }
   ],
   "source": [
    "match_level_winner = match_level[['tourney_id', 'tourney_level', 'winner_name']].copy().rename(columns={'winner_name' : 'fullname'})\n",
    "match_level_loser = match_level[['tourney_id', 'tourney_level', 'loser_name']].copy().rename(columns={'loser_name' : 'fullname'})\n",
    "match_level = pd.concat([match_level_winner, match_level_loser]).drop_duplicates()\n",
    "match_level.head()"
   ]
  },
  {
   "cell_type": "code",
   "execution_count": 75,
   "metadata": {},
   "outputs": [],
   "source": [
    "match_level = match_level.groupby('fullname')['tourney_level'].value_counts()"
   ]
  },
  {
   "cell_type": "code",
   "execution_count": 76,
   "metadata": {},
   "outputs": [],
   "source": [
    "for level_name in ['l1', 'l2']:\n",
    "    players[level_name + '_tourney_count'] = match_level.xs(level_name, level=1)\n",
    "    players[level_name + '_tourney_count'] = players[level_name + '_tourney_count'].convert_dtypes()\n",
    "    players[level_name + '_tourney_count'] = players[level_name + '_tourney_count'].fillna(0)\n",
    "   "
   ]
  },
  {
   "cell_type": "code",
   "execution_count": 77,
   "metadata": {},
   "outputs": [
    {
     "data": {
      "text/html": [
       "<div>\n",
       "<style scoped>\n",
       "    .dataframe tbody tr th:only-of-type {\n",
       "        vertical-align: middle;\n",
       "    }\n",
       "\n",
       "    .dataframe tbody tr th {\n",
       "        vertical-align: top;\n",
       "    }\n",
       "\n",
       "    .dataframe thead th {\n",
       "        text-align: right;\n",
       "    }\n",
       "</style>\n",
       "<table border=\"1\" class=\"dataframe\">\n",
       "  <thead>\n",
       "    <tr style=\"text-align: right;\">\n",
       "      <th></th>\n",
       "      <th>l1_tourney_count</th>\n",
       "      <th>l2_tourney_count</th>\n",
       "    </tr>\n",
       "    <tr>\n",
       "      <th>fullname</th>\n",
       "      <th></th>\n",
       "      <th></th>\n",
       "    </tr>\n",
       "  </thead>\n",
       "  <tbody>\n",
       "    <tr>\n",
       "      <th>kei nishikori</th>\n",
       "      <td>31</td>\n",
       "      <td>29</td>\n",
       "    </tr>\n",
       "    <tr>\n",
       "      <th>daniil medvedev</th>\n",
       "      <td>24</td>\n",
       "      <td>39</td>\n",
       "    </tr>\n",
       "    <tr>\n",
       "      <th>jo-wilfried tsonga</th>\n",
       "      <td>12</td>\n",
       "      <td>26</td>\n",
       "    </tr>\n",
       "    <tr>\n",
       "      <th>jeremy chardy</th>\n",
       "      <td>12</td>\n",
       "      <td>41</td>\n",
       "    </tr>\n",
       "    <tr>\n",
       "      <th>alex de minaur</th>\n",
       "      <td>12</td>\n",
       "      <td>30</td>\n",
       "    </tr>\n",
       "  </tbody>\n",
       "</table>\n",
       "</div>"
      ],
      "text/plain": [
       "                    l1_tourney_count  l2_tourney_count\n",
       "fullname                                              \n",
       "kei nishikori                     31                29\n",
       "daniil medvedev                   24                39\n",
       "jo-wilfried tsonga                12                26\n",
       "jeremy chardy                     12                41\n",
       "alex de minaur                    12                30"
      ]
     },
     "execution_count": 77,
     "metadata": {},
     "output_type": "execute_result"
    }
   ],
   "source": [
    "players[['l1_tourney_count', 'l2_tourney_count']].head()"
   ]
  },
  {
   "cell_type": "markdown",
   "metadata": {},
   "source": [
    "#### `f_match_count`, `sf_match_count`: Number of final and semifinals matches played"
   ]
  },
  {
   "cell_type": "code",
   "execution_count": 78,
   "metadata": {},
   "outputs": [],
   "source": [
    "winners_rounds_count = df.rename(columns={'winner_name':'fullname'}).groupby('fullname')['round'].value_counts()\n",
    "losers_rounds_count = df.rename(columns={'loser_name':'fullname'}).groupby('fullname')['round'].value_counts()\n",
    "rounds_count = winners_rounds_count.add(losers_rounds_count, fill_value=0).astype(int)"
   ]
  },
  {
   "cell_type": "code",
   "execution_count": 79,
   "metadata": {},
   "outputs": [],
   "source": [
    "for round_name in ['f', 'sf']:\n",
    "    players[round_name + '_match_count'] = rounds_count.xs(round_name, level=1)\n",
    "    players[round_name + '_match_count'] = players[round_name + '_match_count'].convert_dtypes().fillna(0)\n",
    "    "
   ]
  },
  {
   "cell_type": "markdown",
   "metadata": {},
   "source": [
    "#### `l1_f_match_count`, `l1_sf_match_count`, `l2_f_match_count`, `l2_sf_match_count`: Number of final and semifinals matches played in tournaments of Level 1 and Level 2"
   ]
  },
  {
   "cell_type": "code",
   "execution_count": 80,
   "metadata": {},
   "outputs": [],
   "source": [
    "matches_with_levels = df.merge(tourney_levels, how='left', left_on='tourney_id', right_on='tourney_id')\n",
    "matches_with_levels['tourney_level'] = matches_with_levels['tourney_level'].replace({'g':'l1', 'm':'l1', 'pm':'l1', 'p':'l2', 'a':'l2'})\n",
    "matches_with_levels = matches_with_levels[matches_with_levels.tourney_level.isin(['l1', 'l2'])]\n",
    "matches_with_levels = matches_with_levels[matches_with_levels['round'].isin(['f', 'sf'])]"
   ]
  },
  {
   "cell_type": "code",
   "execution_count": 81,
   "metadata": {},
   "outputs": [
    {
     "data": {
      "text/plain": [
       "fullname             tourney_level  round\n",
       "adrian mannarino     l2             f         8\n",
       "                                    sf       13\n",
       "agnieszka radwanska  l1             sf        2\n",
       "                     l2             f         3\n",
       "                                    sf        8\n",
       "                                             ..\n",
       "yoshihito nishioka   l2             sf        3\n",
       "yuichi sugita        l2             f         1\n",
       "                                    sf        3\n",
       "yulia putintseva     l2             f         1\n",
       "                                    sf        2\n",
       "Length: 714, dtype: int64"
      ]
     },
     "metadata": {},
     "output_type": "display_data"
    }
   ],
   "source": [
    "w_matches_with_levels = matches_with_levels[['winner_name', 'tourney_level', 'round']].rename(columns={'winner_name':'fullname'})\n",
    "l_matches_with_levels = matches_with_levels[['loser_name', 'tourney_level', 'round']].rename(columns={'loser_name':'fullname'})\n",
    "matches_with_levels = pd.concat([w_matches_with_levels, l_matches_with_levels])\n",
    "matches_with_levels = matches_with_levels.groupby(['fullname', 'tourney_level', 'round']).size()\n",
    "display(matches_with_levels)"
   ]
  },
  {
   "cell_type": "code",
   "execution_count": 82,
   "metadata": {},
   "outputs": [],
   "source": [
    "for l in ['l1', 'l2']:\n",
    "    for r in ['f', 'sf']:\n",
    "        players[l + '_' + r + '_match_count'] = matches_with_levels.xs(l, level='tourney_level').xs(r, level='round')\n",
    "        players[l + '_' + r + '_match_count'] = players[l + '_' + r + '_match_count'].fillna(0).convert_dtypes()"
   ]
  },
  {
   "cell_type": "markdown",
   "metadata": {},
   "source": [
    "#### `rank_semX`: Players' mean rank of each semester"
   ]
  },
  {
   "cell_type": "code",
   "execution_count": 83,
   "metadata": {},
   "outputs": [],
   "source": [
    "matches_with_dates = df.merge(tourneys_df['tourney_date'], how='left', left_on='tourney_id', right_index=True)"
   ]
  },
  {
   "cell_type": "code",
   "execution_count": 84,
   "metadata": {},
   "outputs": [
    {
     "data": {
      "text/html": [
       "<div>\n",
       "<style scoped>\n",
       "    .dataframe tbody tr th:only-of-type {\n",
       "        vertical-align: middle;\n",
       "    }\n",
       "\n",
       "    .dataframe tbody tr th {\n",
       "        vertical-align: top;\n",
       "    }\n",
       "\n",
       "    .dataframe thead th {\n",
       "        text-align: right;\n",
       "    }\n",
       "</style>\n",
       "<table border=\"1\" class=\"dataframe\">\n",
       "  <thead>\n",
       "    <tr style=\"text-align: right;\">\n",
       "      <th></th>\n",
       "      <th></th>\n",
       "      <th>rank</th>\n",
       "    </tr>\n",
       "    <tr>\n",
       "      <th>fullname</th>\n",
       "      <th>tourney_date</th>\n",
       "      <th></th>\n",
       "    </tr>\n",
       "  </thead>\n",
       "  <tbody>\n",
       "    <tr>\n",
       "      <th rowspan=\"5\" valign=\"top\">aaron addison</th>\n",
       "      <th>2016-01-31</th>\n",
       "      <td>1255.0</td>\n",
       "    </tr>\n",
       "    <tr>\n",
       "      <th>2016-07-31</th>\n",
       "      <td>1254.0</td>\n",
       "    </tr>\n",
       "    <tr>\n",
       "      <th>2017-01-31</th>\n",
       "      <td>1042.0</td>\n",
       "    </tr>\n",
       "    <tr>\n",
       "      <th>2019-01-31</th>\n",
       "      <td>1073.0</td>\n",
       "    </tr>\n",
       "    <tr>\n",
       "      <th>2020-01-31</th>\n",
       "      <td>1045.0</td>\n",
       "    </tr>\n",
       "    <tr>\n",
       "      <th>...</th>\n",
       "      <th>...</th>\n",
       "      <td>...</td>\n",
       "    </tr>\n",
       "    <tr>\n",
       "      <th rowspan=\"5\" valign=\"top\">zuzana zlochova</th>\n",
       "      <th>2020-01-31</th>\n",
       "      <td>355.428571</td>\n",
       "    </tr>\n",
       "    <tr>\n",
       "      <th>2020-07-31</th>\n",
       "      <td>316.142857</td>\n",
       "    </tr>\n",
       "    <tr>\n",
       "      <th>2021-01-31</th>\n",
       "      <td>317.0</td>\n",
       "    </tr>\n",
       "    <tr>\n",
       "      <th>2021-07-31</th>\n",
       "      <td>345.833333</td>\n",
       "    </tr>\n",
       "    <tr>\n",
       "      <th>2022-01-31</th>\n",
       "      <td>375.5</td>\n",
       "    </tr>\n",
       "  </tbody>\n",
       "</table>\n",
       "<p>22593 rows × 1 columns</p>\n",
       "</div>"
      ],
      "text/plain": [
       "                                    rank\n",
       "fullname        tourney_date            \n",
       "aaron addison   2016-01-31        1255.0\n",
       "                2016-07-31        1254.0\n",
       "                2017-01-31        1042.0\n",
       "                2019-01-31        1073.0\n",
       "                2020-01-31        1045.0\n",
       "...                                  ...\n",
       "zuzana zlochova 2020-01-31    355.428571\n",
       "                2020-07-31    316.142857\n",
       "                2021-01-31         317.0\n",
       "                2021-07-31    345.833333\n",
       "                2022-01-31         375.5\n",
       "\n",
       "[22593 rows x 1 columns]"
      ]
     },
     "metadata": {},
     "output_type": "display_data"
    }
   ],
   "source": [
    "ranks = pd.concat([\n",
    "    matches_with_dates[['winner_name', 'tourney_date', 'winner_rank']].rename(columns={'winner_name':'fullname', 'winner_rank':'rank'}),\n",
    "    matches_with_dates[['loser_name', 'tourney_date', 'loser_rank']].rename(columns={'loser_name':'fullname', 'loser_rank':'rank'})\n",
    "]).dropna()\n",
    "\n",
    "ranks = ranks.groupby(['fullname', pd.Grouper(key='tourney_date', freq='6M', origin=\"start\")]).mean()\n",
    "display(ranks)"
   ]
  },
  {
   "cell_type": "markdown",
   "metadata": {},
   "source": [
    "e.g.: rank time series of Kei Nishikori"
   ]
  },
  {
   "cell_type": "code",
   "execution_count": 85,
   "metadata": {},
   "outputs": [
    {
     "data": {
      "image/png": "[encoded data removed]",
      "text/plain": [
       "<Figure size 650x260 with 1 Axes>"
      ]
     },
     "metadata": {},
     "output_type": "display_data"
    }
   ],
   "source": [
    "ranks.xs('kei nishikori', level='fullname').plot()\n",
    "pass"
   ]
  },
  {
   "cell_type": "code",
   "execution_count": 86,
   "metadata": {},
   "outputs": [],
   "source": [
    "i = 0\n",
    "for semesterStart in ranks.index.get_level_values(1).unique().sort_values():\n",
    "    players['rank_sem' + str(i)] = ranks.xs(semesterStart, level='tourney_date').astype(int)\n",
    "    players['rank_sem' + str(i)] = players['rank_sem' + str(i)].convert_dtypes()\n",
    "    i = i+1"
   ]
  },
  {
   "cell_type": "code",
   "execution_count": 87,
   "metadata": {},
   "outputs": [
    {
     "data": {
      "text/html": [
       "<div>\n",
       "<style scoped>\n",
       "    .dataframe tbody tr th:only-of-type {\n",
       "        vertical-align: middle;\n",
       "    }\n",
       "\n",
       "    .dataframe tbody tr th {\n",
       "        vertical-align: top;\n",
       "    }\n",
       "\n",
       "    .dataframe thead th {\n",
       "        text-align: right;\n",
       "    }\n",
       "</style>\n",
       "<table border=\"1\" class=\"dataframe\">\n",
       "  <thead>\n",
       "    <tr style=\"text-align: right;\">\n",
       "      <th></th>\n",
       "      <th>rank_sem0</th>\n",
       "      <th>rank_sem1</th>\n",
       "      <th>rank_sem2</th>\n",
       "      <th>rank_sem3</th>\n",
       "      <th>rank_sem4</th>\n",
       "      <th>rank_sem5</th>\n",
       "      <th>rank_sem6</th>\n",
       "      <th>rank_sem7</th>\n",
       "      <th>rank_sem8</th>\n",
       "      <th>rank_sem9</th>\n",
       "      <th>rank_sem10</th>\n",
       "      <th>rank_sem11</th>\n",
       "      <th>rank_sem12</th>\n",
       "    </tr>\n",
       "    <tr>\n",
       "      <th>fullname</th>\n",
       "      <th></th>\n",
       "      <th></th>\n",
       "      <th></th>\n",
       "      <th></th>\n",
       "      <th></th>\n",
       "      <th></th>\n",
       "      <th></th>\n",
       "      <th></th>\n",
       "      <th></th>\n",
       "      <th></th>\n",
       "      <th></th>\n",
       "      <th></th>\n",
       "      <th></th>\n",
       "    </tr>\n",
       "  </thead>\n",
       "  <tbody>\n",
       "    <tr>\n",
       "      <th>kei nishikori</th>\n",
       "      <td>7</td>\n",
       "      <td>6</td>\n",
       "      <td>5</td>\n",
       "      <td>7</td>\n",
       "      <td>24</td>\n",
       "      <td>27</td>\n",
       "      <td>12</td>\n",
       "      <td>6</td>\n",
       "      <td>6</td>\n",
       "      <td>&lt;NA&gt;</td>\n",
       "      <td>34</td>\n",
       "      <td>47</td>\n",
       "      <td>63</td>\n",
       "    </tr>\n",
       "    <tr>\n",
       "      <th>daniil medvedev</th>\n",
       "      <td>329</td>\n",
       "      <td>242</td>\n",
       "      <td>128</td>\n",
       "      <td>58</td>\n",
       "      <td>67</td>\n",
       "      <td>55</td>\n",
       "      <td>36</td>\n",
       "      <td>13</td>\n",
       "      <td>5</td>\n",
       "      <td>5</td>\n",
       "      <td>5</td>\n",
       "      <td>2</td>\n",
       "      <td>2</td>\n",
       "    </tr>\n",
       "    <tr>\n",
       "      <th>jo-wilfried tsonga</th>\n",
       "      <td>10</td>\n",
       "      <td>9</td>\n",
       "      <td>12</td>\n",
       "      <td>11</td>\n",
       "      <td>15</td>\n",
       "      <td>19</td>\n",
       "      <td>179</td>\n",
       "      <td>112</td>\n",
       "      <td>47</td>\n",
       "      <td>&lt;NA&gt;</td>\n",
       "      <td>&lt;NA&gt;</td>\n",
       "      <td>72</td>\n",
       "      <td>&lt;NA&gt;</td>\n",
       "    </tr>\n",
       "    <tr>\n",
       "      <th>jeremy chardy</th>\n",
       "      <td>31</td>\n",
       "      <td>32</td>\n",
       "      <td>69</td>\n",
       "      <td>73</td>\n",
       "      <td>85</td>\n",
       "      <td>81</td>\n",
       "      <td>41</td>\n",
       "      <td>54</td>\n",
       "      <td>66</td>\n",
       "      <td>&lt;NA&gt;</td>\n",
       "      <td>66</td>\n",
       "      <td>59</td>\n",
       "      <td>72</td>\n",
       "    </tr>\n",
       "    <tr>\n",
       "      <th>alex de minaur</th>\n",
       "      <td>1586</td>\n",
       "      <td>668</td>\n",
       "      <td>435</td>\n",
       "      <td>239</td>\n",
       "      <td>188</td>\n",
       "      <td>103</td>\n",
       "      <td>34</td>\n",
       "      <td>27</td>\n",
       "      <td>27</td>\n",
       "      <td>25</td>\n",
       "      <td>26</td>\n",
       "      <td>22</td>\n",
       "      <td>17</td>\n",
       "    </tr>\n",
       "    <tr>\n",
       "      <th>...</th>\n",
       "      <td>...</td>\n",
       "      <td>...</td>\n",
       "      <td>...</td>\n",
       "      <td>...</td>\n",
       "      <td>...</td>\n",
       "      <td>...</td>\n",
       "      <td>...</td>\n",
       "      <td>...</td>\n",
       "      <td>...</td>\n",
       "      <td>...</td>\n",
       "      <td>...</td>\n",
       "      <td>...</td>\n",
       "      <td>...</td>\n",
       "    </tr>\n",
       "    <tr>\n",
       "      <th>risa ozaki</th>\n",
       "      <td>147</td>\n",
       "      <td>130</td>\n",
       "      <td>109</td>\n",
       "      <td>81</td>\n",
       "      <td>104</td>\n",
       "      <td>244</td>\n",
       "      <td>295</td>\n",
       "      <td>274</td>\n",
       "      <td>305</td>\n",
       "      <td>315</td>\n",
       "      <td>&lt;NA&gt;</td>\n",
       "      <td>&lt;NA&gt;</td>\n",
       "      <td>&lt;NA&gt;</td>\n",
       "    </tr>\n",
       "    <tr>\n",
       "      <th>marie bouzkova</th>\n",
       "      <td>392</td>\n",
       "      <td>295</td>\n",
       "      <td>272</td>\n",
       "      <td>219</td>\n",
       "      <td>175</td>\n",
       "      <td>169</td>\n",
       "      <td>147</td>\n",
       "      <td>117</td>\n",
       "      <td>69</td>\n",
       "      <td>58</td>\n",
       "      <td>48</td>\n",
       "      <td>51</td>\n",
       "      <td>73</td>\n",
       "    </tr>\n",
       "    <tr>\n",
       "      <th>luksika kumkhum</th>\n",
       "      <td>159</td>\n",
       "      <td>154</td>\n",
       "      <td>156</td>\n",
       "      <td>194</td>\n",
       "      <td>143</td>\n",
       "      <td>97</td>\n",
       "      <td>90</td>\n",
       "      <td>102</td>\n",
       "      <td>254</td>\n",
       "      <td>&lt;NA&gt;</td>\n",
       "      <td>&lt;NA&gt;</td>\n",
       "      <td>&lt;NA&gt;</td>\n",
       "      <td>&lt;NA&gt;</td>\n",
       "    </tr>\n",
       "    <tr>\n",
       "      <th>naomi broady</th>\n",
       "      <td>117</td>\n",
       "      <td>88</td>\n",
       "      <td>91</td>\n",
       "      <td>116</td>\n",
       "      <td>125</td>\n",
       "      <td>130</td>\n",
       "      <td>205</td>\n",
       "      <td>344</td>\n",
       "      <td>431</td>\n",
       "      <td>&lt;NA&gt;</td>\n",
       "      <td>516</td>\n",
       "      <td>537</td>\n",
       "      <td>&lt;NA&gt;</td>\n",
       "    </tr>\n",
       "    <tr>\n",
       "      <th>kai lin zhang</th>\n",
       "      <td>146</td>\n",
       "      <td>132</td>\n",
       "      <td>119</td>\n",
       "      <td>140</td>\n",
       "      <td>233</td>\n",
       "      <td>302</td>\n",
       "      <td>258</td>\n",
       "      <td>214</td>\n",
       "      <td>229</td>\n",
       "      <td>&lt;NA&gt;</td>\n",
       "      <td>&lt;NA&gt;</td>\n",
       "      <td>&lt;NA&gt;</td>\n",
       "      <td>&lt;NA&gt;</td>\n",
       "    </tr>\n",
       "  </tbody>\n",
       "</table>\n",
       "<p>2471 rows × 13 columns</p>\n",
       "</div>"
      ],
      "text/plain": [
       "                    rank_sem0  rank_sem1  rank_sem2  rank_sem3  rank_sem4  \\\n",
       "fullname                                                                    \n",
       "kei nishikori               7          6          5          7         24   \n",
       "daniil medvedev           329        242        128         58         67   \n",
       "jo-wilfried tsonga         10          9         12         11         15   \n",
       "jeremy chardy              31         32         69         73         85   \n",
       "alex de minaur           1586        668        435        239        188   \n",
       "...                       ...        ...        ...        ...        ...   \n",
       "risa ozaki                147        130        109         81        104   \n",
       "marie bouzkova            392        295        272        219        175   \n",
       "luksika kumkhum           159        154        156        194        143   \n",
       "naomi broady              117         88         91        116        125   \n",
       "kai lin zhang             146        132        119        140        233   \n",
       "\n",
       "                    rank_sem5  rank_sem6  rank_sem7  rank_sem8  rank_sem9  \\\n",
       "fullname                                                                    \n",
       "kei nishikori              27         12          6          6       <NA>   \n",
       "daniil medvedev            55         36         13          5          5   \n",
       "jo-wilfried tsonga         19        179        112         47       <NA>   \n",
       "jeremy chardy              81         41         54         66       <NA>   \n",
       "alex de minaur            103         34         27         27         25   \n",
       "...                       ...        ...        ...        ...        ...   \n",
       "risa ozaki                244        295        274        305        315   \n",
       "marie bouzkova            169        147        117         69         58   \n",
       "luksika kumkhum            97         90        102        254       <NA>   \n",
       "naomi broady              130        205        344        431       <NA>   \n",
       "kai lin zhang             302        258        214        229       <NA>   \n",
       "\n",
       "                    rank_sem10  rank_sem11  rank_sem12  \n",
       "fullname                                                \n",
       "kei nishikori               34          47          63  \n",
       "daniil medvedev              5           2           2  \n",
       "jo-wilfried tsonga        <NA>          72        <NA>  \n",
       "jeremy chardy               66          59          72  \n",
       "alex de minaur              26          22          17  \n",
       "...                        ...         ...         ...  \n",
       "risa ozaki                <NA>        <NA>        <NA>  \n",
       "marie bouzkova              48          51          73  \n",
       "luksika kumkhum           <NA>        <NA>        <NA>  \n",
       "naomi broady               516         537        <NA>  \n",
       "kai lin zhang             <NA>        <NA>        <NA>  \n",
       "\n",
       "[2471 rows x 13 columns]"
      ]
     },
     "metadata": {},
     "output_type": "display_data"
    }
   ],
   "source": [
    "rank_cols = list(filter(lambda s : 'rank_sem' in s, players.columns))\n",
    "display(players[rank_cols])"
   ]
  },
  {
   "cell_type": "markdown",
   "metadata": {},
   "source": [
    "#### `mean_rank`: Players' mean rank"
   ]
  },
  {
   "cell_type": "code",
   "execution_count": 88,
   "metadata": {},
   "outputs": [],
   "source": [
    "players['mean_rank'] = players[rank_cols].sum(axis=1) / players[rank_cols].notna().sum(axis=1)"
   ]
  },
  {
   "cell_type": "markdown",
   "metadata": {},
   "source": [
    "#### `rank_points_semX`: Players' mean rank points of each semester"
   ]
  },
  {
   "cell_type": "code",
   "execution_count": 89,
   "metadata": {},
   "outputs": [
    {
     "data": {
      "text/html": [
       "<div>\n",
       "<style scoped>\n",
       "    .dataframe tbody tr th:only-of-type {\n",
       "        vertical-align: middle;\n",
       "    }\n",
       "\n",
       "    .dataframe tbody tr th {\n",
       "        vertical-align: top;\n",
       "    }\n",
       "\n",
       "    .dataframe thead th {\n",
       "        text-align: right;\n",
       "    }\n",
       "</style>\n",
       "<table border=\"1\" class=\"dataframe\">\n",
       "  <thead>\n",
       "    <tr style=\"text-align: right;\">\n",
       "      <th></th>\n",
       "      <th></th>\n",
       "      <th>rank_points</th>\n",
       "    </tr>\n",
       "    <tr>\n",
       "      <th>fullname</th>\n",
       "      <th>tourney_date</th>\n",
       "      <th></th>\n",
       "    </tr>\n",
       "  </thead>\n",
       "  <tbody>\n",
       "    <tr>\n",
       "      <th rowspan=\"5\" valign=\"top\">aaron addison</th>\n",
       "      <th>2016-01-31</th>\n",
       "      <td>6.0</td>\n",
       "    </tr>\n",
       "    <tr>\n",
       "      <th>2016-07-31</th>\n",
       "      <td>6.0</td>\n",
       "    </tr>\n",
       "    <tr>\n",
       "      <th>2017-01-31</th>\n",
       "      <td>10.0</td>\n",
       "    </tr>\n",
       "    <tr>\n",
       "      <th>2019-01-31</th>\n",
       "      <td>9.0</td>\n",
       "    </tr>\n",
       "    <tr>\n",
       "      <th>2020-01-31</th>\n",
       "      <td>8.0</td>\n",
       "    </tr>\n",
       "    <tr>\n",
       "      <th>...</th>\n",
       "      <th>...</th>\n",
       "      <td>...</td>\n",
       "    </tr>\n",
       "    <tr>\n",
       "      <th rowspan=\"5\" valign=\"top\">zuzana zlochova</th>\n",
       "      <th>2020-01-31</th>\n",
       "      <td>136.071429</td>\n",
       "    </tr>\n",
       "    <tr>\n",
       "      <th>2020-07-31</th>\n",
       "      <td>164.0</td>\n",
       "    </tr>\n",
       "    <tr>\n",
       "      <th>2021-01-31</th>\n",
       "      <td>166.0</td>\n",
       "    </tr>\n",
       "    <tr>\n",
       "      <th>2021-07-31</th>\n",
       "      <td>156.0</td>\n",
       "    </tr>\n",
       "    <tr>\n",
       "      <th>2022-01-31</th>\n",
       "      <td>149.5</td>\n",
       "    </tr>\n",
       "  </tbody>\n",
       "</table>\n",
       "<p>22590 rows × 1 columns</p>\n",
       "</div>"
      ],
      "text/plain": [
       "                              rank_points\n",
       "fullname        tourney_date             \n",
       "aaron addison   2016-01-31            6.0\n",
       "                2016-07-31            6.0\n",
       "                2017-01-31           10.0\n",
       "                2019-01-31            9.0\n",
       "                2020-01-31            8.0\n",
       "...                                   ...\n",
       "zuzana zlochova 2020-01-31     136.071429\n",
       "                2020-07-31          164.0\n",
       "                2021-01-31          166.0\n",
       "                2021-07-31          156.0\n",
       "                2022-01-31          149.5\n",
       "\n",
       "[22590 rows x 1 columns]"
      ]
     },
     "metadata": {},
     "output_type": "display_data"
    }
   ],
   "source": [
    "rank_points = pd.concat([\n",
    "    matches_with_dates[['winner_name', 'tourney_date', 'winner_rank_points']].rename(columns={'winner_name':'fullname', 'winner_rank_points':'rank_points'}),\n",
    "    matches_with_dates[['loser_name', 'tourney_date', 'loser_rank_points']].rename(columns={'loser_name':'fullname', 'loser_rank_points':'rank_points'})\n",
    "]).dropna()\n",
    "\n",
    "rank_points = rank_points.groupby(['fullname', pd.Grouper(key='tourney_date', freq='6M', origin=\"start\")]).mean()\n",
    "display(rank_points)"
   ]
  },
  {
   "cell_type": "markdown",
   "metadata": {},
   "source": [
    "e.g.: rank points time series of Kei Nishikori"
   ]
  },
  {
   "cell_type": "code",
   "execution_count": 90,
   "metadata": {},
   "outputs": [
    {
     "data": {
      "image/png": "[encoded data removed]",
      "text/plain": [
       "<Figure size 650x260 with 1 Axes>"
      ]
     },
     "metadata": {},
     "output_type": "display_data"
    }
   ],
   "source": [
    "rank_points.xs('kei nishikori', level='fullname').plot()\n",
    "pass"
   ]
  },
  {
   "cell_type": "code",
   "execution_count": 91,
   "metadata": {},
   "outputs": [],
   "source": [
    "i = 0\n",
    "for semesterStart in rank_points.index.get_level_values(1).unique().sort_values():\n",
    "    players['rank_points_sem' + str(i)] = rank_points.xs(semesterStart, level='tourney_date').astype(int)\n",
    "    players['rank_points_sem' + str(i)] = players['rank_points_sem' + str(i)].convert_dtypes()\n",
    "    i = i+1"
   ]
  },
  {
   "cell_type": "code",
   "execution_count": 92,
   "metadata": {},
   "outputs": [
    {
     "data": {
      "text/html": [
       "<div>\n",
       "<style scoped>\n",
       "    .dataframe tbody tr th:only-of-type {\n",
       "        vertical-align: middle;\n",
       "    }\n",
       "\n",
       "    .dataframe tbody tr th {\n",
       "        vertical-align: top;\n",
       "    }\n",
       "\n",
       "    .dataframe thead th {\n",
       "        text-align: right;\n",
       "    }\n",
       "</style>\n",
       "<table border=\"1\" class=\"dataframe\">\n",
       "  <thead>\n",
       "    <tr style=\"text-align: right;\">\n",
       "      <th></th>\n",
       "      <th>rank_points_sem0</th>\n",
       "      <th>rank_points_sem1</th>\n",
       "      <th>rank_points_sem2</th>\n",
       "      <th>rank_points_sem3</th>\n",
       "      <th>rank_points_sem4</th>\n",
       "      <th>rank_points_sem5</th>\n",
       "      <th>rank_points_sem6</th>\n",
       "      <th>rank_points_sem7</th>\n",
       "      <th>rank_points_sem8</th>\n",
       "      <th>rank_points_sem9</th>\n",
       "      <th>rank_points_sem10</th>\n",
       "      <th>rank_points_sem11</th>\n",
       "      <th>rank_points_sem12</th>\n",
       "    </tr>\n",
       "    <tr>\n",
       "      <th>fullname</th>\n",
       "      <th></th>\n",
       "      <th></th>\n",
       "      <th></th>\n",
       "      <th></th>\n",
       "      <th></th>\n",
       "      <th></th>\n",
       "      <th></th>\n",
       "      <th></th>\n",
       "      <th></th>\n",
       "      <th></th>\n",
       "      <th></th>\n",
       "      <th></th>\n",
       "      <th></th>\n",
       "    </tr>\n",
       "  </thead>\n",
       "  <tbody>\n",
       "    <tr>\n",
       "      <th>kei nishikori</th>\n",
       "      <td>4235</td>\n",
       "      <td>4241</td>\n",
       "      <td>4593</td>\n",
       "      <td>3986</td>\n",
       "      <td>1832</td>\n",
       "      <td>1575</td>\n",
       "      <td>2783</td>\n",
       "      <td>3965</td>\n",
       "      <td>4019</td>\n",
       "      <td>&lt;NA&gt;</td>\n",
       "      <td>1345</td>\n",
       "      <td>1331</td>\n",
       "      <td>1051</td>\n",
       "    </tr>\n",
       "    <tr>\n",
       "      <th>daniil medvedev</th>\n",
       "      <td>144</td>\n",
       "      <td>219</td>\n",
       "      <td>480</td>\n",
       "      <td>810</td>\n",
       "      <td>774</td>\n",
       "      <td>934</td>\n",
       "      <td>1390</td>\n",
       "      <td>2390</td>\n",
       "      <td>4574</td>\n",
       "      <td>5890</td>\n",
       "      <td>6115</td>\n",
       "      <td>9620</td>\n",
       "      <td>10077</td>\n",
       "    </tr>\n",
       "    <tr>\n",
       "      <th>jo-wilfried tsonga</th>\n",
       "      <td>2686</td>\n",
       "      <td>3029</td>\n",
       "      <td>2581</td>\n",
       "      <td>2944</td>\n",
       "      <td>2440</td>\n",
       "      <td>2050</td>\n",
       "      <td>380</td>\n",
       "      <td>568</td>\n",
       "      <td>1105</td>\n",
       "      <td>&lt;NA&gt;</td>\n",
       "      <td>&lt;NA&gt;</td>\n",
       "      <td>969</td>\n",
       "      <td>&lt;NA&gt;</td>\n",
       "    </tr>\n",
       "    <tr>\n",
       "      <th>jeremy chardy</th>\n",
       "      <td>1255</td>\n",
       "      <td>1229</td>\n",
       "      <td>749</td>\n",
       "      <td>697</td>\n",
       "      <td>625</td>\n",
       "      <td>715</td>\n",
       "      <td>1069</td>\n",
       "      <td>948</td>\n",
       "      <td>858</td>\n",
       "      <td>&lt;NA&gt;</td>\n",
       "      <td>868</td>\n",
       "      <td>1081</td>\n",
       "      <td>994</td>\n",
       "    </tr>\n",
       "    <tr>\n",
       "      <th>alex de minaur</th>\n",
       "      <td>2</td>\n",
       "      <td>38</td>\n",
       "      <td>102</td>\n",
       "      <td>219</td>\n",
       "      <td>287</td>\n",
       "      <td>576</td>\n",
       "      <td>1224</td>\n",
       "      <td>1393</td>\n",
       "      <td>1484</td>\n",
       "      <td>1575</td>\n",
       "      <td>1693</td>\n",
       "      <td>2281</td>\n",
       "      <td>2591</td>\n",
       "    </tr>\n",
       "    <tr>\n",
       "      <th>...</th>\n",
       "      <td>...</td>\n",
       "      <td>...</td>\n",
       "      <td>...</td>\n",
       "      <td>...</td>\n",
       "      <td>...</td>\n",
       "      <td>...</td>\n",
       "      <td>...</td>\n",
       "      <td>...</td>\n",
       "      <td>...</td>\n",
       "      <td>...</td>\n",
       "      <td>...</td>\n",
       "      <td>...</td>\n",
       "      <td>...</td>\n",
       "    </tr>\n",
       "    <tr>\n",
       "      <th>risa ozaki</th>\n",
       "      <td>375</td>\n",
       "      <td>447</td>\n",
       "      <td>584</td>\n",
       "      <td>743</td>\n",
       "      <td>601</td>\n",
       "      <td>226</td>\n",
       "      <td>161</td>\n",
       "      <td>186</td>\n",
       "      <td>176</td>\n",
       "      <td>165</td>\n",
       "      <td>&lt;NA&gt;</td>\n",
       "      <td>&lt;NA&gt;</td>\n",
       "      <td>&lt;NA&gt;</td>\n",
       "    </tr>\n",
       "    <tr>\n",
       "      <th>marie bouzkova</th>\n",
       "      <td>91</td>\n",
       "      <td>144</td>\n",
       "      <td>167</td>\n",
       "      <td>238</td>\n",
       "      <td>326</td>\n",
       "      <td>342</td>\n",
       "      <td>413</td>\n",
       "      <td>535</td>\n",
       "      <td>886</td>\n",
       "      <td>981</td>\n",
       "      <td>1247</td>\n",
       "      <td>1450</td>\n",
       "      <td>1069</td>\n",
       "    </tr>\n",
       "    <tr>\n",
       "      <th>luksika kumkhum</th>\n",
       "      <td>346</td>\n",
       "      <td>364</td>\n",
       "      <td>366</td>\n",
       "      <td>278</td>\n",
       "      <td>416</td>\n",
       "      <td>668</td>\n",
       "      <td>694</td>\n",
       "      <td>627</td>\n",
       "      <td>231</td>\n",
       "      <td>&lt;NA&gt;</td>\n",
       "      <td>&lt;NA&gt;</td>\n",
       "      <td>&lt;NA&gt;</td>\n",
       "      <td>&lt;NA&gt;</td>\n",
       "    </tr>\n",
       "    <tr>\n",
       "      <th>naomi broady</th>\n",
       "      <td>530</td>\n",
       "      <td>756</td>\n",
       "      <td>715</td>\n",
       "      <td>493</td>\n",
       "      <td>488</td>\n",
       "      <td>481</td>\n",
       "      <td>295</td>\n",
       "      <td>128</td>\n",
       "      <td>95</td>\n",
       "      <td>&lt;NA&gt;</td>\n",
       "      <td>78</td>\n",
       "      <td>74</td>\n",
       "      <td>&lt;NA&gt;</td>\n",
       "    </tr>\n",
       "    <tr>\n",
       "      <th>kai lin zhang</th>\n",
       "      <td>385</td>\n",
       "      <td>459</td>\n",
       "      <td>521</td>\n",
       "      <td>430</td>\n",
       "      <td>235</td>\n",
       "      <td>161</td>\n",
       "      <td>208</td>\n",
       "      <td>271</td>\n",
       "      <td>254</td>\n",
       "      <td>&lt;NA&gt;</td>\n",
       "      <td>&lt;NA&gt;</td>\n",
       "      <td>&lt;NA&gt;</td>\n",
       "      <td>&lt;NA&gt;</td>\n",
       "    </tr>\n",
       "  </tbody>\n",
       "</table>\n",
       "<p>2471 rows × 13 columns</p>\n",
       "</div>"
      ],
      "text/plain": [
       "                    rank_points_sem0  rank_points_sem1  rank_points_sem2  \\\n",
       "fullname                                                                   \n",
       "kei nishikori                   4235              4241              4593   \n",
       "daniil medvedev                  144               219               480   \n",
       "jo-wilfried tsonga              2686              3029              2581   \n",
       "jeremy chardy                   1255              1229               749   \n",
       "alex de minaur                     2                38               102   \n",
       "...                              ...               ...               ...   \n",
       "risa ozaki                       375               447               584   \n",
       "marie bouzkova                    91               144               167   \n",
       "luksika kumkhum                  346               364               366   \n",
       "naomi broady                     530               756               715   \n",
       "kai lin zhang                    385               459               521   \n",
       "\n",
       "                    rank_points_sem3  rank_points_sem4  rank_points_sem5  \\\n",
       "fullname                                                                   \n",
       "kei nishikori                   3986              1832              1575   \n",
       "daniil medvedev                  810               774               934   \n",
       "jo-wilfried tsonga              2944              2440              2050   \n",
       "jeremy chardy                    697               625               715   \n",
       "alex de minaur                   219               287               576   \n",
       "...                              ...               ...               ...   \n",
       "risa ozaki                       743               601               226   \n",
       "marie bouzkova                   238               326               342   \n",
       "luksika kumkhum                  278               416               668   \n",
       "naomi broady                     493               488               481   \n",
       "kai lin zhang                    430               235               161   \n",
       "\n",
       "                    rank_points_sem6  rank_points_sem7  rank_points_sem8  \\\n",
       "fullname                                                                   \n",
       "kei nishikori                   2783              3965              4019   \n",
       "daniil medvedev                 1390              2390              4574   \n",
       "jo-wilfried tsonga               380               568              1105   \n",
       "jeremy chardy                   1069               948               858   \n",
       "alex de minaur                  1224              1393              1484   \n",
       "...                              ...               ...               ...   \n",
       "risa ozaki                       161               186               176   \n",
       "marie bouzkova                   413               535               886   \n",
       "luksika kumkhum                  694               627               231   \n",
       "naomi broady                     295               128                95   \n",
       "kai lin zhang                    208               271               254   \n",
       "\n",
       "                    rank_points_sem9  rank_points_sem10  rank_points_sem11  \\\n",
       "fullname                                                                     \n",
       "kei nishikori                   <NA>               1345               1331   \n",
       "daniil medvedev                 5890               6115               9620   \n",
       "jo-wilfried tsonga              <NA>               <NA>                969   \n",
       "jeremy chardy                   <NA>                868               1081   \n",
       "alex de minaur                  1575               1693               2281   \n",
       "...                              ...                ...                ...   \n",
       "risa ozaki                       165               <NA>               <NA>   \n",
       "marie bouzkova                   981               1247               1450   \n",
       "luksika kumkhum                 <NA>               <NA>               <NA>   \n",
       "naomi broady                    <NA>                 78                 74   \n",
       "kai lin zhang                   <NA>               <NA>               <NA>   \n",
       "\n",
       "                    rank_points_sem12  \n",
       "fullname                               \n",
       "kei nishikori                    1051  \n",
       "daniil medvedev                 10077  \n",
       "jo-wilfried tsonga               <NA>  \n",
       "jeremy chardy                     994  \n",
       "alex de minaur                   2591  \n",
       "...                               ...  \n",
       "risa ozaki                       <NA>  \n",
       "marie bouzkova                   1069  \n",
       "luksika kumkhum                  <NA>  \n",
       "naomi broady                     <NA>  \n",
       "kai lin zhang                    <NA>  \n",
       "\n",
       "[2471 rows x 13 columns]"
      ]
     },
     "metadata": {},
     "output_type": "display_data"
    }
   ],
   "source": [
    "display(players[filter(lambda k: 'rank_points_sem' in k, players.columns)])"
   ]
  },
  {
   "cell_type": "markdown",
   "metadata": {},
   "source": [
    "## Feature Analysis"
   ]
  },
  {
   "cell_type": "markdown",
   "metadata": {},
   "source": [
    "Finally, since we have extracted the interesting features for us, we can perform a *brief* analysis about them."
   ]
  },
  {
   "cell_type": "code",
   "execution_count": 93,
   "metadata": {},
   "outputs": [
    {
     "name": "stdout",
     "output_type": "stream",
     "text": [
      "<class 'pandas.core.frame.DataFrame'>\n",
      "Index: 2471 entries, kei nishikori to kai lin zhang\n",
      "Data columns (total 72 columns):\n",
      " #   Column                Non-Null Count  Dtype  \n",
      "---  ------                --------------  -----  \n",
      " 0   hand                  2471 non-null   string \n",
      " 1   ioc                   2471 non-null   string \n",
      " 2   ht                    2471 non-null   Int64  \n",
      " 3   sex                   2471 non-null   string \n",
      " 4   match_count           2471 non-null   Int64  \n",
      " 5   birthday              2466 non-null   object \n",
      " 6   stats_match_count     2471 non-null   int64  \n",
      " 7   ace_mean              2471 non-null   Float64\n",
      " 8   ace_std               2241 non-null   Float64\n",
      " 9   df_mean               2471 non-null   Float64\n",
      " 10  df_std                2241 non-null   Float64\n",
      " 11  ace_ratio             2471 non-null   Float64\n",
      " 12  df_ratio              2471 non-null   Float64\n",
      " 13  bp_saved_ratio        2469 non-null   Float64\n",
      " 14  bp_w_ratio            2453 non-null   Float64\n",
      " 15  svpt_w_ratio          2471 non-null   Float64\n",
      " 16  svpt_2nd_w_ratio      2471 non-null   Float64\n",
      " 17  svpt_1st_fail_ratio   2471 non-null   Float64\n",
      " 18  w_ratio               2471 non-null   Float64\n",
      " 19  w_ratio_sem0          866 non-null    Float64\n",
      " 20  w_ratio_sem1          1804 non-null   Float64\n",
      " 21  w_ratio_sem2          1828 non-null   Float64\n",
      " 22  w_ratio_sem3          1858 non-null   Float64\n",
      " 23  w_ratio_sem4          1803 non-null   Float64\n",
      " 24  w_ratio_sem5          1871 non-null   Float64\n",
      " 25  w_ratio_sem6          1677 non-null   Float64\n",
      " 26  w_ratio_sem7          1616 non-null   Float64\n",
      " 27  w_ratio_sem8          1590 non-null   Float64\n",
      " 28  w_ratio_sem9          1171 non-null   Float64\n",
      " 29  w_ratio_sem10         1055 non-null   Float64\n",
      " 30  w_ratio_sem11         1267 non-null   Float64\n",
      " 31  w_ratio_sem12         815 non-null    Float64\n",
      " 32  underdog_w_ratio      2353 non-null   Float64\n",
      " 33  underdog_match_count  2471 non-null   Int64  \n",
      " 34  hard_w_ratio          2400 non-null   Float64\n",
      " 35  clay_w_ratio          2197 non-null   Float64\n",
      " 36  grass_w_ratio         1063 non-null   Float64\n",
      " 37  l1_tourney_count      2471 non-null   Int64  \n",
      " 38  l2_tourney_count      2471 non-null   Int64  \n",
      " 39  f_match_count         2471 non-null   Int64  \n",
      " 40  sf_match_count        2471 non-null   Int64  \n",
      " 41  l1_f_match_count      2471 non-null   Int64  \n",
      " 42  l1_sf_match_count     2471 non-null   Int64  \n",
      " 43  l2_f_match_count      2471 non-null   Int64  \n",
      " 44  l2_sf_match_count     2471 non-null   Int64  \n",
      " 45  rank_sem0             833 non-null    Int64  \n",
      " 46  rank_sem1             1590 non-null   Int64  \n",
      " 47  rank_sem2             1640 non-null   Int64  \n",
      " 48  rank_sem3             1657 non-null   Int64  \n",
      " 49  rank_sem4             1648 non-null   Int64  \n",
      " 50  rank_sem5             1686 non-null   Int64  \n",
      " 51  rank_sem6             1556 non-null   Int64  \n",
      " 52  rank_sem7             1298 non-null   Int64  \n",
      " 53  rank_sem8             1476 non-null   Int64  \n",
      " 54  rank_sem9             1107 non-null   Int64  \n",
      " 55  rank_sem10            1021 non-null   Int64  \n",
      " 56  rank_sem11            1219 non-null   Int64  \n",
      " 57  rank_sem12            797 non-null    Int64  \n",
      " 58  mean_rank             2358 non-null   float64\n",
      " 59  rank_points_sem0      833 non-null    Int64  \n",
      " 60  rank_points_sem1      1590 non-null   Int64  \n",
      " 61  rank_points_sem2      1640 non-null   Int64  \n",
      " 62  rank_points_sem3      1657 non-null   Int64  \n",
      " 63  rank_points_sem4      1648 non-null   Int64  \n",
      " 64  rank_points_sem5      1686 non-null   Int64  \n",
      " 65  rank_points_sem6      1555 non-null   Int64  \n",
      " 66  rank_points_sem7      1297 non-null   Int64  \n",
      " 67  rank_points_sem8      1475 non-null   Int64  \n",
      " 68  rank_points_sem9      1107 non-null   Int64  \n",
      " 69  rank_points_sem10     1021 non-null   Int64  \n",
      " 70  rank_points_sem11     1219 non-null   Int64  \n",
      " 71  rank_points_sem12     797 non-null    Int64  \n",
      "dtypes: Float64(29), Int64(37), float64(1), int64(1), object(1), string(3)\n",
      "memory usage: 1.6+ MB\n"
     ]
    }
   ],
   "source": [
    "players.info()"
   ]
  },
  {
   "cell_type": "code",
   "execution_count": 94,
   "metadata": {},
   "outputs": [],
   "source": [
    "feature_columns = ['ace_mean', 'ace_std', 'df_mean', 'df_std', 'ace_ratio', 'df_ratio',\n",
    "                   'bp_saved_ratio', 'bp_w_ratio', 'svpt_w_ratio',\n",
    "                   'svpt_2nd_w_ratio', 'svpt_1st_fail_ratio', 'w_ratio', 'underdog_w_ratio',\n",
    "                   'underdog_match_count', 'hard_w_ratio', 'clay_w_ratio', 'grass_w_ratio',\n",
    "                   'l1_tourney_count', 'l2_tourney_count', 'f_match_count', 'sf_match_count',\n",
    "                   'l1_f_match_count', 'l1_sf_match_count', 'l2_f_match_count', 'l2_sf_match_count',\n",
    "                   'mean_rank']"
   ]
  },
  {
   "cell_type": "markdown",
   "metadata": {},
   "source": [
    "### Distribution"
   ]
  },
  {
   "cell_type": "code",
   "execution_count": 103,
   "metadata": {},
   "outputs": [
    {
     "data": {
      "image/png": "[encoded data removed]",
      "text/plain": [
       "<Figure size 1040x910 with 28 Axes>"
      ]
     },
     "metadata": {},
     "output_type": "display_data"
    }
   ],
   "source": [
    "_ = players.hist(column=feature_columns, figsize=(16,14), layout=(7, 4), bins='sturges')\n",
    "plt.tight_layout()\n",
    "plt.show()"
   ]
  },
  {
   "cell_type": "markdown",
   "metadata": {},
   "source": [
    "We can perform the following considerations about the distribution of the features above:\n",
    "* The dataset contains mostly *\"second class\"* players, as we can see from all the features, bur particularly from the Level 1 and Level 2 *match count*.\n",
    "* The *ratio* features behaves in a *normal* distribution way, which is what we would expect.\n",
    "* A lot of players has no information regarding certain features, probably because of an insufficient number of matches."
   ]
  },
  {
   "cell_type": "markdown",
   "metadata": {},
   "source": [
    "### Outliers"
   ]
  },
  {
   "cell_type": "code",
   "execution_count": 104,
   "metadata": {},
   "outputs": [],
   "source": [
    "ratio_features = [x for x in feature_columns if 'ratio' in x]"
   ]
  },
  {
   "cell_type": "code",
   "execution_count": 106,
   "metadata": {},
   "outputs": [
    {
     "data": {
      "image/png": "[encoded data removed]",
      "text/plain": [
       "<Figure size 910x390 with 1 Axes>"
      ]
     },
     "metadata": {},
     "output_type": "display_data"
    }
   ],
   "source": [
    "plt.figure(figsize=(14, 6))\n",
    "sns.boxplot(data=players[ratio_features].dropna(), orient='h')\n",
    "pass"
   ]
  },
  {
   "cell_type": "markdown",
   "metadata": {},
   "source": [
    "Likewise, the features face an high number of outliers which, we are convinced (and spoiler: we are right) are due to the *low* number of matches that some player have, creating outliers in the ratio, however we prefer to deal with those player in the next task of clustering, where we are going to look to a <u>*threshold of a minimum number of matches which produces valid clusters*</u>."
   ]
  },
  {
   "cell_type": "code",
   "execution_count": 111,
   "metadata": {},
   "outputs": [
    {
     "data": {
      "image/png": "[encoded data removed]",
      "text/plain": [
       "<Figure size 650x260 with 1 Axes>"
      ]
     },
     "metadata": {},
     "output_type": "display_data"
    }
   ],
   "source": [
    "other_features = [x for x in feature_columns if x not in ratio_features and 'count' not in x]\n",
    "other_features.remove('mean_rank')\n",
    "sns.boxplot(data=players[other_features].dropna(), orient='h')\n",
    "pass"
   ]
  },
  {
   "cell_type": "markdown",
   "metadata": {},
   "source": [
    "### Correlation"
   ]
  },
  {
   "cell_type": "code",
   "execution_count": 112,
   "metadata": {},
   "outputs": [],
   "source": [
    "corr = players[feature_columns].corr()"
   ]
  },
  {
   "cell_type": "code",
   "execution_count": 113,
   "metadata": {},
   "outputs": [
    {
     "data": {
      "image/png": "[encoded data removed]",
      "text/plain": [
       "<Figure size 975x845 with 2 Axes>"
      ]
     },
     "metadata": {},
     "output_type": "display_data"
    }
   ],
   "source": [
    "# Generate a mask for the upper triangle\n",
    "mask = np.triu(np.ones_like(corr, dtype=bool))\n",
    "\n",
    "# Set up the matplotlib figure\n",
    "f, ax = plt.subplots(figsize=(15, 13))\n",
    "\n",
    "# Generate a custom diverging colormap\n",
    "cmap = sns.diverging_palette(230, 20, as_cmap=True)\n",
    "\n",
    "# Draw the heatmap with the mask and correct aspect ratio\n",
    "sns.heatmap(corr, mask=mask, cmap=cmap, center=0,\n",
    "            square=True, linewidths=.5, cbar_kws={\"shrink\": .5})\n",
    "\n",
    "plt.show()"
   ]
  },
  {
   "cell_type": "markdown",
   "metadata": {},
   "source": [
    "Top ten correlations:"
   ]
  },
  {
   "cell_type": "code",
   "execution_count": 114,
   "metadata": {},
   "outputs": [
    {
     "data": {
      "text/plain": [
       "ace_mean             ace_ratio            0.983544\n",
       "l1_sf_match_count    l1_f_match_count     0.953204\n",
       "sf_match_count       f_match_count        0.951102\n",
       "l2_f_match_count     l2_sf_match_count    0.944202\n",
       "ace_std              ace_mean             0.909564\n",
       "                     ace_ratio            0.905315\n",
       "df_mean              df_ratio             0.886422\n",
       "svpt_1st_fail_ratio  svpt_2nd_w_ratio     0.816305\n",
       "l2_tourney_count     l1_tourney_count     0.790924\n",
       "underdog_w_ratio     w_ratio              0.772857\n",
       "dtype: float64"
      ]
     },
     "execution_count": 114,
     "metadata": {},
     "output_type": "execute_result"
    }
   ],
   "source": [
    "corr_sorted = corr.unstack().sort_values(ascending=False)\n",
    "corr_sorted = corr_sorted[~corr_sorted.index.isin([(x, x) for x in corr.columns])].drop_duplicates() # removing the diagonal\n",
    "corr_sorted[:10]"
   ]
  },
  {
   "cell_type": "markdown",
   "metadata": {},
   "source": [
    "Lowest ten correlations:"
   ]
  },
  {
   "cell_type": "code",
   "execution_count": 115,
   "metadata": {},
   "outputs": [
    {
     "data": {
      "text/plain": [
       "bp_saved_ratio    df_ratio               -0.384565\n",
       "hard_w_ratio      clay_w_ratio           -0.452790\n",
       "mean_rank         underdog_w_ratio       -0.497514\n",
       "svpt_w_ratio      df_ratio               -0.518664\n",
       "mean_rank         f_match_count          -0.527582\n",
       "l2_tourney_count  mean_rank              -0.558895\n",
       "mean_rank         sf_match_count         -0.572421\n",
       "                  w_ratio                -0.601479\n",
       "                  l1_tourney_count       -0.614439\n",
       "                  underdog_match_count   -0.685963\n",
       "dtype: float64"
      ]
     },
     "execution_count": 115,
     "metadata": {},
     "output_type": "execute_result"
    }
   ],
   "source": [
    "corr_sorted[-10:]"
   ]
  },
  {
   "cell_type": "markdown",
   "metadata": {},
   "source": [
    "Highly uncorrelated features."
   ]
  },
  {
   "cell_type": "code",
   "execution_count": 116,
   "metadata": {},
   "outputs": [
    {
     "data": {
      "text/plain": [
       "ace_ratio          f_match_count        0.009834\n",
       "df_ratio           hard_w_ratio         0.009593\n",
       "bp_w_ratio         l1_sf_match_count    0.008618\n",
       "df_std             l2_sf_match_count    0.008096\n",
       "f_match_count      ace_std              0.007918\n",
       "svpt_2nd_w_ratio   clay_w_ratio         0.005908\n",
       "l2_tourney_count   clay_w_ratio         0.005371\n",
       "l2_f_match_count   df_std               0.004659\n",
       "bp_w_ratio         df_ratio             0.003774\n",
       "df_std             bp_w_ratio           0.003745\n",
       "ace_ratio          sf_match_count       0.003036\n",
       "ace_std            sf_match_count       0.002202\n",
       "hard_w_ratio       bp_w_ratio           0.001286\n",
       "bp_w_ratio         clay_w_ratio         0.000041\n",
       "df_ratio           clay_w_ratio        -0.001878\n",
       "l1_sf_match_count  df_std              -0.006519\n",
       "clay_w_ratio       l1_tourney_count    -0.008637\n",
       "df_std             l1_f_match_count    -0.009557\n",
       "l2_tourney_count   bp_w_ratio          -0.009971\n",
       "dtype: float64"
      ]
     },
     "execution_count": 116,
     "metadata": {},
     "output_type": "execute_result"
    }
   ],
   "source": [
    "corr_sorted[(corr_sorted > -0.01) & (corr_sorted < 0.01)]"
   ]
  },
  {
   "cell_type": "markdown",
   "metadata": {},
   "source": [
    "---\n",
    "\n",
    "# ( Exporting dataframes for Task 2 )"
   ]
  },
  {
   "cell_type": "code",
   "execution_count": 211,
   "metadata": {},
   "outputs": [],
   "source": [
    "players.to_pickle('./dataset/final_players.pkl')\n",
    "tourneys_sex_df.to_pickle('./dataset/final_tourneys_sex.pkl')\n",
    "tourneys_df.to_pickle('./dataset/final_tourneys.pkl')\n",
    "df.to_pickle('./dataset/final_matches.pkl')"
   ]
  }
 ],
 "metadata": {
  "interpreter": {
   "hash": "e7370f93d1d0cde622a1f8e1c04877d8463912d04d973331ad4851f04de6915a"
  },
  "kernelspec": {
   "display_name": "Python 3.9.7 64-bit",
   "language": "python",
   "name": "python3"
  },
  "language_info": {
   "codemirror_mode": {
    "name": "ipython",
    "version": 3
   },
   "file_extension": ".py",
   "mimetype": "text/x-python",
   "name": "python",
   "nbconvert_exporter": "python",
   "pygments_lexer": "ipython3",
   "version": "3.9.7"
  },
  "orig_nbformat": 4
 },
 "nbformat": 4,
 "nbformat_minor": 2
}
