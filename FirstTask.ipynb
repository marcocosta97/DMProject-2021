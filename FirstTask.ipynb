{
  "nbformat": 4,
  "nbformat_minor": 0,
  "metadata": {
    "colab": {
      "name": "FirstTask",
      "provenance": [],
      "collapsed_sections": [],
      "toc_visible": true
    },
    "kernelspec": {
      "name": "python3",
      "display_name": "Python 3"
    },
    "language_info": {
      "name": "python"
    }
  },
  "cells": [
    {
      "cell_type": "code",
      "metadata": {
        "id": "Z55HA8_Nd1-N"
      },
      "source": [
        "%matplotlib inline\n",
        "import math\n",
        "import numpy as np\n",
        "import pandas as pd\n",
        "import scipy.stats as stats\n",
        "import matplotlib.pyplot as plt\n",
        "\n",
        "from collections import defaultdict\n",
        "from scipy.stats.stats import pearsonr"
      ],
      "execution_count": null,
      "outputs": []
    },
    {
      "cell_type": "code",
      "metadata": {
        "id": "m_IbpeGsd2Ex"
      },
      "source": [
        "dataset = pd.read_csv('https://raw.githubusercontent.com/mcdeldams/DMProject-2021/main/dataset/male_players.csv', sep=',')\n",
        "#dataset = pd.read_csv('https://raw.githubusercontent.com/mcdeldams/DMProject-2021/main/dataset/female_players.csv', sep=',')\n",
        "#dataset = pd.read_csv('https://raw.githubusercontent.com/mcdeldams/DMProject-2021/main/dataset/tennis_matches.csv', sep=',')\n",
        "dataset"
      ],
      "execution_count": null,
      "outputs": []
    },
    {
      "cell_type": "code",
      "metadata": {
        "id": "Zw5VSaZbd_dd"
      },
      "source": [
        "dataset.dtypes"
      ],
      "execution_count": null,
      "outputs": []
    }
  ]
}